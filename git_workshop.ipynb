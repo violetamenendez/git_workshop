{
  "nbformat": 4,
  "nbformat_minor": 0,
  "metadata": {
    "colab": {
      "provenance": [],
      "toc_visible": true,
      "authorship_tag": "ABX9TyMvktdSut47GbaxV0hcCxwP",
      "include_colab_link": true
    },
    "kernelspec": {
      "name": "python3",
      "display_name": "Python 3"
    },
    "language_info": {
      "name": "python"
    }
  },
  "cells": [
    {
      "cell_type": "markdown",
      "metadata": {
        "id": "view-in-github",
        "colab_type": "text"
      },
      "source": [
        "<a href=\"https://colab.research.google.com/github/violetamenendez/git_workshop/blob/main/git_workshop.ipynb\" target=\"_parent\"><img src=\"https://colab.research.google.com/assets/colab-badge.svg\" alt=\"Open In Colab\"/></a>"
      ]
    },
    {
      "cell_type": "markdown",
      "source": [
        "![mmh_logo_banner.png](data:image/png;base64,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)"
      ],
      "metadata": {
        "id": "xZpWQjdzgY-w"
      }
    },
    {
      "cell_type": "markdown",
      "source": [
        "# git secret sauce\n",
        "\n",
        "Welcome to the January 2023 edition of the Monthly Mini Hacks, and the second edition of this Git workshop.\n",
        "\n",
        "We will learn the basics of git commands and git workflow. We will try to go deeper into some concepts and some more advance commands that will make your life easier. We will also try to cover some basic usage of github as a git service for code sharing and collaborating.\n",
        "\n",
        "This notebook is meant to be an interactive interface for our workshop demos. You can see the previous workshop slides here: https://f1000research.com/slides/11-586 "
      ],
      "metadata": {
        "id": "qVIdgxxrSPmo"
      }
    },
    {
      "cell_type": "markdown",
      "source": [
        "## Demo 1: Starting a repo"
      ],
      "metadata": {
        "id": "Jpg-2UGGvtiL"
      }
    },
    {
      "cell_type": "code",
      "execution_count": 1,
      "metadata": {
        "colab": {
          "base_uri": "https://localhost:8080/"
        },
        "id": "AuXULPRDRbS1",
        "outputId": "3a3b90f5-64f0-4cfa-fb48-3c01f5cb3d09"
      },
      "outputs": [
        {
          "output_type": "stream",
          "name": "stdout",
          "text": [
            "git version 2.25.1\n"
          ]
        }
      ],
      "source": [
        "!git --version"
      ]
    },
    {
      "cell_type": "code",
      "source": [
        "!git config user.name\n",
        "!git config user.email"
      ],
      "metadata": {
        "id": "X78QrPDxjUc1"
      },
      "execution_count": 2,
      "outputs": []
    },
    {
      "cell_type": "code",
      "source": [
        "!git config --global user.email \"jan.minihack@mmh.com\"\n",
        "\n",
        "!git config --global user.name \"Jan M. Minihack\""
      ],
      "metadata": {
        "id": "16Q88G25ipQs"
      },
      "execution_count": 3,
      "outputs": []
    },
    {
      "cell_type": "code",
      "source": [
        "!git config user.name\n",
        "!git config user.email"
      ],
      "metadata": {
        "colab": {
          "base_uri": "https://localhost:8080/"
        },
        "id": "8eIrlXRMjl2A",
        "outputId": "cddffb31-9e1b-4c6a-db99-f61f1087b72f"
      },
      "execution_count": 4,
      "outputs": [
        {
          "output_type": "stream",
          "name": "stdout",
          "text": [
            "Jan M. Minihack\n",
            "jan.minihack@mmh.com\n"
          ]
        }
      ]
    },
    {
      "cell_type": "code",
      "source": [
        "!git config --list"
      ],
      "metadata": {
        "colab": {
          "base_uri": "https://localhost:8080/"
        },
        "id": "jatiXMitkGdg",
        "outputId": "c56bf85b-cbf3-4a71-e433-aad67d1f9795"
      },
      "execution_count": 5,
      "outputs": [
        {
          "output_type": "stream",
          "name": "stdout",
          "text": [
            "filter.lfs.clean=git-lfs clean -- %f\n",
            "filter.lfs.smudge=git-lfs smudge -- %f\n",
            "filter.lfs.process=git-lfs filter-process\n",
            "filter.lfs.required=true\n",
            "user.email=jan.minihack@mmh.com\n",
            "user.name=Jan M. Minihack\n"
          ]
        }
      ]
    },
    {
      "cell_type": "code",
      "source": [
        "!mkdir git_workshop\n",
        "%cd git_workshop"
      ],
      "metadata": {
        "colab": {
          "base_uri": "https://localhost:8080/"
        },
        "id": "Ju1I76c9FlUt",
        "outputId": "6593af95-7092-47bb-810e-6c24f8803046"
      },
      "execution_count": 6,
      "outputs": [
        {
          "output_type": "stream",
          "name": "stdout",
          "text": [
            "/content/git_workshop\n"
          ]
        }
      ]
    },
    {
      "cell_type": "code",
      "source": [
        "!git init"
      ],
      "metadata": {
        "colab": {
          "base_uri": "https://localhost:8080/"
        },
        "id": "sIdVxB6soUok",
        "outputId": "55422e0a-c318-4ba5-e677-c0ac7e49bc02"
      },
      "execution_count": 7,
      "outputs": [
        {
          "output_type": "stream",
          "name": "stdout",
          "text": [
            "Initialized empty Git repository in /content/git_workshop/.git/\n"
          ]
        }
      ]
    },
    {
      "cell_type": "code",
      "source": [
        "!git status"
      ],
      "metadata": {
        "colab": {
          "base_uri": "https://localhost:8080/"
        },
        "id": "Xo4auRe-t5GX",
        "outputId": "d69c7951-7eaa-4e61-ba57-0de55a35ee2d"
      },
      "execution_count": 8,
      "outputs": [
        {
          "output_type": "stream",
          "name": "stdout",
          "text": [
            "On branch master\n",
            "\n",
            "No commits yet\n",
            "\n",
            "nothing to commit (create/copy files and use \"git add\" to track)\n"
          ]
        }
      ]
    },
    {
      "cell_type": "code",
      "source": [
        "!echo \"print('Hello world')\" > hello.py\n",
        "!cat hello.py"
      ],
      "metadata": {
        "colab": {
          "base_uri": "https://localhost:8080/"
        },
        "id": "KFxHSM0zt32g",
        "outputId": "7153d5a6-b04f-4597-815a-57bc86abd9c1"
      },
      "execution_count": 9,
      "outputs": [
        {
          "output_type": "stream",
          "name": "stdout",
          "text": [
            "print('Hello world')\n"
          ]
        }
      ]
    },
    {
      "cell_type": "code",
      "source": [
        "!git status"
      ],
      "metadata": {
        "colab": {
          "base_uri": "https://localhost:8080/"
        },
        "id": "nSO1HRwxpBP2",
        "outputId": "7ae14900-2d87-47d7-e0a5-27a33554f387"
      },
      "execution_count": 10,
      "outputs": [
        {
          "output_type": "stream",
          "name": "stdout",
          "text": [
            "On branch master\n",
            "\n",
            "No commits yet\n",
            "\n",
            "Untracked files:\n",
            "  (use \"git add <file>...\" to include in what will be committed)\n",
            "\t\u001b[31mhello.py\u001b[m\n",
            "\n",
            "nothing added to commit but untracked files present (use \"git add\" to track)\n"
          ]
        }
      ]
    },
    {
      "cell_type": "code",
      "source": [
        "!git diff"
      ],
      "metadata": {
        "id": "MwlyLwmepetB"
      },
      "execution_count": 11,
      "outputs": []
    },
    {
      "cell_type": "code",
      "source": [
        "!git add hello.py"
      ],
      "metadata": {
        "id": "Opj3fgTrpZ7l"
      },
      "execution_count": 12,
      "outputs": []
    },
    {
      "cell_type": "code",
      "source": [
        "!git status"
      ],
      "metadata": {
        "colab": {
          "base_uri": "https://localhost:8080/"
        },
        "id": "r9EsOR3ApiXC",
        "outputId": "935b715e-1eec-4d3a-883c-f0063a6eade6"
      },
      "execution_count": 13,
      "outputs": [
        {
          "output_type": "stream",
          "name": "stdout",
          "text": [
            "On branch master\n",
            "\n",
            "No commits yet\n",
            "\n",
            "Changes to be committed:\n",
            "  (use \"git rm --cached <file>...\" to unstage)\n",
            "\t\u001b[32mnew file:   hello.py\u001b[m\n",
            "\n"
          ]
        }
      ]
    },
    {
      "cell_type": "code",
      "source": [
        "!git diff --cached"
      ],
      "metadata": {
        "colab": {
          "base_uri": "https://localhost:8080/"
        },
        "id": "mcsEDB_UpoYl",
        "outputId": "8c2175d5-fe2b-42ff-a9c2-aed667dd3982"
      },
      "execution_count": 14,
      "outputs": [
        {
          "output_type": "stream",
          "name": "stdout",
          "text": [
            "\u001b[1mdiff --git a/hello.py b/hello.py\u001b[m\n",
            "\u001b[1mnew file mode 100644\u001b[m\n",
            "\u001b[1mindex 0000000..f7d1785\u001b[m\n",
            "\u001b[1m--- /dev/null\u001b[m\n",
            "\u001b[1m+++ b/hello.py\u001b[m\n",
            "\u001b[36m@@ -0,0 +1 @@\u001b[m\n",
            "\u001b[32m+\u001b[m\u001b[32mprint('Hello world')\u001b[m\n"
          ]
        }
      ]
    },
    {
      "cell_type": "code",
      "source": [
        "!git commit -m \"Add hello world\""
      ],
      "metadata": {
        "colab": {
          "base_uri": "https://localhost:8080/"
        },
        "id": "8rUJ3fWgp1fQ",
        "outputId": "aa7005a4-6ec7-41eb-c106-6c3f285709e4"
      },
      "execution_count": 15,
      "outputs": [
        {
          "output_type": "stream",
          "name": "stdout",
          "text": [
            "[master (root-commit) a1f6079] Add hello world\n",
            " 1 file changed, 1 insertion(+)\n",
            " create mode 100644 hello.py\n"
          ]
        }
      ]
    },
    {
      "cell_type": "code",
      "source": [
        "!git status"
      ],
      "metadata": {
        "colab": {
          "base_uri": "https://localhost:8080/"
        },
        "id": "pY6L-9lxp7Jz",
        "outputId": "b7fc638f-3f72-4dce-866c-bf8fa8ea55c9"
      },
      "execution_count": 16,
      "outputs": [
        {
          "output_type": "stream",
          "name": "stdout",
          "text": [
            "On branch master\n",
            "nothing to commit, working tree clean\n"
          ]
        }
      ]
    },
    {
      "cell_type": "code",
      "source": [
        "!git log"
      ],
      "metadata": {
        "colab": {
          "base_uri": "https://localhost:8080/"
        },
        "id": "oP5RnIk_qAXF",
        "outputId": "9ee76f7c-fe33-4697-80ca-8d3e19ebefd3"
      },
      "execution_count": 17,
      "outputs": [
        {
          "output_type": "stream",
          "name": "stdout",
          "text": [
            "\u001b[33mcommit a1f6079cce14fc36038d83daf65a680b149a2de8\u001b[m\u001b[33m (\u001b[m\u001b[1;36mHEAD -> \u001b[m\u001b[1;32mmaster\u001b[m\u001b[33m)\u001b[m\n",
            "Author: Jan M. Minihack <jan.minihack@mmh.com>\n",
            "Date:   Fri Jan 27 11:08:20 2023 +0000\n",
            "\n",
            "    Add hello world\n"
          ]
        }
      ]
    },
    {
      "cell_type": "code",
      "source": [
        "!git log -p"
      ],
      "metadata": {
        "colab": {
          "base_uri": "https://localhost:8080/"
        },
        "id": "B7jd-vpXqFi_",
        "outputId": "1567bbaf-b68e-4c18-d467-4ad049f0d1a3"
      },
      "execution_count": 18,
      "outputs": [
        {
          "output_type": "stream",
          "name": "stdout",
          "text": [
            "\u001b[33mcommit a1f6079cce14fc36038d83daf65a680b149a2de8\u001b[m\u001b[33m (\u001b[m\u001b[1;36mHEAD -> \u001b[m\u001b[1;32mmaster\u001b[m\u001b[33m)\u001b[m\n",
            "Author: Jan M. Minihack <jan.minihack@mmh.com>\n",
            "Date:   Fri Jan 27 11:08:20 2023 +0000\n",
            "\n",
            "    Add hello world\n",
            "\n",
            "\u001b[1mdiff --git a/hello.py b/hello.py\u001b[m\n",
            "\u001b[1mnew file mode 100644\u001b[m\n",
            "\u001b[1mindex 0000000..f7d1785\u001b[m\n",
            "\u001b[1m--- /dev/null\u001b[m\n",
            "\u001b[1m+++ b/hello.py\u001b[m\n",
            "\u001b[36m@@ -0,0 +1 @@\u001b[m\n",
            "\u001b[32m+\u001b[m\u001b[32mprint('Hello world')\u001b[m\n"
          ]
        }
      ]
    },
    {
      "cell_type": "code",
      "source": [
        "!git log --stat"
      ],
      "metadata": {
        "colab": {
          "base_uri": "https://localhost:8080/"
        },
        "id": "6TYTGKF-qNS2",
        "outputId": "b5489d2b-5cd2-4ce9-b6c8-d2bedfb06bd9"
      },
      "execution_count": 19,
      "outputs": [
        {
          "output_type": "stream",
          "name": "stdout",
          "text": [
            "\u001b[33mcommit a1f6079cce14fc36038d83daf65a680b149a2de8\u001b[m\u001b[33m (\u001b[m\u001b[1;36mHEAD -> \u001b[m\u001b[1;32mmaster\u001b[m\u001b[33m)\u001b[m\n",
            "Author: Jan M. Minihack <jan.minihack@mmh.com>\n",
            "Date:   Fri Jan 27 11:08:20 2023 +0000\n",
            "\n",
            "    Add hello world\n",
            "\n",
            " hello.py | 1 \u001b[32m+\u001b[m\n",
            " 1 file changed, 1 insertion(+)\n"
          ]
        }
      ]
    },
    {
      "cell_type": "code",
      "source": [
        "!git log --oneline"
      ],
      "metadata": {
        "colab": {
          "base_uri": "https://localhost:8080/"
        },
        "id": "21if9WNAqH0W",
        "outputId": "49d76443-d42d-44cb-e6bf-c2a5c5d3915f"
      },
      "execution_count": 20,
      "outputs": [
        {
          "output_type": "stream",
          "name": "stdout",
          "text": [
            "\u001b[33ma1f6079\u001b[m\u001b[33m (\u001b[m\u001b[1;36mHEAD -> \u001b[m\u001b[1;32mmaster\u001b[m\u001b[33m)\u001b[m Add hello world\n"
          ]
        }
      ]
    },
    {
      "cell_type": "code",
      "source": [
        "\n",
        "!git show HEAD"
      ],
      "metadata": {
        "colab": {
          "base_uri": "https://localhost:8080/"
        },
        "id": "hqiiy31nqXAR",
        "outputId": "54a49c5d-dbba-4302-f5f5-ec09f3311012"
      },
      "execution_count": 21,
      "outputs": [
        {
          "output_type": "stream",
          "name": "stdout",
          "text": [
            "\u001b[33mcommit a1f6079cce14fc36038d83daf65a680b149a2de8\u001b[m\u001b[33m (\u001b[m\u001b[1;36mHEAD -> \u001b[m\u001b[1;32mmaster\u001b[m\u001b[33m)\u001b[m\n",
            "Author: Jan M. Minihack <jan.minihack@mmh.com>\n",
            "Date:   Fri Jan 27 11:08:20 2023 +0000\n",
            "\n",
            "    Add hello world\n",
            "\n",
            "\u001b[1mdiff --git a/hello.py b/hello.py\u001b[m\n",
            "\u001b[1mnew file mode 100644\u001b[m\n",
            "\u001b[1mindex 0000000..f7d1785\u001b[m\n",
            "\u001b[1m--- /dev/null\u001b[m\n",
            "\u001b[1m+++ b/hello.py\u001b[m\n",
            "\u001b[36m@@ -0,0 +1 @@\u001b[m\n",
            "\u001b[32m+\u001b[m\u001b[32mprint('Hello world')\u001b[m\n"
          ]
        }
      ]
    },
    {
      "cell_type": "code",
      "source": [
        "!sed -i '$s/$/\\n\\nprint(\"and goodbye\"/' hello.py\n",
        "!cat hello.py"
      ],
      "metadata": {
        "colab": {
          "base_uri": "https://localhost:8080/"
        },
        "id": "2d8k1UF7tC8g",
        "outputId": "2670c696-83d4-4d0a-f959-2a400d5ce426"
      },
      "execution_count": 22,
      "outputs": [
        {
          "output_type": "stream",
          "name": "stdout",
          "text": [
            "print('Hello world')\n",
            "\n",
            "print(\"and goodbye\"\n"
          ]
        }
      ]
    },
    {
      "cell_type": "code",
      "source": [
        "!git status"
      ],
      "metadata": {
        "colab": {
          "base_uri": "https://localhost:8080/"
        },
        "id": "za0rCo1WGUSx",
        "outputId": "b37bb4f8-fb67-49cb-c81f-0c77831769d7"
      },
      "execution_count": 23,
      "outputs": [
        {
          "output_type": "stream",
          "name": "stdout",
          "text": [
            "On branch master\n",
            "Changes not staged for commit:\n",
            "  (use \"git add <file>...\" to update what will be committed)\n",
            "  (use \"git restore <file>...\" to discard changes in working directory)\n",
            "\t\u001b[31mmodified:   hello.py\u001b[m\n",
            "\n",
            "no changes added to commit (use \"git add\" and/or \"git commit -a\")\n"
          ]
        }
      ]
    },
    {
      "cell_type": "code",
      "source": [
        "!git diff"
      ],
      "metadata": {
        "colab": {
          "base_uri": "https://localhost:8080/"
        },
        "id": "sh7c92OdGXFJ",
        "outputId": "0ea45316-8343-42b3-92fd-d50298e8ea10"
      },
      "execution_count": 24,
      "outputs": [
        {
          "output_type": "stream",
          "name": "stdout",
          "text": [
            "\u001b[1mdiff --git a/hello.py b/hello.py\u001b[m\n",
            "\u001b[1mindex f7d1785..773323c 100644\u001b[m\n",
            "\u001b[1m--- a/hello.py\u001b[m\n",
            "\u001b[1m+++ b/hello.py\u001b[m\n",
            "\u001b[36m@@ -1 +1,3 @@\u001b[m\n",
            " print('Hello world')\u001b[m\n",
            "\u001b[32m+\u001b[m\n",
            "\u001b[32m+\u001b[m\u001b[32mprint(\"and goodbye\"\u001b[m\n"
          ]
        }
      ]
    },
    {
      "cell_type": "code",
      "source": [
        "!sed -i \"1s/^/print('Hey!!')\\n/\" hello.py"
      ],
      "metadata": {
        "id": "jC5UurCkG0zS"
      },
      "execution_count": 25,
      "outputs": []
    },
    {
      "cell_type": "code",
      "source": [
        "!git diff"
      ],
      "metadata": {
        "colab": {
          "base_uri": "https://localhost:8080/"
        },
        "id": "G03hJAZWHBOh",
        "outputId": "f77037ad-f733-494b-8257-9312528c1411"
      },
      "execution_count": 26,
      "outputs": [
        {
          "output_type": "stream",
          "name": "stdout",
          "text": [
            "\u001b[1mdiff --git a/hello.py b/hello.py\u001b[m\n",
            "\u001b[1mindex f7d1785..99a7853 100644\u001b[m\n",
            "\u001b[1m--- a/hello.py\u001b[m\n",
            "\u001b[1m+++ b/hello.py\u001b[m\n",
            "\u001b[36m@@ -1 +1,4 @@\u001b[m\n",
            "\u001b[32m+\u001b[m\u001b[32mprint('Hey!!')\u001b[m\n",
            " print('Hello world')\u001b[m\n",
            "\u001b[32m+\u001b[m\n",
            "\u001b[32m+\u001b[m\u001b[32mprint(\"and goodbye\"\u001b[m\n"
          ]
        }
      ]
    },
    {
      "cell_type": "code",
      "source": [
        "!git add -p"
      ],
      "metadata": {
        "colab": {
          "base_uri": "https://localhost:8080/"
        },
        "id": "xpBUdd2Bu_T3",
        "outputId": "4f40902f-595d-4e48-83d4-6a95287ef7b2"
      },
      "execution_count": 27,
      "outputs": [
        {
          "output_type": "stream",
          "name": "stdout",
          "text": [
            "\u001b[1mdiff --git a/hello.py b/hello.py\u001b[m\n",
            "\u001b[1mindex f7d1785..99a7853 100644\u001b[m\n",
            "\u001b[1m--- a/hello.py\u001b[m\n",
            "\u001b[1m+++ b/hello.py\u001b[m\n",
            "\u001b[36m@@ -1 +1,4 @@\u001b[m\n",
            "\u001b[32m+\u001b[m\u001b[32mprint('Hey!!')\u001b[m\n",
            " print('Hello world')\u001b[m\n",
            "\u001b[32m+\u001b[m\n",
            "\u001b[32m+\u001b[m\u001b[32mprint(\"and goodbye\"\u001b[m\n",
            "\u001b[1;34m(1/1) Stage this hunk [y,n,q,a,d,s,e,?]? \u001b[ms\n",
            "\u001b[1mSplit into 2 hunks.\u001b[m\n",
            "\u001b[36m@@ -1 +1,2 @@\u001b[m\n",
            "\u001b[32m+\u001b[m\u001b[32mprint('Hey!!')\u001b[m\n",
            " print('Hello world')\u001b[m\n",
            "\u001b[1;34m(1/2) Stage this hunk [y,n,q,a,d,j,J,g,/,e,?]? \u001b[mn\n",
            "\u001b[36m@@ -1 +2,3 @@\u001b[m\n",
            " print('Hello world')\u001b[m\n",
            "\u001b[32m+\u001b[m\n",
            "\u001b[32m+\u001b[m\u001b[32mprint(\"and goodbye\"\u001b[m\n",
            "\u001b[1;34m(2/2) Stage this hunk [y,n,q,a,d,K,g,/,e,?]? \u001b[my\n",
            "\n"
          ]
        }
      ]
    },
    {
      "cell_type": "code",
      "source": [
        "!git status"
      ],
      "metadata": {
        "colab": {
          "base_uri": "https://localhost:8080/"
        },
        "id": "3jlK7po5HaQI",
        "outputId": "25c04402-4291-4355-8eba-90456598e28b"
      },
      "execution_count": 28,
      "outputs": [
        {
          "output_type": "stream",
          "name": "stdout",
          "text": [
            "On branch master\n",
            "Changes to be committed:\n",
            "  (use \"git restore --staged <file>...\" to unstage)\n",
            "\t\u001b[32mmodified:   hello.py\u001b[m\n",
            "\n",
            "Changes not staged for commit:\n",
            "  (use \"git add <file>...\" to update what will be committed)\n",
            "  (use \"git restore <file>...\" to discard changes in working directory)\n",
            "\t\u001b[31mmodified:   hello.py\u001b[m\n",
            "\n"
          ]
        }
      ]
    },
    {
      "cell_type": "code",
      "source": [
        "!git diff"
      ],
      "metadata": {
        "colab": {
          "base_uri": "https://localhost:8080/"
        },
        "id": "-5EaYY3mHc19",
        "outputId": "b6f1fa6d-3802-487e-df1d-f996e166decb"
      },
      "execution_count": 29,
      "outputs": [
        {
          "output_type": "stream",
          "name": "stdout",
          "text": [
            "\u001b[1mdiff --git a/hello.py b/hello.py\u001b[m\n",
            "\u001b[1mindex 773323c..99a7853 100644\u001b[m\n",
            "\u001b[1m--- a/hello.py\u001b[m\n",
            "\u001b[1m+++ b/hello.py\u001b[m\n",
            "\u001b[36m@@ -1,3 +1,4 @@\u001b[m\n",
            "\u001b[32m+\u001b[m\u001b[32mprint('Hey!!')\u001b[m\n",
            " print('Hello world')\u001b[m\n",
            " \u001b[m\n",
            " print(\"and goodbye\"\u001b[m\n"
          ]
        }
      ]
    },
    {
      "cell_type": "code",
      "source": [
        "!git diff --staged"
      ],
      "metadata": {
        "colab": {
          "base_uri": "https://localhost:8080/"
        },
        "id": "gn1pq9MVHfcW",
        "outputId": "ce465128-7b5e-4737-a356-c52fa921a1b1"
      },
      "execution_count": 30,
      "outputs": [
        {
          "output_type": "stream",
          "name": "stdout",
          "text": [
            "\u001b[1mdiff --git a/hello.py b/hello.py\u001b[m\n",
            "\u001b[1mindex f7d1785..773323c 100644\u001b[m\n",
            "\u001b[1m--- a/hello.py\u001b[m\n",
            "\u001b[1m+++ b/hello.py\u001b[m\n",
            "\u001b[36m@@ -1 +1,3 @@\u001b[m\n",
            " print('Hello world')\u001b[m\n",
            "\u001b[32m+\u001b[m\n",
            "\u001b[32m+\u001b[m\u001b[32mprint(\"and goodbye\"\u001b[m\n"
          ]
        }
      ]
    },
    {
      "cell_type": "code",
      "source": [
        "!git commit -m \"Add farewell\""
      ],
      "metadata": {
        "colab": {
          "base_uri": "https://localhost:8080/"
        },
        "id": "GEj7aDo4Hl5S",
        "outputId": "b1414077-5a42-4fba-d456-1e399aeae31c"
      },
      "execution_count": 31,
      "outputs": [
        {
          "output_type": "stream",
          "name": "stdout",
          "text": [
            "[master a6910a4] Add farewell\n",
            " 1 file changed, 2 insertions(+)\n"
          ]
        }
      ]
    },
    {
      "cell_type": "code",
      "source": [
        "!git log -p"
      ],
      "metadata": {
        "colab": {
          "base_uri": "https://localhost:8080/"
        },
        "id": "qfBKAK0rHo-t",
        "outputId": "b1829d28-a6f7-4e39-c672-5a9179bcdca5"
      },
      "execution_count": 32,
      "outputs": [
        {
          "output_type": "stream",
          "name": "stdout",
          "text": [
            "\u001b[33mcommit a6910a4dbbe04d672f7039027526f6afb0dffc31\u001b[m\u001b[33m (\u001b[m\u001b[1;36mHEAD -> \u001b[m\u001b[1;32mmaster\u001b[m\u001b[33m)\u001b[m\n",
            "Author: Jan M. Minihack <jan.minihack@mmh.com>\n",
            "Date:   Fri Jan 27 11:08:31 2023 +0000\n",
            "\n",
            "    Add farewell\n",
            "\n",
            "\u001b[1mdiff --git a/hello.py b/hello.py\u001b[m\n",
            "\u001b[1mindex f7d1785..773323c 100644\u001b[m\n",
            "\u001b[1m--- a/hello.py\u001b[m\n",
            "\u001b[1m+++ b/hello.py\u001b[m\n",
            "\u001b[36m@@ -1 +1,3 @@\u001b[m\n",
            " print('Hello world')\u001b[m\n",
            "\u001b[32m+\u001b[m\n",
            "\u001b[32m+\u001b[m\u001b[32mprint(\"and goodbye\"\u001b[m\n",
            "\n",
            "\u001b[33mcommit a1f6079cce14fc36038d83daf65a680b149a2de8\u001b[m\n",
            "Author: Jan M. Minihack <jan.minihack@mmh.com>\n",
            "Date:   Fri Jan 27 11:08:20 2023 +0000\n",
            "\n",
            "    Add hello world\n",
            "\n",
            "\u001b[1mdiff --git a/hello.py b/hello.py\u001b[m\n",
            "\u001b[1mnew file mode 100644\u001b[m\n",
            "\u001b[1mindex 0000000..f7d1785\u001b[m\n",
            "\u001b[1m--- /dev/null\u001b[m\n",
            "\u001b[1m+++ b/hello.py\u001b[m\n",
            "\u001b[36m@@ -0,0 +1 @@\u001b[m\n",
            "\u001b[32m+\u001b[m\u001b[32mprint('Hello world')\u001b[m\n"
          ]
        }
      ]
    },
    {
      "cell_type": "code",
      "source": [
        "!sed -i '$s/$/)/' hello.py\n",
        "!cat hello.py"
      ],
      "metadata": {
        "colab": {
          "base_uri": "https://localhost:8080/"
        },
        "id": "Al9ar6FhONaK",
        "outputId": "a54d2301-2e7a-4426-eb96-ae93a5b2cd52"
      },
      "execution_count": 33,
      "outputs": [
        {
          "output_type": "stream",
          "name": "stdout",
          "text": [
            "print('Hey!!')\n",
            "print('Hello world')\n",
            "\n",
            "print(\"and goodbye\")\n"
          ]
        }
      ]
    },
    {
      "cell_type": "code",
      "source": [
        "!git add -p"
      ],
      "metadata": {
        "colab": {
          "base_uri": "https://localhost:8080/"
        },
        "id": "3WY5VwQTOXkz",
        "outputId": "8581f73d-dcba-42e0-92e8-da4d2808a31a"
      },
      "execution_count": 34,
      "outputs": [
        {
          "output_type": "stream",
          "name": "stdout",
          "text": [
            "\u001b[1mdiff --git a/hello.py b/hello.py\u001b[m\n",
            "\u001b[1mindex 773323c..daaca5d 100644\u001b[m\n",
            "\u001b[1m--- a/hello.py\u001b[m\n",
            "\u001b[1m+++ b/hello.py\u001b[m\n",
            "\u001b[36m@@ -1,3 +1,4 @@\u001b[m\n",
            "\u001b[32m+\u001b[m\u001b[32mprint('Hey!!')\u001b[m\n",
            " print('Hello world')\u001b[m\n",
            " \u001b[m\n",
            "\u001b[31m-print(\"and goodbye\"\u001b[m\n",
            "\u001b[32m+\u001b[m\u001b[32mprint(\"and goodbye\")\u001b[m\n",
            "\u001b[1;34m(1/1) Stage this hunk [y,n,q,a,d,s,e,?]? \u001b[ms\n",
            "\u001b[1mSplit into 2 hunks.\u001b[m\n",
            "\u001b[36m@@ -1,2 +1,3 @@\u001b[m\n",
            "\u001b[32m+\u001b[m\u001b[32mprint('Hey!!')\u001b[m\n",
            " print('Hello world')\u001b[m\n",
            " \u001b[m\n",
            "\u001b[1;34m(1/2) Stage this hunk [y,n,q,a,d,j,J,g,/,e,?]? \u001b[mn\n",
            "\u001b[36m@@ -1,3 +2,3 @@\u001b[m\n",
            " print('Hello world')\u001b[m\n",
            " \u001b[m\n",
            "\u001b[31m-print(\"and goodbye\"\u001b[m\n",
            "\u001b[32m+\u001b[m\u001b[32mprint(\"and goodbye\")\u001b[m\n",
            "\u001b[1;34m(2/2) Stage this hunk [y,n,q,a,d,K,g,/,e,?]? \u001b[my\n",
            "\n"
          ]
        }
      ]
    },
    {
      "cell_type": "code",
      "source": [
        "!git commit --amend"
      ],
      "metadata": {
        "colab": {
          "base_uri": "https://localhost:8080/"
        },
        "id": "TT5EjUN8OZR7",
        "outputId": "d1ea17f1-b89e-428d-87a0-672332bb3057"
      },
      "execution_count": 35,
      "outputs": [
        {
          "output_type": "stream",
          "name": "stdout",
          "text": [
            "<ontent/git_workshop/.git/COMMIT_EDITMSG\" 14L, 326C\u001b[2;1H▽\u001b[6n\u001b[2;1H  \u001b[1;1H\u001b[>c\u001b]10;?\u0007\u001b]11;?\u0007\u001b[1;1H\u001b[33mAdd farewell\u001b[m\n",
            "\n",
            "\u001b[34m# Please enter the commit message for your changes. Lines starting\n",
            "# with '#' will be ignored, and an empty message aborts the commit.\n",
            "#\n",
            "# Date:      Fri Jan 27 11:08:31 2023 +0000\n",
            "#\n",
            "# On branch \u001b[m\u001b[35mmaster\u001b[m\n",
            "\u001b[34m# \u001b[m\u001b[35mChanges to be committed:\u001b[m\n",
            "\u001b[34m#       \u001b[m\u001b[32mmodified\u001b[m\u001b[34m: \u001b[m\u001b[31m  hello.py\u001b[m\n",
            "\u001b[34m#\n",
            "# \u001b[m\u001b[35mChanges not staged for commit:\u001b[m\n",
            "\u001b[34m#       \u001b[m\u001b[32mmodified\u001b[m\u001b[34m: \u001b[m\u001b[31m  hello.py\u001b[m\n",
            "\u001b[34m#\u001b[m\n",
            "\u001b[23;2t\u001b[23;1t\n",
            "\u001b[K[master 8d96e5d] Add farewell\n",
            " Date: Fri Jan 27 11:08:31 2023 +0000\n",
            " 1 file changed, 2 insertions(+)\n"
          ]
        }
      ]
    },
    {
      "cell_type": "code",
      "source": [
        "!git log -p"
      ],
      "metadata": {
        "colab": {
          "base_uri": "https://localhost:8080/"
        },
        "id": "wbW5Th8KHzSX",
        "outputId": "3b86bf44-3a32-40ce-d98b-0ed93e7faa45"
      },
      "execution_count": 36,
      "outputs": [
        {
          "output_type": "stream",
          "name": "stdout",
          "text": [
            "\u001b[33mcommit 8d96e5de55d1a466799dfc63df13968ad318d7df\u001b[m\u001b[33m (\u001b[m\u001b[1;36mHEAD -> \u001b[m\u001b[1;32mmaster\u001b[m\u001b[33m)\u001b[m\n",
            "Author: Jan M. Minihack <jan.minihack@mmh.com>\n",
            "Date:   Fri Jan 27 11:08:31 2023 +0000\n",
            "\n",
            "    Add farewell\n",
            "\n",
            "\u001b[1mdiff --git a/hello.py b/hello.py\u001b[m\n",
            "\u001b[1mindex f7d1785..d826caf 100644\u001b[m\n",
            "\u001b[1m--- a/hello.py\u001b[m\n",
            "\u001b[1m+++ b/hello.py\u001b[m\n",
            "\u001b[36m@@ -1 +1,3 @@\u001b[m\n",
            " print('Hello world')\u001b[m\n",
            "\u001b[32m+\u001b[m\n",
            "\u001b[32m+\u001b[m\u001b[32mprint(\"and goodbye\")\u001b[m\n",
            "\n",
            "\u001b[33mcommit a1f6079cce14fc36038d83daf65a680b149a2de8\u001b[m\n",
            "Author: Jan M. Minihack <jan.minihack@mmh.com>\n",
            "Date:   Fri Jan 27 11:08:20 2023 +0000\n",
            "\n",
            "    Add hello world\n",
            "\n",
            "\u001b[1mdiff --git a/hello.py b/hello.py\u001b[m\n",
            "\u001b[1mnew file mode 100644\u001b[m\n",
            "\u001b[1mindex 0000000..f7d1785\u001b[m\n",
            "\u001b[1m--- /dev/null\u001b[m\n",
            "\u001b[1m+++ b/hello.py\u001b[m\n",
            "\u001b[36m@@ -0,0 +1 @@\u001b[m\n",
            "\u001b[32m+\u001b[m\u001b[32mprint('Hello world')\u001b[m\n"
          ]
        }
      ]
    },
    {
      "cell_type": "code",
      "source": [
        "!git status"
      ],
      "metadata": {
        "colab": {
          "base_uri": "https://localhost:8080/"
        },
        "id": "XTKV2cdR2UeL",
        "outputId": "19dc741a-d9dc-477e-c5bb-91d569b53440"
      },
      "execution_count": 37,
      "outputs": [
        {
          "output_type": "stream",
          "name": "stdout",
          "text": [
            "On branch master\n",
            "Changes not staged for commit:\n",
            "  (use \"git add <file>...\" to update what will be committed)\n",
            "  (use \"git restore <file>...\" to discard changes in working directory)\n",
            "\t\u001b[31mmodified:   hello.py\u001b[m\n",
            "\n",
            "no changes added to commit (use \"git add\" and/or \"git commit -a\")\n"
          ]
        }
      ]
    },
    {
      "cell_type": "code",
      "source": [
        "!git add -p"
      ],
      "metadata": {
        "colab": {
          "base_uri": "https://localhost:8080/"
        },
        "id": "I6S_wZeLP4nv",
        "outputId": "9681d52b-027d-470a-cc21-ae1b1ccb8b99"
      },
      "execution_count": 38,
      "outputs": [
        {
          "output_type": "stream",
          "name": "stdout",
          "text": [
            "\u001b[1mdiff --git a/hello.py b/hello.py\u001b[m\n",
            "\u001b[1mindex d826caf..daaca5d 100644\u001b[m\n",
            "\u001b[1m--- a/hello.py\u001b[m\n",
            "\u001b[1m+++ b/hello.py\u001b[m\n",
            "\u001b[36m@@ -1,3 +1,4 @@\u001b[m\n",
            "\u001b[32m+\u001b[m\u001b[32mprint('Hey!!')\u001b[m\n",
            " print('Hello world')\u001b[m\n",
            " \u001b[m\n",
            " print(\"and goodbye\")\u001b[m\n",
            "\u001b[1;34m(1/1) Stage this hunk [y,n,q,a,d,e,?]? \u001b[my\n",
            "\n"
          ]
        }
      ]
    },
    {
      "cell_type": "code",
      "source": [
        "!git status"
      ],
      "metadata": {
        "colab": {
          "base_uri": "https://localhost:8080/"
        },
        "id": "qARB8kV0P9dW",
        "outputId": "769717f2-6a07-47c3-85f2-3345300355aa"
      },
      "execution_count": 39,
      "outputs": [
        {
          "output_type": "stream",
          "name": "stdout",
          "text": [
            "On branch master\n",
            "Changes to be committed:\n",
            "  (use \"git restore --staged <file>...\" to unstage)\n",
            "\t\u001b[32mmodified:   hello.py\u001b[m\n",
            "\n"
          ]
        }
      ]
    },
    {
      "cell_type": "code",
      "source": [
        "!git restore --staged hello.py"
      ],
      "metadata": {
        "id": "ryjKiGiAQGjl"
      },
      "execution_count": 40,
      "outputs": []
    },
    {
      "cell_type": "code",
      "source": [
        "!git status"
      ],
      "metadata": {
        "colab": {
          "base_uri": "https://localhost:8080/"
        },
        "id": "xGd_MRBjQKgc",
        "outputId": "85d21cda-93f5-4b03-8713-63a041e3bd5d"
      },
      "execution_count": 41,
      "outputs": [
        {
          "output_type": "stream",
          "name": "stdout",
          "text": [
            "On branch master\n",
            "Changes not staged for commit:\n",
            "  (use \"git add <file>...\" to update what will be committed)\n",
            "  (use \"git restore <file>...\" to discard changes in working directory)\n",
            "\t\u001b[31mmodified:   hello.py\u001b[m\n",
            "\n",
            "no changes added to commit (use \"git add\" and/or \"git commit -a\")\n"
          ]
        }
      ]
    },
    {
      "cell_type": "code",
      "source": [
        "!git restore hello.py"
      ],
      "metadata": {
        "id": "bsGv-3nC2aLt"
      },
      "execution_count": 42,
      "outputs": []
    },
    {
      "cell_type": "code",
      "source": [
        "!git status"
      ],
      "metadata": {
        "colab": {
          "base_uri": "https://localhost:8080/"
        },
        "id": "hSaJyabN2dcx",
        "outputId": "e8c7f5cc-736d-4733-9970-ddb33c68b24a"
      },
      "execution_count": 43,
      "outputs": [
        {
          "output_type": "stream",
          "name": "stdout",
          "text": [
            "On branch master\n",
            "nothing to commit, working tree clean\n"
          ]
        }
      ]
    },
    {
      "cell_type": "markdown",
      "source": [
        "## Demo 2: git config/setup"
      ],
      "metadata": {
        "id": "wuy1N4R-2iYV"
      }
    },
    {
      "cell_type": "code",
      "source": [
        "!git log --oneline"
      ],
      "metadata": {
        "colab": {
          "base_uri": "https://localhost:8080/"
        },
        "id": "o8zf5kNPH1gf",
        "outputId": "471fa5f6-723b-4789-9877-d381105c701d"
      },
      "execution_count": 44,
      "outputs": [
        {
          "output_type": "stream",
          "name": "stdout",
          "text": [
            "\u001b[33m8d96e5d\u001b[m\u001b[33m (\u001b[m\u001b[1;36mHEAD -> \u001b[m\u001b[1;32mmaster\u001b[m\u001b[33m)\u001b[m Add farewell\n",
            "\u001b[33ma1f6079\u001b[m Add hello world\n"
          ]
        }
      ]
    },
    {
      "cell_type": "code",
      "source": [
        "!ls -a .git"
      ],
      "metadata": {
        "colab": {
          "base_uri": "https://localhost:8080/"
        },
        "id": "pmmHZo1YwtdW",
        "outputId": "16ac2529-c532-431e-dfa6-ba07632b4a80"
      },
      "execution_count": 45,
      "outputs": [
        {
          "output_type": "stream",
          "name": "stdout",
          "text": [
            ".   branches\t    config\t HEAD\tindex  logs\trefs\n",
            "..  COMMIT_EDITMSG  description  hooks\tinfo   objects\n"
          ]
        }
      ]
    },
    {
      "cell_type": "code",
      "source": [
        "!cat ../../home/.gitconfig"
      ],
      "metadata": {
        "colab": {
          "base_uri": "https://localhost:8080/"
        },
        "id": "_6bJdXSpPxNU",
        "outputId": "ad2de355-ae5a-49cd-9d16-311f17bdfcb4"
      },
      "execution_count": 46,
      "outputs": [
        {
          "output_type": "stream",
          "name": "stdout",
          "text": [
            "cat: ../../home/.gitconfig: No such file or directory\n"
          ]
        }
      ]
    },
    {
      "cell_type": "code",
      "source": [
        "!cat .git/config"
      ],
      "metadata": {
        "colab": {
          "base_uri": "https://localhost:8080/"
        },
        "id": "LfV3moplw-8n",
        "outputId": "4c5ce3e7-1533-4985-a81c-8deef65afd32"
      },
      "execution_count": 47,
      "outputs": [
        {
          "output_type": "stream",
          "name": "stdout",
          "text": [
            "[core]\n",
            "\trepositoryformatversion = 0\n",
            "\tfilemode = true\n",
            "\tbare = false\n",
            "\tlogallrefupdates = true\n"
          ]
        }
      ]
    },
    {
      "cell_type": "code",
      "source": [
        "!git log --graph --full-history --all --color --pretty=tformat:\"%x1b[31m%h%x09%x1b[32m%d%x1b[0m%x20%s%x20%x1b[33m(%an)%x1b[0m\"\n"
      ],
      "metadata": {
        "colab": {
          "base_uri": "https://localhost:8080/"
        },
        "id": "CrIpGIWNxqY1",
        "outputId": "b4138181-afac-4ef0-d555-791583aa0905"
      },
      "execution_count": 48,
      "outputs": [
        {
          "output_type": "stream",
          "name": "stdout",
          "text": [
            "* \u001b[31m8d96e5d\t\u001b[32m (HEAD -> master)\u001b[0m Add farewell \u001b[33m(Jan M. Minihack)\u001b[0m\n",
            "* \u001b[31ma1f6079\t\u001b[32m\u001b[0m Add hello world \u001b[33m(Jan M. Minihack)\u001b[0m\n"
          ]
        }
      ]
    },
    {
      "cell_type": "code",
      "source": [
        "!echo \"[alias]\" >> .git/config\n",
        "!echo -e \"\\tgr = log --graph --full-history --all --color --pretty=tformat:\\\"%x1b[31m%h%x09%x1b[32m%d%x1b[0m%x20%s%x20%x1b[33m(%an)%x1b[0m\\\"\" >> .git/config"
      ],
      "metadata": {
        "id": "4wV64l5QIUxg"
      },
      "execution_count": 49,
      "outputs": []
    },
    {
      "cell_type": "code",
      "source": [
        "!cat .git/config"
      ],
      "metadata": {
        "colab": {
          "base_uri": "https://localhost:8080/"
        },
        "id": "sOVTFu9pJDPc",
        "outputId": "89327473-9da4-41c8-d84c-3e1589ccabf7"
      },
      "execution_count": 50,
      "outputs": [
        {
          "output_type": "stream",
          "name": "stdout",
          "text": [
            "[core]\n",
            "\trepositoryformatversion = 0\n",
            "\tfilemode = true\n",
            "\tbare = false\n",
            "\tlogallrefupdates = true\n",
            "[alias]\n",
            "\tgr = log --graph --full-history --all --color --pretty=tformat:\"%x1b[31m%h%x09%x1b[32m%d%x1b[0m%x20%s%x20%x1b[33m(%an)%x1b[0m\"\n"
          ]
        }
      ]
    },
    {
      "cell_type": "code",
      "source": [
        "!git gr"
      ],
      "metadata": {
        "colab": {
          "base_uri": "https://localhost:8080/"
        },
        "id": "m9iGrtjdNlEY",
        "outputId": "41d030e2-3bd0-46bb-8e51-a87fb58d34e6"
      },
      "execution_count": 51,
      "outputs": [
        {
          "output_type": "stream",
          "name": "stdout",
          "text": [
            "* \u001b[31m8d96e5d\t\u001b[32m (HEAD -> master)\u001b[0m Add farewell \u001b[33m(Jan M. Minihack)\u001b[0m\n",
            "* \u001b[31ma1f6079\t\u001b[32m\u001b[0m Add hello world \u001b[33m(Jan M. Minihack)\u001b[0m\n"
          ]
        }
      ]
    },
    {
      "cell_type": "markdown",
      "source": [
        "## Demo 3: Branching"
      ],
      "metadata": {
        "id": "ULZW79sp7EWZ"
      }
    },
    {
      "cell_type": "code",
      "source": [
        "!git branch"
      ],
      "metadata": {
        "colab": {
          "base_uri": "https://localhost:8080/"
        },
        "id": "0sqDJJay7HXj",
        "outputId": "4abfe946-9c1c-4bfa-cf9b-d14529f7e63d"
      },
      "execution_count": 52,
      "outputs": [
        {
          "output_type": "stream",
          "name": "stdout",
          "text": [
            "* \u001b[32mmaster\u001b[m\n"
          ]
        }
      ]
    },
    {
      "cell_type": "code",
      "source": [
        "!git branch violeta/test1\n",
        "!git branch"
      ],
      "metadata": {
        "colab": {
          "base_uri": "https://localhost:8080/"
        },
        "id": "I3SRSx0U7QFf",
        "outputId": "ebe9902d-1861-4e66-9334-cb85af518f43"
      },
      "execution_count": 53,
      "outputs": [
        {
          "output_type": "stream",
          "name": "stdout",
          "text": [
            "* \u001b[32mmaster\u001b[m\n",
            "  violeta/test1\u001b[m\n"
          ]
        }
      ]
    },
    {
      "cell_type": "code",
      "source": [
        "!git checkout violeta/test1"
      ],
      "metadata": {
        "colab": {
          "base_uri": "https://localhost:8080/"
        },
        "id": "AG0mqz2P7aFJ",
        "outputId": "a8c5d397-45fd-4901-d50f-ac8d0098029e"
      },
      "execution_count": 54,
      "outputs": [
        {
          "output_type": "stream",
          "name": "stdout",
          "text": [
            "Switched to branch 'violeta/test1'\n"
          ]
        }
      ]
    },
    {
      "cell_type": "code",
      "source": [
        "!git gr"
      ],
      "metadata": {
        "colab": {
          "base_uri": "https://localhost:8080/"
        },
        "id": "ONp7y-Zk7dqT",
        "outputId": "40665dff-451f-430a-f485-f78ac42d9eb9"
      },
      "execution_count": 55,
      "outputs": [
        {
          "output_type": "stream",
          "name": "stdout",
          "text": [
            "* \u001b[31m8d96e5d\t\u001b[32m (HEAD -> violeta/test1, master)\u001b[0m Add farewell \u001b[33m(Jan M. Minihack)\u001b[0m\n",
            "* \u001b[31ma1f6079\t\u001b[32m\u001b[0m Add hello world \u001b[33m(Jan M. Minihack)\u001b[0m\n"
          ]
        }
      ]
    },
    {
      "cell_type": "code",
      "source": [
        "!git checkout -b violeta/test2\n",
        "!git branch"
      ],
      "metadata": {
        "colab": {
          "base_uri": "https://localhost:8080/"
        },
        "id": "SzBuLP787jxJ",
        "outputId": "effe7e46-6566-4461-9cf0-58a5bd6784aa"
      },
      "execution_count": 56,
      "outputs": [
        {
          "output_type": "stream",
          "name": "stdout",
          "text": [
            "Switched to a new branch 'violeta/test2'\n",
            "  master\u001b[m\n",
            "  violeta/test1\u001b[m\n",
            "* \u001b[32mvioleta/test2\u001b[m\n"
          ]
        }
      ]
    },
    {
      "cell_type": "code",
      "source": [
        "!sed -i \"1s/^/print('Hey!!')\\n/\" hello.py\n",
        "!cat hello.py"
      ],
      "metadata": {
        "colab": {
          "base_uri": "https://localhost:8080/"
        },
        "id": "bJa54Del8vYs",
        "outputId": "46e83178-723c-448e-ff77-80ae65ef0f5f"
      },
      "execution_count": 57,
      "outputs": [
        {
          "output_type": "stream",
          "name": "stdout",
          "text": [
            "print('Hey!!')\n",
            "print('Hello world')\n",
            "\n",
            "print(\"and goodbye\")\n"
          ]
        }
      ]
    },
    {
      "cell_type": "code",
      "source": [
        "!cat hello.py"
      ],
      "metadata": {
        "colab": {
          "base_uri": "https://localhost:8080/"
        },
        "id": "QaO4UcCe830w",
        "outputId": "a16f340e-2c9e-4f57-ca1c-ca0b779de34e"
      },
      "execution_count": 58,
      "outputs": [
        {
          "output_type": "stream",
          "name": "stdout",
          "text": [
            "print('Hey!!')\n",
            "print('Hello world')\n",
            "\n",
            "print(\"and goodbye\")\n"
          ]
        }
      ]
    },
    {
      "cell_type": "code",
      "source": [
        "!git status"
      ],
      "metadata": {
        "colab": {
          "base_uri": "https://localhost:8080/"
        },
        "id": "FLSUiHrL_duo",
        "outputId": "65a661e7-cdef-4089-947a-2a4fcff97d88"
      },
      "execution_count": 59,
      "outputs": [
        {
          "output_type": "stream",
          "name": "stdout",
          "text": [
            "On branch violeta/test2\n",
            "Changes not staged for commit:\n",
            "  (use \"git add <file>...\" to update what will be committed)\n",
            "  (use \"git restore <file>...\" to discard changes in working directory)\n",
            "\t\u001b[31mmodified:   hello.py\u001b[m\n",
            "\n",
            "no changes added to commit (use \"git add\" and/or \"git commit -a\")\n"
          ]
        }
      ]
    },
    {
      "cell_type": "code",
      "source": [
        "!git commit -am \"Try a different greeting\""
      ],
      "metadata": {
        "colab": {
          "base_uri": "https://localhost:8080/"
        },
        "id": "wapNfAof_j3Q",
        "outputId": "9e5db7c9-cd84-40c5-b71b-89c91ce5dec9"
      },
      "execution_count": 60,
      "outputs": [
        {
          "output_type": "stream",
          "name": "stdout",
          "text": [
            "[violeta/test2 e7a809b] Try a different greeting\n",
            " 1 file changed, 1 insertion(+)\n"
          ]
        }
      ]
    },
    {
      "cell_type": "code",
      "source": [
        "!git log -p"
      ],
      "metadata": {
        "colab": {
          "base_uri": "https://localhost:8080/"
        },
        "id": "iq6oIDWO_z7c",
        "outputId": "fb3642c5-e9a9-403f-d122-c4a3ffe28a17"
      },
      "execution_count": 61,
      "outputs": [
        {
          "output_type": "stream",
          "name": "stdout",
          "text": [
            "\u001b[33mcommit e7a809b8633e7f93a6b91ef7c1d480b88d336e34\u001b[m\u001b[33m (\u001b[m\u001b[1;36mHEAD -> \u001b[m\u001b[1;32mvioleta/test2\u001b[m\u001b[33m)\u001b[m\n",
            "Author: Jan M. Minihack <jan.minihack@mmh.com>\n",
            "Date:   Fri Jan 27 11:08:57 2023 +0000\n",
            "\n",
            "    Try a different greeting\n",
            "\n",
            "\u001b[1mdiff --git a/hello.py b/hello.py\u001b[m\n",
            "\u001b[1mindex d826caf..daaca5d 100644\u001b[m\n",
            "\u001b[1m--- a/hello.py\u001b[m\n",
            "\u001b[1m+++ b/hello.py\u001b[m\n",
            "\u001b[36m@@ -1,3 +1,4 @@\u001b[m\n",
            "\u001b[32m+\u001b[m\u001b[32mprint('Hey!!')\u001b[m\n",
            " print('Hello world')\u001b[m\n",
            " \u001b[m\n",
            " print(\"and goodbye\")\u001b[m\n",
            "\n",
            "\u001b[33mcommit 8d96e5de55d1a466799dfc63df13968ad318d7df\u001b[m\u001b[33m (\u001b[m\u001b[1;32mvioleta/test1\u001b[m\u001b[33m, \u001b[m\u001b[1;32mmaster\u001b[m\u001b[33m)\u001b[m\n",
            "Author: Jan M. Minihack <jan.minihack@mmh.com>\n",
            "Date:   Fri Jan 27 11:08:31 2023 +0000\n",
            "\n",
            "    Add farewell\n",
            "\n",
            "\u001b[1mdiff --git a/hello.py b/hello.py\u001b[m\n",
            "\u001b[1mindex f7d1785..d826caf 100644\u001b[m\n",
            "\u001b[1m--- a/hello.py\u001b[m\n",
            "\u001b[1m+++ b/hello.py\u001b[m\n",
            "\u001b[36m@@ -1 +1,3 @@\u001b[m\n",
            " print('Hello world')\u001b[m\n",
            "\u001b[32m+\u001b[m\n",
            "\u001b[32m+\u001b[m\u001b[32mprint(\"and goodbye\")\u001b[m\n",
            "\n",
            "\u001b[33mcommit a1f6079cce14fc36038d83daf65a680b149a2de8\u001b[m\n",
            "Author: Jan M. Minihack <jan.minihack@mmh.com>\n",
            "Date:   Fri Jan 27 11:08:20 2023 +0000\n",
            "\n",
            "    Add hello world\n",
            "\n",
            "\u001b[1mdiff --git a/hello.py b/hello.py\u001b[m\n",
            "\u001b[1mnew file mode 100644\u001b[m\n",
            "\u001b[1mindex 0000000..f7d1785\u001b[m\n",
            "\u001b[1m--- /dev/null\u001b[m\n",
            "\u001b[1m+++ b/hello.py\u001b[m\n",
            "\u001b[36m@@ -0,0 +1 @@\u001b[m\n",
            "\u001b[32m+\u001b[m\u001b[32mprint('Hello world')\u001b[m\n"
          ]
        }
      ]
    },
    {
      "cell_type": "code",
      "source": [
        "!git gr"
      ],
      "metadata": {
        "colab": {
          "base_uri": "https://localhost:8080/"
        },
        "id": "LGYczVWw_52q",
        "outputId": "e76db848-d52e-4b07-f6c4-75c4c1a7b78b"
      },
      "execution_count": 62,
      "outputs": [
        {
          "output_type": "stream",
          "name": "stdout",
          "text": [
            "* \u001b[31me7a809b\t\u001b[32m (HEAD -> violeta/test2)\u001b[0m Try a different greeting \u001b[33m(Jan M. Minihack)\u001b[0m\n",
            "* \u001b[31m8d96e5d\t\u001b[32m (violeta/test1, master)\u001b[0m Add farewell \u001b[33m(Jan M. Minihack)\u001b[0m\n",
            "* \u001b[31ma1f6079\t\u001b[32m\u001b[0m Add hello world \u001b[33m(Jan M. Minihack)\u001b[0m\n"
          ]
        }
      ]
    },
    {
      "cell_type": "code",
      "source": [
        "!git checkout violeta/test1"
      ],
      "metadata": {
        "colab": {
          "base_uri": "https://localhost:8080/"
        },
        "id": "7Gdnv29m_9vU",
        "outputId": "d7d85734-9ae6-41b6-ef30-2c797f68b819"
      },
      "execution_count": 63,
      "outputs": [
        {
          "output_type": "stream",
          "name": "stdout",
          "text": [
            "Switched to branch 'violeta/test1'\n"
          ]
        }
      ]
    },
    {
      "cell_type": "code",
      "source": [
        "!sed -i \"1s/^/print('Yoyoyo!!')\\n/\" hello.py\n",
        "!cat hello.py"
      ],
      "metadata": {
        "colab": {
          "base_uri": "https://localhost:8080/"
        },
        "id": "Y1p1q9sGAA1q",
        "outputId": "90125a14-0f7f-4672-96cc-61541d5ec0c9"
      },
      "execution_count": 64,
      "outputs": [
        {
          "output_type": "stream",
          "name": "stdout",
          "text": [
            "print('Yoyoyo!!')\n",
            "print('Hello world')\n",
            "\n",
            "print(\"and goodbye\")\n"
          ]
        }
      ]
    },
    {
      "cell_type": "code",
      "source": [
        "!git commit -am \"Try a different more casual greeting\""
      ],
      "metadata": {
        "colab": {
          "base_uri": "https://localhost:8080/"
        },
        "id": "TBRVaF-1AHZk",
        "outputId": "8d051830-059e-4693-b223-07afc3710e1f"
      },
      "execution_count": 65,
      "outputs": [
        {
          "output_type": "stream",
          "name": "stdout",
          "text": [
            "[violeta/test1 e2f2d08] Try a different more casual greeting\n",
            " 1 file changed, 1 insertion(+)\n"
          ]
        }
      ]
    },
    {
      "cell_type": "code",
      "source": [
        "!git log --oneline"
      ],
      "metadata": {
        "colab": {
          "base_uri": "https://localhost:8080/"
        },
        "id": "7OniUJNZAMqQ",
        "outputId": "ed17bf1e-7259-458c-d468-a202480f1a55"
      },
      "execution_count": 66,
      "outputs": [
        {
          "output_type": "stream",
          "name": "stdout",
          "text": [
            "\u001b[33me2f2d08\u001b[m\u001b[33m (\u001b[m\u001b[1;36mHEAD -> \u001b[m\u001b[1;32mvioleta/test1\u001b[m\u001b[33m)\u001b[m Try a different more casual greeting\n",
            "\u001b[33m8d96e5d\u001b[m\u001b[33m (\u001b[m\u001b[1;32mmaster\u001b[m\u001b[33m)\u001b[m Add farewell\n",
            "\u001b[33ma1f6079\u001b[m Add hello world\n"
          ]
        }
      ]
    },
    {
      "cell_type": "code",
      "source": [
        "!git gr"
      ],
      "metadata": {
        "colab": {
          "base_uri": "https://localhost:8080/"
        },
        "id": "7y4Cv24PARXQ",
        "outputId": "517e3875-c041-4dba-8a3d-05591b075a58"
      },
      "execution_count": 67,
      "outputs": [
        {
          "output_type": "stream",
          "name": "stdout",
          "text": [
            "* \u001b[31me2f2d08\t\u001b[32m (HEAD -> violeta/test1)\u001b[0m Try a different more casual greeting \u001b[33m(Jan M. Minihack)\u001b[0m\n",
            "\u001b[31m|\u001b[m * \u001b[31me7a809b\t\u001b[32m (violeta/test2)\u001b[0m Try a different greeting \u001b[33m(Jan M. Minihack)\u001b[0m\n",
            "\u001b[31m|\u001b[m\u001b[31m/\u001b[m  \n",
            "* \u001b[31m8d96e5d\t\u001b[32m (master)\u001b[0m Add farewell \u001b[33m(Jan M. Minihack)\u001b[0m\n",
            "* \u001b[31ma1f6079\t\u001b[32m\u001b[0m Add hello world \u001b[33m(Jan M. Minihack)\u001b[0m\n"
          ]
        }
      ]
    },
    {
      "cell_type": "code",
      "source": [
        "!git checkout master"
      ],
      "metadata": {
        "colab": {
          "base_uri": "https://localhost:8080/"
        },
        "id": "F3klVJETAaGH",
        "outputId": "bd8043af-ff47-4a09-d22e-da1a9e183e6c"
      },
      "execution_count": 68,
      "outputs": [
        {
          "output_type": "stream",
          "name": "stdout",
          "text": [
            "Switched to branch 'master'\n"
          ]
        }
      ]
    },
    {
      "cell_type": "code",
      "source": [
        "!git log"
      ],
      "metadata": {
        "colab": {
          "base_uri": "https://localhost:8080/"
        },
        "id": "KNnbqE38AhUP",
        "outputId": "e5db5469-3348-4d3d-c393-fec560211e10"
      },
      "execution_count": 69,
      "outputs": [
        {
          "output_type": "stream",
          "name": "stdout",
          "text": [
            "\u001b[33mcommit 8d96e5de55d1a466799dfc63df13968ad318d7df\u001b[m\u001b[33m (\u001b[m\u001b[1;36mHEAD -> \u001b[m\u001b[1;32mmaster\u001b[m\u001b[33m)\u001b[m\n",
            "Author: Jan M. Minihack <jan.minihack@mmh.com>\n",
            "Date:   Fri Jan 27 11:08:31 2023 +0000\n",
            "\n",
            "    Add farewell\n",
            "\n",
            "\u001b[33mcommit a1f6079cce14fc36038d83daf65a680b149a2de8\u001b[m\n",
            "Author: Jan M. Minihack <jan.minihack@mmh.com>\n",
            "Date:   Fri Jan 27 11:08:20 2023 +0000\n",
            "\n",
            "    Add hello world\n"
          ]
        }
      ]
    },
    {
      "cell_type": "code",
      "source": [
        "!git merge violeta/test2"
      ],
      "metadata": {
        "colab": {
          "base_uri": "https://localhost:8080/"
        },
        "id": "8qvNPbh0E1P4",
        "outputId": "ec40173a-ff54-4e33-ed68-8bc6faaa2568"
      },
      "execution_count": 70,
      "outputs": [
        {
          "output_type": "stream",
          "name": "stdout",
          "text": [
            "Updating 8d96e5d..e7a809b\n",
            "Fast-forward\n",
            " hello.py | 1 \u001b[32m+\u001b[m\n",
            " 1 file changed, 1 insertion(+)\n"
          ]
        }
      ]
    },
    {
      "cell_type": "code",
      "source": [
        "!git log"
      ],
      "metadata": {
        "colab": {
          "base_uri": "https://localhost:8080/"
        },
        "id": "djbkZfYaE3op",
        "outputId": "77deb5ea-ee0b-4a35-d773-500b0440d274"
      },
      "execution_count": 71,
      "outputs": [
        {
          "output_type": "stream",
          "name": "stdout",
          "text": [
            "\u001b[33mcommit e7a809b8633e7f93a6b91ef7c1d480b88d336e34\u001b[m\u001b[33m (\u001b[m\u001b[1;36mHEAD -> \u001b[m\u001b[1;32mmaster\u001b[m\u001b[33m, \u001b[m\u001b[1;32mvioleta/test2\u001b[m\u001b[33m)\u001b[m\n",
            "Author: Jan M. Minihack <jan.minihack@mmh.com>\n",
            "Date:   Fri Jan 27 11:08:57 2023 +0000\n",
            "\n",
            "    Try a different greeting\n",
            "\n",
            "\u001b[33mcommit 8d96e5de55d1a466799dfc63df13968ad318d7df\u001b[m\n",
            "Author: Jan M. Minihack <jan.minihack@mmh.com>\n",
            "Date:   Fri Jan 27 11:08:31 2023 +0000\n",
            "\n",
            "    Add farewell\n",
            "\n",
            "\u001b[33mcommit a1f6079cce14fc36038d83daf65a680b149a2de8\u001b[m\n",
            "Author: Jan M. Minihack <jan.minihack@mmh.com>\n",
            "Date:   Fri Jan 27 11:08:20 2023 +0000\n",
            "\n",
            "    Add hello world\n"
          ]
        }
      ]
    },
    {
      "cell_type": "code",
      "source": [
        "!git gr"
      ],
      "metadata": {
        "colab": {
          "base_uri": "https://localhost:8080/"
        },
        "id": "-Tz2UZHIE57H",
        "outputId": "3e5c3584-41ee-4823-9f20-554489f45f16"
      },
      "execution_count": 72,
      "outputs": [
        {
          "output_type": "stream",
          "name": "stdout",
          "text": [
            "* \u001b[31me2f2d08\t\u001b[32m (violeta/test1)\u001b[0m Try a different more casual greeting \u001b[33m(Jan M. Minihack)\u001b[0m\n",
            "\u001b[31m|\u001b[m * \u001b[31me7a809b\t\u001b[32m (HEAD -> master, violeta/test2)\u001b[0m Try a different greeting \u001b[33m(Jan M. Minihack)\u001b[0m\n",
            "\u001b[31m|\u001b[m\u001b[31m/\u001b[m  \n",
            "* \u001b[31m8d96e5d\t\u001b[32m\u001b[0m Add farewell \u001b[33m(Jan M. Minihack)\u001b[0m\n",
            "* \u001b[31ma1f6079\t\u001b[32m\u001b[0m Add hello world \u001b[33m(Jan M. Minihack)\u001b[0m\n"
          ]
        }
      ]
    },
    {
      "cell_type": "code",
      "source": [
        "!git merge violeta/test1"
      ],
      "metadata": {
        "colab": {
          "base_uri": "https://localhost:8080/"
        },
        "id": "pkFF1c0NJVa2",
        "outputId": "92be95a0-e0de-425a-ccc0-3601c06f73f1"
      },
      "execution_count": 73,
      "outputs": [
        {
          "output_type": "stream",
          "name": "stdout",
          "text": [
            "Auto-merging hello.py\n",
            "CONFLICT (content): Merge conflict in hello.py\n",
            "Automatic merge failed; fix conflicts and then commit the result.\n"
          ]
        }
      ]
    },
    {
      "cell_type": "code",
      "source": [
        "!git status"
      ],
      "metadata": {
        "colab": {
          "base_uri": "https://localhost:8080/"
        },
        "id": "Zdto-4wMKeGp",
        "outputId": "662e4f13-78de-4ca6-b9dd-717ef690f35f"
      },
      "execution_count": 74,
      "outputs": [
        {
          "output_type": "stream",
          "name": "stdout",
          "text": [
            "On branch master\n",
            "You have unmerged paths.\n",
            "  (fix conflicts and run \"git commit\")\n",
            "  (use \"git merge --abort\" to abort the merge)\n",
            "\n",
            "Unmerged paths:\n",
            "  (use \"git add <file>...\" to mark resolution)\n",
            "\t\u001b[31mboth modified:   hello.py\u001b[m\n",
            "\n",
            "no changes added to commit (use \"git add\" and/or \"git commit -a\")\n"
          ]
        }
      ]
    },
    {
      "cell_type": "code",
      "source": [
        "!git diff"
      ],
      "metadata": {
        "colab": {
          "base_uri": "https://localhost:8080/"
        },
        "id": "oyNzVX7pKhBs",
        "outputId": "7f0d09e6-d04f-4891-ba9d-37350144b091"
      },
      "execution_count": 75,
      "outputs": [
        {
          "output_type": "stream",
          "name": "stdout",
          "text": [
            "\u001b[1mdiff --cc hello.py\u001b[m\n",
            "\u001b[1mindex daaca5d,51e9ef2..0000000\u001b[m\n",
            "\u001b[1m--- a/hello.py\u001b[m\n",
            "\u001b[1m+++ b/hello.py\u001b[m\n",
            "\u001b[36m@@@ -1,4 -1,4 +1,8 @@@\u001b[m\n",
            "\u001b[32m++<<<<<<< HEAD\u001b[m\n",
            "\u001b[32m +print('Hey!!')\u001b[m\n",
            "\u001b[32m++=======\u001b[m\n",
            "\u001b[32m+ print('Yoyoyo!!')\u001b[m\n",
            "\u001b[32m++>>>>>>> violeta/test1\u001b[m\n",
            "  print('Hello world')\u001b[m\n",
            "  \u001b[m\n",
            "  print(\"and goodbye\")\u001b[m\n"
          ]
        }
      ]
    },
    {
      "cell_type": "code",
      "source": [
        "!echo -e \"print('Yoyoyo!!')\\nprint('Hello world')\\n\\nprint(\\\"and goodbye\\\")\" > hello.py\n",
        "!cat hello.py"
      ],
      "metadata": {
        "colab": {
          "base_uri": "https://localhost:8080/"
        },
        "id": "mBQigZlZKyQc",
        "outputId": "55afa22e-1613-4167-9c24-940081621720"
      },
      "execution_count": 76,
      "outputs": [
        {
          "output_type": "stream",
          "name": "stdout",
          "text": [
            "print('Yoyoyo!!')\n",
            "print('Hello world')\n",
            "\n",
            "print(\"and goodbye\")\n"
          ]
        }
      ]
    },
    {
      "cell_type": "code",
      "source": [
        "!git add hello.py"
      ],
      "metadata": {
        "id": "LqjCyFCiLEjC"
      },
      "execution_count": 77,
      "outputs": []
    },
    {
      "cell_type": "code",
      "source": [
        "!git status"
      ],
      "metadata": {
        "colab": {
          "base_uri": "https://localhost:8080/"
        },
        "id": "J3v0XmjrLPzc",
        "outputId": "b39fecba-f328-4839-ae87-9bf9c9f8ec13"
      },
      "execution_count": 78,
      "outputs": [
        {
          "output_type": "stream",
          "name": "stdout",
          "text": [
            "On branch master\n",
            "All conflicts fixed but you are still merging.\n",
            "  (use \"git commit\" to conclude merge)\n",
            "\n",
            "Changes to be committed:\n",
            "\t\u001b[32mmodified:   hello.py\u001b[m\n",
            "\n"
          ]
        }
      ]
    },
    {
      "cell_type": "code",
      "source": [
        "!git diff --staged"
      ],
      "metadata": {
        "colab": {
          "base_uri": "https://localhost:8080/"
        },
        "id": "MQ8hWTJ6LUY7",
        "outputId": "58edee8e-4990-4e04-c2a2-bac049d41c01"
      },
      "execution_count": 79,
      "outputs": [
        {
          "output_type": "stream",
          "name": "stdout",
          "text": [
            "\u001b[1mdiff --git a/hello.py b/hello.py\u001b[m\n",
            "\u001b[1mindex daaca5d..51e9ef2 100644\u001b[m\n",
            "\u001b[1m--- a/hello.py\u001b[m\n",
            "\u001b[1m+++ b/hello.py\u001b[m\n",
            "\u001b[36m@@ -1,4 +1,4 @@\u001b[m\n",
            "\u001b[31m-print('Hey!!')\u001b[m\n",
            "\u001b[32m+\u001b[m\u001b[32mprint('Yoyoyo!!')\u001b[m\n",
            " print('Hello world')\u001b[m\n",
            " \u001b[m\n",
            " print(\"and goodbye\")\u001b[m\n"
          ]
        }
      ]
    },
    {
      "cell_type": "code",
      "source": [
        "!git commit -m \"Update greeting\""
      ],
      "metadata": {
        "colab": {
          "base_uri": "https://localhost:8080/"
        },
        "id": "mJXSZv7MLjIg",
        "outputId": "154f0333-893f-4cd1-edb3-a3a57fba19d6"
      },
      "execution_count": 80,
      "outputs": [
        {
          "output_type": "stream",
          "name": "stdout",
          "text": [
            "[master dc7c6a3] Update greeting\n"
          ]
        }
      ]
    },
    {
      "cell_type": "code",
      "source": [
        "!git log -p"
      ],
      "metadata": {
        "colab": {
          "base_uri": "https://localhost:8080/"
        },
        "id": "i19PN7bGLmrG",
        "outputId": "cf580c57-564b-42d1-9e58-78cb846a52c8"
      },
      "execution_count": 81,
      "outputs": [
        {
          "output_type": "stream",
          "name": "stdout",
          "text": [
            "\u001b[33mcommit dc7c6a30756fb9ceb408ac38a91ec515105e0960\u001b[m\u001b[33m (\u001b[m\u001b[1;36mHEAD -> \u001b[m\u001b[1;32mmaster\u001b[m\u001b[33m)\u001b[m\n",
            "Merge: e7a809b e2f2d08\n",
            "Author: Jan M. Minihack <jan.minihack@mmh.com>\n",
            "Date:   Fri Jan 27 11:09:00 2023 +0000\n",
            "\n",
            "    Update greeting\n",
            "\n",
            "\u001b[33mcommit e2f2d0830b5d9fe23ed4d1db5f4e59660cfca2ca\u001b[m\u001b[33m (\u001b[m\u001b[1;32mvioleta/test1\u001b[m\u001b[33m)\u001b[m\n",
            "Author: Jan M. Minihack <jan.minihack@mmh.com>\n",
            "Date:   Fri Jan 27 11:08:58 2023 +0000\n",
            "\n",
            "    Try a different more casual greeting\n",
            "\n",
            "\u001b[1mdiff --git a/hello.py b/hello.py\u001b[m\n",
            "\u001b[1mindex d826caf..51e9ef2 100644\u001b[m\n",
            "\u001b[1m--- a/hello.py\u001b[m\n",
            "\u001b[1m+++ b/hello.py\u001b[m\n",
            "\u001b[36m@@ -1,3 +1,4 @@\u001b[m\n",
            "\u001b[32m+\u001b[m\u001b[32mprint('Yoyoyo!!')\u001b[m\n",
            " print('Hello world')\u001b[m\n",
            " \u001b[m\n",
            " print(\"and goodbye\")\u001b[m\n",
            "\n",
            "\u001b[33mcommit e7a809b8633e7f93a6b91ef7c1d480b88d336e34\u001b[m\u001b[33m (\u001b[m\u001b[1;32mvioleta/test2\u001b[m\u001b[33m)\u001b[m\n",
            "Author: Jan M. Minihack <jan.minihack@mmh.com>\n",
            "Date:   Fri Jan 27 11:08:57 2023 +0000\n",
            "\n",
            "    Try a different greeting\n",
            "\n",
            "\u001b[1mdiff --git a/hello.py b/hello.py\u001b[m\n",
            "\u001b[1mindex d826caf..daaca5d 100644\u001b[m\n",
            "\u001b[1m--- a/hello.py\u001b[m\n",
            "\u001b[1m+++ b/hello.py\u001b[m\n",
            "\u001b[36m@@ -1,3 +1,4 @@\u001b[m\n",
            "\u001b[32m+\u001b[m\u001b[32mprint('Hey!!')\u001b[m\n",
            " print('Hello world')\u001b[m\n",
            " \u001b[m\n",
            " print(\"and goodbye\")\u001b[m\n",
            "\n",
            "\u001b[33mcommit 8d96e5de55d1a466799dfc63df13968ad318d7df\u001b[m\n",
            "Author: Jan M. Minihack <jan.minihack@mmh.com>\n",
            "Date:   Fri Jan 27 11:08:31 2023 +0000\n",
            "\n",
            "    Add farewell\n",
            "\n",
            "\u001b[1mdiff --git a/hello.py b/hello.py\u001b[m\n",
            "\u001b[1mindex f7d1785..d826caf 100644\u001b[m\n",
            "\u001b[1m--- a/hello.py\u001b[m\n",
            "\u001b[1m+++ b/hello.py\u001b[m\n",
            "\u001b[36m@@ -1 +1,3 @@\u001b[m\n",
            " print('Hello world')\u001b[m\n",
            "\u001b[32m+\u001b[m\n",
            "\u001b[32m+\u001b[m\u001b[32mprint(\"and goodbye\")\u001b[m\n",
            "\n",
            "\u001b[33mcommit a1f6079cce14fc36038d83daf65a680b149a2de8\u001b[m\n",
            "Author: Jan M. Minihack <jan.minihack@mmh.com>\n",
            "Date:   Fri Jan 27 11:08:20 2023 +0000\n",
            "\n",
            "    Add hello world\n",
            "\n",
            "\u001b[1mdiff --git a/hello.py b/hello.py\u001b[m\n",
            "\u001b[1mnew file mode 100644\u001b[m\n",
            "\u001b[1mindex 0000000..f7d1785\u001b[m\n",
            "\u001b[1m--- /dev/null\u001b[m\n",
            "\u001b[1m+++ b/hello.py\u001b[m\n",
            "\u001b[36m@@ -0,0 +1 @@\u001b[m\n",
            "\u001b[32m+\u001b[m\u001b[32mprint('Hello world')\u001b[m\n"
          ]
        }
      ]
    },
    {
      "cell_type": "code",
      "source": [
        "!git gr"
      ],
      "metadata": {
        "colab": {
          "base_uri": "https://localhost:8080/"
        },
        "id": "XUp3aeN_Lq3O",
        "outputId": "31adf321-1be8-4737-d86d-295fb7987bdc"
      },
      "execution_count": 82,
      "outputs": [
        {
          "output_type": "stream",
          "name": "stdout",
          "text": [
            "*   \u001b[31mdc7c6a3\t\u001b[32m (HEAD -> master)\u001b[0m Update greeting \u001b[33m(Jan M. Minihack)\u001b[0m\n",
            "\u001b[31m|\u001b[m\u001b[32m\\\u001b[m  \n",
            "\u001b[31m|\u001b[m * \u001b[31me2f2d08\t\u001b[32m (violeta/test1)\u001b[0m Try a different more casual greeting \u001b[33m(Jan M. Minihack)\u001b[0m\n",
            "* \u001b[32m|\u001b[m \u001b[31me7a809b\t\u001b[32m (violeta/test2)\u001b[0m Try a different greeting \u001b[33m(Jan M. Minihack)\u001b[0m\n",
            "\u001b[32m|\u001b[m\u001b[32m/\u001b[m  \n",
            "* \u001b[31m8d96e5d\t\u001b[32m\u001b[0m Add farewell \u001b[33m(Jan M. Minihack)\u001b[0m\n",
            "* \u001b[31ma1f6079\t\u001b[32m\u001b[0m Add hello world \u001b[33m(Jan M. Minihack)\u001b[0m\n"
          ]
        }
      ]
    },
    {
      "cell_type": "markdown",
      "source": [
        "## Demo 4: Revisions, stash and reset"
      ],
      "metadata": {
        "id": "a9OyhKbmkZLL"
      }
    },
    {
      "cell_type": "code",
      "source": [
        "!git show HEAD~2"
      ],
      "metadata": {
        "colab": {
          "base_uri": "https://localhost:8080/"
        },
        "id": "pw2D6_ZMkdD-",
        "outputId": "14e8d191-47c1-40be-ee10-c103a8575224"
      },
      "execution_count": 83,
      "outputs": [
        {
          "output_type": "stream",
          "name": "stdout",
          "text": [
            "\u001b[33mcommit 8d96e5de55d1a466799dfc63df13968ad318d7df\u001b[m\n",
            "Author: Jan M. Minihack <jan.minihack@mmh.com>\n",
            "Date:   Fri Jan 27 11:08:31 2023 +0000\n",
            "\n",
            "    Add farewell\n",
            "\n",
            "\u001b[1mdiff --git a/hello.py b/hello.py\u001b[m\n",
            "\u001b[1mindex f7d1785..d826caf 100644\u001b[m\n",
            "\u001b[1m--- a/hello.py\u001b[m\n",
            "\u001b[1m+++ b/hello.py\u001b[m\n",
            "\u001b[36m@@ -1 +1,3 @@\u001b[m\n",
            " print('Hello world')\u001b[m\n",
            "\u001b[32m+\u001b[m\n",
            "\u001b[32m+\u001b[m\u001b[32mprint(\"and goodbye\")\u001b[m\n"
          ]
        }
      ]
    },
    {
      "cell_type": "code",
      "source": [
        "!git checkout HEAD~2"
      ],
      "metadata": {
        "colab": {
          "base_uri": "https://localhost:8080/"
        },
        "id": "kkEg2irrn5Yd",
        "outputId": "45ddb94f-4e9a-4ad6-dce5-f18ef372a2b4"
      },
      "execution_count": 84,
      "outputs": [
        {
          "output_type": "stream",
          "name": "stdout",
          "text": [
            "Note: switching to 'HEAD~2'.\n",
            "\n",
            "You are in 'detached HEAD' state. You can look around, make experimental\n",
            "changes and commit them, and you can discard any commits you make in this\n",
            "state without impacting any branches by switching back to a branch.\n",
            "\n",
            "If you want to create a new branch to retain commits you create, you may\n",
            "do so (now or later) by using -c with the switch command. Example:\n",
            "\n",
            "  git switch -c <new-branch-name>\n",
            "\n",
            "Or undo this operation with:\n",
            "\n",
            "  git switch -\n",
            "\n",
            "Turn off this advice by setting config variable advice.detachedHead to false\n",
            "\n",
            "HEAD is now at 8d96e5d Add farewell\n"
          ]
        }
      ]
    },
    {
      "cell_type": "code",
      "source": [
        "!sed -i '$s/$/\\n\\nprint(\"byeeee\")/' hello.py\n",
        "!cat hello.py"
      ],
      "metadata": {
        "colab": {
          "base_uri": "https://localhost:8080/"
        },
        "id": "R0AeoDeRoAfv",
        "outputId": "63138ac1-753d-4d2a-f236-4c84bdc169b3"
      },
      "execution_count": 85,
      "outputs": [
        {
          "output_type": "stream",
          "name": "stdout",
          "text": [
            "print('Hello world')\n",
            "\n",
            "print(\"and goodbye\")\n",
            "\n",
            "print(\"byeeee\")\n"
          ]
        }
      ]
    },
    {
      "cell_type": "code",
      "source": [
        "!git status"
      ],
      "metadata": {
        "colab": {
          "base_uri": "https://localhost:8080/"
        },
        "id": "otDeJqGhoW0l",
        "outputId": "ed99091c-51bf-4633-cfef-18e06c10d3a2"
      },
      "execution_count": 86,
      "outputs": [
        {
          "output_type": "stream",
          "name": "stdout",
          "text": [
            "\u001b[31mHEAD detached at \u001b[m8d96e5d\n",
            "Changes not staged for commit:\n",
            "  (use \"git add <file>...\" to update what will be committed)\n",
            "  (use \"git restore <file>...\" to discard changes in working directory)\n",
            "\t\u001b[31mmodified:   hello.py\u001b[m\n",
            "\n",
            "no changes added to commit (use \"git add\" and/or \"git commit -a\")\n"
          ]
        }
      ]
    },
    {
      "cell_type": "code",
      "source": [
        "!git diff"
      ],
      "metadata": {
        "colab": {
          "base_uri": "https://localhost:8080/"
        },
        "id": "LLAZ7psqoZ5N",
        "outputId": "93ef0279-2104-4f34-889a-9253925aebcc"
      },
      "execution_count": 87,
      "outputs": [
        {
          "output_type": "stream",
          "name": "stdout",
          "text": [
            "\u001b[1mdiff --git a/hello.py b/hello.py\u001b[m\n",
            "\u001b[1mindex d826caf..4ed4d24 100644\u001b[m\n",
            "\u001b[1m--- a/hello.py\u001b[m\n",
            "\u001b[1m+++ b/hello.py\u001b[m\n",
            "\u001b[36m@@ -1,3 +1,5 @@\u001b[m\n",
            " print('Hello world')\u001b[m\n",
            " \u001b[m\n",
            " print(\"and goodbye\")\u001b[m\n",
            "\u001b[32m+\u001b[m\n",
            "\u001b[32m+\u001b[m\u001b[32mprint(\"byeeee\")\u001b[m\n"
          ]
        }
      ]
    },
    {
      "cell_type": "code",
      "source": [
        "!git commit -am \"More goodbyes\""
      ],
      "metadata": {
        "colab": {
          "base_uri": "https://localhost:8080/"
        },
        "id": "vm_UAzZwoo3q",
        "outputId": "5f682a03-f286-416e-9ea5-05cded4cb991"
      },
      "execution_count": 88,
      "outputs": [
        {
          "output_type": "stream",
          "name": "stdout",
          "text": [
            "[detached HEAD cc6ea8d] More goodbyes\n",
            " 1 file changed, 2 insertions(+)\n"
          ]
        }
      ]
    },
    {
      "cell_type": "code",
      "source": [
        "!git log"
      ],
      "metadata": {
        "colab": {
          "base_uri": "https://localhost:8080/"
        },
        "id": "XGA9JknPozS6",
        "outputId": "a3903df5-63a7-4908-a4f1-3ab343498462"
      },
      "execution_count": 89,
      "outputs": [
        {
          "output_type": "stream",
          "name": "stdout",
          "text": [
            "\u001b[33mcommit cc6ea8d8bc9a9c7b08b89fe69638bd865e8b4fce\u001b[m\u001b[33m (\u001b[m\u001b[1;36mHEAD\u001b[m\u001b[33m)\u001b[m\n",
            "Author: Jan M. Minihack <jan.minihack@mmh.com>\n",
            "Date:   Fri Jan 27 11:09:01 2023 +0000\n",
            "\n",
            "    More goodbyes\n",
            "\n",
            "\u001b[33mcommit 8d96e5de55d1a466799dfc63df13968ad318d7df\u001b[m\n",
            "Author: Jan M. Minihack <jan.minihack@mmh.com>\n",
            "Date:   Fri Jan 27 11:08:31 2023 +0000\n",
            "\n",
            "    Add farewell\n",
            "\n",
            "\u001b[33mcommit a1f6079cce14fc36038d83daf65a680b149a2de8\u001b[m\n",
            "Author: Jan M. Minihack <jan.minihack@mmh.com>\n",
            "Date:   Fri Jan 27 11:08:20 2023 +0000\n",
            "\n",
            "    Add hello world\n"
          ]
        }
      ]
    },
    {
      "cell_type": "code",
      "source": [
        "!git switch -"
      ],
      "metadata": {
        "colab": {
          "base_uri": "https://localhost:8080/"
        },
        "id": "eAhxY0Vso2AP",
        "outputId": "b68a816b-3281-47c8-ec9d-989eda4e0637"
      },
      "execution_count": 90,
      "outputs": [
        {
          "output_type": "stream",
          "name": "stdout",
          "text": [
            "Warning: you are leaving 1 commit behind, not connected to\n",
            "any of your branches:\n",
            "\n",
            "  cc6ea8d More goodbyes\n",
            "\n",
            "If you want to keep it by creating a new branch, this may be a good time\n",
            "to do so with:\n",
            "\n",
            " git branch <new-branch-name> cc6ea8d\n",
            "\n",
            "Switched to branch 'master'\n"
          ]
        }
      ]
    },
    {
      "cell_type": "code",
      "source": [
        "!git log --oneline"
      ],
      "metadata": {
        "colab": {
          "base_uri": "https://localhost:8080/"
        },
        "id": "qYlvtI41o7zB",
        "outputId": "de52a366-4bce-43c9-ef20-a57e668b3ce3"
      },
      "execution_count": 91,
      "outputs": [
        {
          "output_type": "stream",
          "name": "stdout",
          "text": [
            "\u001b[33mdc7c6a3\u001b[m\u001b[33m (\u001b[m\u001b[1;36mHEAD -> \u001b[m\u001b[1;32mmaster\u001b[m\u001b[33m)\u001b[m Update greeting\n",
            "\u001b[33me2f2d08\u001b[m\u001b[33m (\u001b[m\u001b[1;32mvioleta/test1\u001b[m\u001b[33m)\u001b[m Try a different more casual greeting\n",
            "\u001b[33me7a809b\u001b[m\u001b[33m (\u001b[m\u001b[1;32mvioleta/test2\u001b[m\u001b[33m)\u001b[m Try a different greeting\n",
            "\u001b[33m8d96e5d\u001b[m Add farewell\n",
            "\u001b[33ma1f6079\u001b[m Add hello world\n"
          ]
        }
      ]
    },
    {
      "cell_type": "code",
      "source": [
        "!git checkout HEAD~2"
      ],
      "metadata": {
        "colab": {
          "base_uri": "https://localhost:8080/"
        },
        "id": "oL06aNAWpYDt",
        "outputId": "7533cbb4-cb93-4b04-b75d-afe4abc3dfce"
      },
      "execution_count": 92,
      "outputs": [
        {
          "output_type": "stream",
          "name": "stdout",
          "text": [
            "Note: switching to 'HEAD~2'.\n",
            "\n",
            "You are in 'detached HEAD' state. You can look around, make experimental\n",
            "changes and commit them, and you can discard any commits you make in this\n",
            "state without impacting any branches by switching back to a branch.\n",
            "\n",
            "If you want to create a new branch to retain commits you create, you may\n",
            "do so (now or later) by using -c with the switch command. Example:\n",
            "\n",
            "  git switch -c <new-branch-name>\n",
            "\n",
            "Or undo this operation with:\n",
            "\n",
            "  git switch -\n",
            "\n",
            "Turn off this advice by setting config variable advice.detachedHead to false\n",
            "\n",
            "HEAD is now at 8d96e5d Add farewell\n"
          ]
        }
      ]
    },
    {
      "cell_type": "code",
      "source": [
        "!sed -i '$s/$/\\n\\nprint(\"adieu!\")/' hello.py\n",
        "!cat hello.py"
      ],
      "metadata": {
        "colab": {
          "base_uri": "https://localhost:8080/"
        },
        "id": "67YxNNEMpeTp",
        "outputId": "59541bf7-875c-46cf-e896-35e4fc4ee7fd"
      },
      "execution_count": 93,
      "outputs": [
        {
          "output_type": "stream",
          "name": "stdout",
          "text": [
            "print('Hello world')\n",
            "\n",
            "print(\"and goodbye\")\n",
            "\n",
            "print(\"adieu!\")\n"
          ]
        }
      ]
    },
    {
      "cell_type": "code",
      "source": [
        "!git diff"
      ],
      "metadata": {
        "colab": {
          "base_uri": "https://localhost:8080/"
        },
        "id": "dFUoxqoHpj75",
        "outputId": "0ca38bed-6a95-47f0-f254-d83aa1cedd12"
      },
      "execution_count": 94,
      "outputs": [
        {
          "output_type": "stream",
          "name": "stdout",
          "text": [
            "\u001b[1mdiff --git a/hello.py b/hello.py\u001b[m\n",
            "\u001b[1mindex d826caf..29443ce 100644\u001b[m\n",
            "\u001b[1m--- a/hello.py\u001b[m\n",
            "\u001b[1m+++ b/hello.py\u001b[m\n",
            "\u001b[36m@@ -1,3 +1,5 @@\u001b[m\n",
            " print('Hello world')\u001b[m\n",
            " \u001b[m\n",
            " print(\"and goodbye\")\u001b[m\n",
            "\u001b[32m+\u001b[m\n",
            "\u001b[32m+\u001b[m\u001b[32mprint(\"adieu!\")\u001b[m\n"
          ]
        }
      ]
    },
    {
      "cell_type": "code",
      "source": [
        "!git commit -am \"More dramatic farewell\""
      ],
      "metadata": {
        "colab": {
          "base_uri": "https://localhost:8080/"
        },
        "id": "sYc1vp1Lpn6G",
        "outputId": "c1a9917b-763e-4dc0-e669-fa20a1e97f75"
      },
      "execution_count": 95,
      "outputs": [
        {
          "output_type": "stream",
          "name": "stdout",
          "text": [
            "[detached HEAD 9823bb8] More dramatic farewell\n",
            " 1 file changed, 2 insertions(+)\n"
          ]
        }
      ]
    },
    {
      "cell_type": "code",
      "source": [
        "!git switch -c violeta/test3"
      ],
      "metadata": {
        "colab": {
          "base_uri": "https://localhost:8080/"
        },
        "id": "Cze-p4nEpvFh",
        "outputId": "d0dc1fcf-df88-4c8a-bfc7-c4df5af0fbd7"
      },
      "execution_count": 96,
      "outputs": [
        {
          "output_type": "stream",
          "name": "stdout",
          "text": [
            "Switched to a new branch 'violeta/test3'\n"
          ]
        }
      ]
    },
    {
      "cell_type": "code",
      "source": [
        "!git gr"
      ],
      "metadata": {
        "colab": {
          "base_uri": "https://localhost:8080/"
        },
        "id": "5Ra4tDSlpyNR",
        "outputId": "d7f2bbe3-99f7-48bb-d8c8-60d40a7717cb"
      },
      "execution_count": 97,
      "outputs": [
        {
          "output_type": "stream",
          "name": "stdout",
          "text": [
            "* \u001b[31m9823bb8\t\u001b[32m (HEAD -> violeta/test3)\u001b[0m More dramatic farewell \u001b[33m(Jan M. Minihack)\u001b[0m\n",
            "\u001b[31m|\u001b[m *   \u001b[31mdc7c6a3\t\u001b[32m (master)\u001b[0m Update greeting \u001b[33m(Jan M. Minihack)\u001b[0m\n",
            "\u001b[31m|\u001b[m \u001b[32m|\u001b[m\u001b[33m\\\u001b[m  \n",
            "\u001b[31m|\u001b[m \u001b[32m|\u001b[m * \u001b[31me2f2d08\t\u001b[32m (violeta/test1)\u001b[0m Try a different more casual greeting \u001b[33m(Jan M. Minihack)\u001b[0m\n",
            "\u001b[31m|\u001b[m \u001b[32m|\u001b[m\u001b[31m/\u001b[m  \n",
            "\u001b[31m|\u001b[m\u001b[31m/\u001b[m\u001b[32m|\u001b[m   \n",
            "\u001b[31m|\u001b[m * \u001b[31me7a809b\t\u001b[32m (violeta/test2)\u001b[0m Try a different greeting \u001b[33m(Jan M. Minihack)\u001b[0m\n",
            "\u001b[31m|\u001b[m\u001b[31m/\u001b[m  \n",
            "* \u001b[31m8d96e5d\t\u001b[32m\u001b[0m Add farewell \u001b[33m(Jan M. Minihack)\u001b[0m\n",
            "* \u001b[31ma1f6079\t\u001b[32m\u001b[0m Add hello world \u001b[33m(Jan M. Minihack)\u001b[0m\n"
          ]
        }
      ]
    },
    {
      "cell_type": "code",
      "source": [
        "!sed -i \"1s/^/print('Bonjour...')\\n/\" hello.py\n",
        "!cat hello.py"
      ],
      "metadata": {
        "colab": {
          "base_uri": "https://localhost:8080/"
        },
        "id": "kv3gOuzXp-Rx",
        "outputId": "d84854ae-8f62-4ef4-bdca-06f05ab915ce"
      },
      "execution_count": 98,
      "outputs": [
        {
          "output_type": "stream",
          "name": "stdout",
          "text": [
            "print('Bonjour...')\n",
            "print('Hello world')\n",
            "\n",
            "print(\"and goodbye\")\n",
            "\n",
            "print(\"adieu!\")\n"
          ]
        }
      ]
    },
    {
      "cell_type": "code",
      "source": [
        "!git status"
      ],
      "metadata": {
        "colab": {
          "base_uri": "https://localhost:8080/"
        },
        "id": "cE_uRcECrENQ",
        "outputId": "bf72f891-22a5-4a93-8ced-f838552d8713"
      },
      "execution_count": 99,
      "outputs": [
        {
          "output_type": "stream",
          "name": "stdout",
          "text": [
            "On branch violeta/test3\n",
            "Changes not staged for commit:\n",
            "  (use \"git add <file>...\" to update what will be committed)\n",
            "  (use \"git restore <file>...\" to discard changes in working directory)\n",
            "\t\u001b[31mmodified:   hello.py\u001b[m\n",
            "\n",
            "no changes added to commit (use \"git add\" and/or \"git commit -a\")\n"
          ]
        }
      ]
    },
    {
      "cell_type": "code",
      "source": [
        "!git switch master"
      ],
      "metadata": {
        "colab": {
          "base_uri": "https://localhost:8080/"
        },
        "id": "nT9GSZk4rFxc",
        "outputId": "dc162f2f-c693-47ee-9538-8f1de65f553a"
      },
      "execution_count": 100,
      "outputs": [
        {
          "output_type": "stream",
          "name": "stdout",
          "text": [
            "error: Your local changes to the following files would be overwritten by checkout:\n",
            "\thello.py\n",
            "Please commit your changes or stash them before you switch branches.\n",
            "Aborting\n"
          ]
        }
      ]
    },
    {
      "cell_type": "code",
      "source": [
        "!git stash"
      ],
      "metadata": {
        "colab": {
          "base_uri": "https://localhost:8080/"
        },
        "id": "zGpxz4ABrIiA",
        "outputId": "c6419991-17f8-4bbe-c322-2ab125ae42e8"
      },
      "execution_count": 101,
      "outputs": [
        {
          "output_type": "stream",
          "name": "stdout",
          "text": [
            "Saved working directory and index state WIP on test3: 9823bb8 More dramatic farewell\n"
          ]
        }
      ]
    },
    {
      "cell_type": "code",
      "source": [
        "!git status"
      ],
      "metadata": {
        "colab": {
          "base_uri": "https://localhost:8080/"
        },
        "id": "hhYIgOeRrKhG",
        "outputId": "a7b81af2-86db-44dd-be7e-cb8d276d2b17"
      },
      "execution_count": 102,
      "outputs": [
        {
          "output_type": "stream",
          "name": "stdout",
          "text": [
            "On branch violeta/test3\n",
            "nothing to commit, working tree clean\n"
          ]
        }
      ]
    },
    {
      "cell_type": "code",
      "source": [
        "!git switch master"
      ],
      "metadata": {
        "colab": {
          "base_uri": "https://localhost:8080/"
        },
        "id": "O3jV47TQrOWE",
        "outputId": "5d796e98-d694-4997-9585-1d03a596732f"
      },
      "execution_count": 103,
      "outputs": [
        {
          "output_type": "stream",
          "name": "stdout",
          "text": [
            "Switched to branch 'master'\n"
          ]
        }
      ]
    },
    {
      "cell_type": "code",
      "source": [
        "!git switch -"
      ],
      "metadata": {
        "colab": {
          "base_uri": "https://localhost:8080/"
        },
        "id": "9jPtJAbCrcIG",
        "outputId": "4368588a-a870-491b-df61-aa6527caf7cc"
      },
      "execution_count": 104,
      "outputs": [
        {
          "output_type": "stream",
          "name": "stdout",
          "text": [
            "Switched to branch 'violeta/test3'\n"
          ]
        }
      ]
    },
    {
      "cell_type": "code",
      "source": [
        "!git status"
      ],
      "metadata": {
        "colab": {
          "base_uri": "https://localhost:8080/"
        },
        "id": "_jPAUp9lrgqP",
        "outputId": "d3ebd310-c5e3-45a1-e06f-a58ba864f392"
      },
      "execution_count": 105,
      "outputs": [
        {
          "output_type": "stream",
          "name": "stdout",
          "text": [
            "On branch violeta/test3\n",
            "nothing to commit, working tree clean\n"
          ]
        }
      ]
    },
    {
      "cell_type": "code",
      "source": [
        "!git stash list"
      ],
      "metadata": {
        "colab": {
          "base_uri": "https://localhost:8080/"
        },
        "id": "uoL_-5o6riPu",
        "outputId": "130add8c-4bf3-4655-b11e-3ebd2c42500f"
      },
      "execution_count": 106,
      "outputs": [
        {
          "output_type": "stream",
          "name": "stdout",
          "text": [
            "stash@{0}: WIP on test3: 9823bb8 More dramatic farewell\n"
          ]
        }
      ]
    },
    {
      "cell_type": "code",
      "source": [
        "!git stash pop"
      ],
      "metadata": {
        "colab": {
          "base_uri": "https://localhost:8080/"
        },
        "id": "koDIpA8rrkhR",
        "outputId": "4c8b4ea3-80c3-4ba5-d128-d9c0a290a6bf"
      },
      "execution_count": 107,
      "outputs": [
        {
          "output_type": "stream",
          "name": "stdout",
          "text": [
            "On branch violeta/test3\n",
            "Changes not staged for commit:\n",
            "  (use \"git add <file>...\" to update what will be committed)\n",
            "  (use \"git restore <file>...\" to discard changes in working directory)\n",
            "\t\u001b[31mmodified:   hello.py\u001b[m\n",
            "\n",
            "no changes added to commit (use \"git add\" and/or \"git commit -a\")\n",
            "Dropped refs/stash@{0} (43072cfe9a6bf8ecfa58d53e79484648122e4c0d)\n"
          ]
        }
      ]
    },
    {
      "cell_type": "code",
      "source": [
        "!git stash list"
      ],
      "metadata": {
        "id": "50P-0DKZrpdr"
      },
      "execution_count": 108,
      "outputs": []
    },
    {
      "cell_type": "code",
      "source": [
        "!git diff"
      ],
      "metadata": {
        "colab": {
          "base_uri": "https://localhost:8080/"
        },
        "id": "aqd2NAwnrzdp",
        "outputId": "3f2ef5bc-9e5c-4bf4-e262-d8c3bda5e0ce"
      },
      "execution_count": 109,
      "outputs": [
        {
          "output_type": "stream",
          "name": "stdout",
          "text": [
            "\u001b[1mdiff --git a/hello.py b/hello.py\u001b[m\n",
            "\u001b[1mindex 29443ce..78d89e1 100644\u001b[m\n",
            "\u001b[1m--- a/hello.py\u001b[m\n",
            "\u001b[1m+++ b/hello.py\u001b[m\n",
            "\u001b[36m@@ -1,3 +1,4 @@\u001b[m\n",
            "\u001b[32m+\u001b[m\u001b[32mprint('Bonjour...')\u001b[m\n",
            " print('Hello world')\u001b[m\n",
            " \u001b[m\n",
            " print(\"and goodbye\")\u001b[m\n"
          ]
        }
      ]
    },
    {
      "cell_type": "code",
      "source": [
        "!git commit -am \"Add French greeting\""
      ],
      "metadata": {
        "colab": {
          "base_uri": "https://localhost:8080/"
        },
        "id": "vz6hwzGOrru3",
        "outputId": "02e9b6a7-7c89-4fcb-b32a-0aa3d4144c63"
      },
      "execution_count": 110,
      "outputs": [
        {
          "output_type": "stream",
          "name": "stdout",
          "text": [
            "[violeta/test3 42f23e7] Add French greeting\n",
            " 1 file changed, 1 insertion(+)\n"
          ]
        }
      ]
    },
    {
      "cell_type": "code",
      "source": [
        "!git log --oneline"
      ],
      "metadata": {
        "colab": {
          "base_uri": "https://localhost:8080/"
        },
        "id": "PusDKo18zHOx",
        "outputId": "30645bc3-2728-4f93-ffea-aa5450017a76"
      },
      "execution_count": 111,
      "outputs": [
        {
          "output_type": "stream",
          "name": "stdout",
          "text": [
            "\u001b[33m42f23e7\u001b[m\u001b[33m (\u001b[m\u001b[1;36mHEAD -> \u001b[m\u001b[1;32mvioleta/test3\u001b[m\u001b[33m)\u001b[m Add French greeting\n",
            "\u001b[33m9823bb8\u001b[m More dramatic farewell\n",
            "\u001b[33m8d96e5d\u001b[m Add farewell\n",
            "\u001b[33ma1f6079\u001b[m Add hello world\n"
          ]
        }
      ]
    },
    {
      "cell_type": "code",
      "source": [
        "!git status"
      ],
      "metadata": {
        "colab": {
          "base_uri": "https://localhost:8080/"
        },
        "id": "kz1ZTEPLzmR0",
        "outputId": "0c4ebd7d-cff2-4226-86cf-15bd9ce532bd"
      },
      "execution_count": 112,
      "outputs": [
        {
          "output_type": "stream",
          "name": "stdout",
          "text": [
            "On branch violeta/test3\n",
            "nothing to commit, working tree clean\n"
          ]
        }
      ]
    },
    {
      "cell_type": "code",
      "source": [
        "!sed -i '$s/$/\\n\\nprint(\"The End\")/' hello.py\n",
        "!cat hello.py"
      ],
      "metadata": {
        "colab": {
          "base_uri": "https://localhost:8080/"
        },
        "id": "SdGMgo5U0fl5",
        "outputId": "1aee1693-30d1-40e8-e881-be95e0214250"
      },
      "execution_count": 113,
      "outputs": [
        {
          "output_type": "stream",
          "name": "stdout",
          "text": [
            "print('Bonjour...')\n",
            "print('Hello world')\n",
            "\n",
            "print(\"and goodbye\")\n",
            "\n",
            "print(\"adieu!\")\n",
            "\n",
            "print(\"The End\")\n"
          ]
        }
      ]
    },
    {
      "cell_type": "code",
      "source": [
        "!git status"
      ],
      "metadata": {
        "colab": {
          "base_uri": "https://localhost:8080/"
        },
        "id": "1PsfGnmg0hmx",
        "outputId": "ebc09596-ed40-44b8-b675-3812f61915da"
      },
      "execution_count": 114,
      "outputs": [
        {
          "output_type": "stream",
          "name": "stdout",
          "text": [
            "On branch violeta/test3\n",
            "Changes not staged for commit:\n",
            "  (use \"git add <file>...\" to update what will be committed)\n",
            "  (use \"git restore <file>...\" to discard changes in working directory)\n",
            "\t\u001b[31mmodified:   hello.py\u001b[m\n",
            "\n",
            "no changes added to commit (use \"git add\" and/or \"git commit -a\")\n"
          ]
        }
      ]
    },
    {
      "cell_type": "code",
      "source": [
        "!git diff"
      ],
      "metadata": {
        "colab": {
          "base_uri": "https://localhost:8080/"
        },
        "id": "47KzlqGO0klK",
        "outputId": "703272ac-c84c-4f5c-fc8b-2eb0de7af845"
      },
      "execution_count": 115,
      "outputs": [
        {
          "output_type": "stream",
          "name": "stdout",
          "text": [
            "\u001b[1mdiff --git a/hello.py b/hello.py\u001b[m\n",
            "\u001b[1mindex 78d89e1..4512206 100644\u001b[m\n",
            "\u001b[1m--- a/hello.py\u001b[m\n",
            "\u001b[1m+++ b/hello.py\u001b[m\n",
            "\u001b[36m@@ -4,3 +4,5 @@\u001b[m \u001b[mprint('Hello world')\u001b[m\n",
            " print(\"and goodbye\")\u001b[m\n",
            " \u001b[m\n",
            " print(\"adieu!\")\u001b[m\n",
            "\u001b[32m+\u001b[m\n",
            "\u001b[32m+\u001b[m\u001b[32mprint(\"The End\")\u001b[m\n"
          ]
        }
      ]
    },
    {
      "cell_type": "code",
      "source": [
        "!git reset --soft HEAD~1"
      ],
      "metadata": {
        "id": "p39M-d5kzXgu"
      },
      "execution_count": 116,
      "outputs": []
    },
    {
      "cell_type": "code",
      "source": [
        "!git log --oneline"
      ],
      "metadata": {
        "colab": {
          "base_uri": "https://localhost:8080/"
        },
        "id": "RugxTaC4zhKj",
        "outputId": "d9da90a4-2cd5-4257-caf3-fe16473f59a7"
      },
      "execution_count": 117,
      "outputs": [
        {
          "output_type": "stream",
          "name": "stdout",
          "text": [
            "\u001b[33m9823bb8\u001b[m\u001b[33m (\u001b[m\u001b[1;36mHEAD -> \u001b[m\u001b[1;32mvioleta/test3\u001b[m\u001b[33m)\u001b[m More dramatic farewell\n",
            "\u001b[33m8d96e5d\u001b[m Add farewell\n",
            "\u001b[33ma1f6079\u001b[m Add hello world\n"
          ]
        }
      ]
    },
    {
      "cell_type": "code",
      "source": [
        "!git status"
      ],
      "metadata": {
        "colab": {
          "base_uri": "https://localhost:8080/"
        },
        "id": "gQdLfSNizjSc",
        "outputId": "6ef8acf7-65b3-47d2-93d8-a693766a82c8"
      },
      "execution_count": 118,
      "outputs": [
        {
          "output_type": "stream",
          "name": "stdout",
          "text": [
            "On branch violeta/test3\n",
            "Changes to be committed:\n",
            "  (use \"git restore --staged <file>...\" to unstage)\n",
            "\t\u001b[32mmodified:   hello.py\u001b[m\n",
            "\n",
            "Changes not staged for commit:\n",
            "  (use \"git add <file>...\" to update what will be committed)\n",
            "  (use \"git restore <file>...\" to discard changes in working directory)\n",
            "\t\u001b[31mmodified:   hello.py\u001b[m\n",
            "\n"
          ]
        }
      ]
    },
    {
      "cell_type": "code",
      "source": [
        "!git diff --staged"
      ],
      "metadata": {
        "colab": {
          "base_uri": "https://localhost:8080/"
        },
        "id": "QGEk1BTqzrgD",
        "outputId": "17eeefef-97bb-4b19-fb3a-323142de9480"
      },
      "execution_count": 119,
      "outputs": [
        {
          "output_type": "stream",
          "name": "stdout",
          "text": [
            "\u001b[1mdiff --git a/hello.py b/hello.py\u001b[m\n",
            "\u001b[1mindex 29443ce..78d89e1 100644\u001b[m\n",
            "\u001b[1m--- a/hello.py\u001b[m\n",
            "\u001b[1m+++ b/hello.py\u001b[m\n",
            "\u001b[36m@@ -1,3 +1,4 @@\u001b[m\n",
            "\u001b[32m+\u001b[m\u001b[32mprint('Bonjour...')\u001b[m\n",
            " print('Hello world')\u001b[m\n",
            " \u001b[m\n",
            " print(\"and goodbye\")\u001b[m\n"
          ]
        }
      ]
    },
    {
      "cell_type": "code",
      "source": [
        "!git diff"
      ],
      "metadata": {
        "colab": {
          "base_uri": "https://localhost:8080/"
        },
        "id": "Rs74yP0_0r7a",
        "outputId": "09c495b0-36c0-48bc-a5ff-f3b15983087c"
      },
      "execution_count": 120,
      "outputs": [
        {
          "output_type": "stream",
          "name": "stdout",
          "text": [
            "\u001b[1mdiff --git a/hello.py b/hello.py\u001b[m\n",
            "\u001b[1mindex 78d89e1..4512206 100644\u001b[m\n",
            "\u001b[1m--- a/hello.py\u001b[m\n",
            "\u001b[1m+++ b/hello.py\u001b[m\n",
            "\u001b[36m@@ -4,3 +4,5 @@\u001b[m \u001b[mprint('Hello world')\u001b[m\n",
            " print(\"and goodbye\")\u001b[m\n",
            " \u001b[m\n",
            " print(\"adieu!\")\u001b[m\n",
            "\u001b[32m+\u001b[m\n",
            "\u001b[32m+\u001b[m\u001b[32mprint(\"The End\")\u001b[m\n"
          ]
        }
      ]
    },
    {
      "cell_type": "code",
      "source": [
        "!git commit -m \"Add French greeting\""
      ],
      "metadata": {
        "colab": {
          "base_uri": "https://localhost:8080/"
        },
        "id": "_RWHWFxyzuMg",
        "outputId": "929d4f3a-05fa-428b-da9a-d2e94b44bee9"
      },
      "execution_count": 121,
      "outputs": [
        {
          "output_type": "stream",
          "name": "stdout",
          "text": [
            "[violeta/test3 35e2598] Add French greeting\n",
            " 1 file changed, 1 insertion(+)\n"
          ]
        }
      ]
    },
    {
      "cell_type": "code",
      "source": [
        "!git log --oneline"
      ],
      "metadata": {
        "colab": {
          "base_uri": "https://localhost:8080/"
        },
        "id": "z7HizhyZz2gC",
        "outputId": "9569695f-384a-48cd-b083-8d4d0f6dbeee"
      },
      "execution_count": 122,
      "outputs": [
        {
          "output_type": "stream",
          "name": "stdout",
          "text": [
            "\u001b[33m35e2598\u001b[m\u001b[33m (\u001b[m\u001b[1;36mHEAD -> \u001b[m\u001b[1;32mvioleta/test3\u001b[m\u001b[33m)\u001b[m Add French greeting\n",
            "\u001b[33m9823bb8\u001b[m More dramatic farewell\n",
            "\u001b[33m8d96e5d\u001b[m Add farewell\n",
            "\u001b[33ma1f6079\u001b[m Add hello world\n"
          ]
        }
      ]
    },
    {
      "cell_type": "code",
      "source": [
        "!git status"
      ],
      "metadata": {
        "colab": {
          "base_uri": "https://localhost:8080/"
        },
        "id": "enxqNbhG0Jon",
        "outputId": "266fdb44-1311-44fc-ec76-450573bbfc31"
      },
      "execution_count": 123,
      "outputs": [
        {
          "output_type": "stream",
          "name": "stdout",
          "text": [
            "On branch violeta/test3\n",
            "Changes not staged for commit:\n",
            "  (use \"git add <file>...\" to update what will be committed)\n",
            "  (use \"git restore <file>...\" to discard changes in working directory)\n",
            "\t\u001b[31mmodified:   hello.py\u001b[m\n",
            "\n",
            "no changes added to commit (use \"git add\" and/or \"git commit -a\")\n"
          ]
        }
      ]
    },
    {
      "cell_type": "code",
      "source": [
        "!git diff"
      ],
      "metadata": {
        "colab": {
          "base_uri": "https://localhost:8080/"
        },
        "id": "k4MA1PcK0ywY",
        "outputId": "00add765-c096-4ca8-8d4d-c8e772e442e5"
      },
      "execution_count": 124,
      "outputs": [
        {
          "output_type": "stream",
          "name": "stdout",
          "text": [
            "\u001b[1mdiff --git a/hello.py b/hello.py\u001b[m\n",
            "\u001b[1mindex 78d89e1..4512206 100644\u001b[m\n",
            "\u001b[1m--- a/hello.py\u001b[m\n",
            "\u001b[1m+++ b/hello.py\u001b[m\n",
            "\u001b[36m@@ -4,3 +4,5 @@\u001b[m \u001b[mprint('Hello world')\u001b[m\n",
            " print(\"and goodbye\")\u001b[m\n",
            " \u001b[m\n",
            " print(\"adieu!\")\u001b[m\n",
            "\u001b[32m+\u001b[m\n",
            "\u001b[32m+\u001b[m\u001b[32mprint(\"The End\")\u001b[m\n"
          ]
        }
      ]
    },
    {
      "cell_type": "code",
      "source": [
        "!git reset --mixed HEAD~1"
      ],
      "metadata": {
        "colab": {
          "base_uri": "https://localhost:8080/"
        },
        "id": "UJsO9CVuz4Ts",
        "outputId": "462042b7-cee0-4314-f4b6-3661a1ef5774"
      },
      "execution_count": 125,
      "outputs": [
        {
          "output_type": "stream",
          "name": "stdout",
          "text": [
            "Unstaged changes after reset:\n",
            "M\thello.py\n"
          ]
        }
      ]
    },
    {
      "cell_type": "code",
      "source": [
        "!git status"
      ],
      "metadata": {
        "colab": {
          "base_uri": "https://localhost:8080/"
        },
        "id": "gQRr38nf0Ltj",
        "outputId": "71cf0a4b-0e1c-4100-ca9a-700b5f68c3d3"
      },
      "execution_count": 126,
      "outputs": [
        {
          "output_type": "stream",
          "name": "stdout",
          "text": [
            "On branch violeta/test3\n",
            "Changes not staged for commit:\n",
            "  (use \"git add <file>...\" to update what will be committed)\n",
            "  (use \"git restore <file>...\" to discard changes in working directory)\n",
            "\t\u001b[31mmodified:   hello.py\u001b[m\n",
            "\n",
            "no changes added to commit (use \"git add\" and/or \"git commit -a\")\n"
          ]
        }
      ]
    },
    {
      "cell_type": "code",
      "source": [
        "!git diff"
      ],
      "metadata": {
        "colab": {
          "base_uri": "https://localhost:8080/"
        },
        "id": "EZZhrfI10L1j",
        "outputId": "400cc1e7-6ef5-40cc-d25a-ce79fc857ab1"
      },
      "execution_count": 127,
      "outputs": [
        {
          "output_type": "stream",
          "name": "stdout",
          "text": [
            "\u001b[1mdiff --git a/hello.py b/hello.py\u001b[m\n",
            "\u001b[1mindex 29443ce..4512206 100644\u001b[m\n",
            "\u001b[1m--- a/hello.py\u001b[m\n",
            "\u001b[1m+++ b/hello.py\u001b[m\n",
            "\u001b[36m@@ -1,5 +1,8 @@\u001b[m\n",
            "\u001b[32m+\u001b[m\u001b[32mprint('Bonjour...')\u001b[m\n",
            " print('Hello world')\u001b[m\n",
            " \u001b[m\n",
            " print(\"and goodbye\")\u001b[m\n",
            " \u001b[m\n",
            " print(\"adieu!\")\u001b[m\n",
            "\u001b[32m+\u001b[m\n",
            "\u001b[32m+\u001b[m\u001b[32mprint(\"The End\")\u001b[m\n"
          ]
        }
      ]
    },
    {
      "cell_type": "code",
      "source": [
        "!git add -p"
      ],
      "metadata": {
        "colab": {
          "base_uri": "https://localhost:8080/"
        },
        "id": "LuTlIKs405iN",
        "outputId": "598ea345-9a67-455b-ad35-1acdc2854653"
      },
      "execution_count": 128,
      "outputs": [
        {
          "output_type": "stream",
          "name": "stdout",
          "text": [
            "\u001b[1mdiff --git a/hello.py b/hello.py\u001b[m\n",
            "\u001b[1mindex 29443ce..4512206 100644\u001b[m\n",
            "\u001b[1m--- a/hello.py\u001b[m\n",
            "\u001b[1m+++ b/hello.py\u001b[m\n",
            "\u001b[36m@@ -1,5 +1,8 @@\u001b[m\n",
            "\u001b[32m+\u001b[m\u001b[32mprint('Bonjour...')\u001b[m\n",
            " print('Hello world')\u001b[m\n",
            " \u001b[m\n",
            " print(\"and goodbye\")\u001b[m\n",
            " \u001b[m\n",
            " print(\"adieu!\")\u001b[m\n",
            "\u001b[32m+\u001b[m\n",
            "\u001b[32m+\u001b[m\u001b[32mprint(\"The End\")\u001b[m\n",
            "\u001b[1;34m(1/1) Stage this hunk [y,n,q,a,d,s,e,?]? \u001b[ms\n",
            "\u001b[1mSplit into 2 hunks.\u001b[m\n",
            "\u001b[36m@@ -1,5 +1,6 @@\u001b[m\n",
            "\u001b[32m+\u001b[m\u001b[32mprint('Bonjour...')\u001b[m\n",
            " print('Hello world')\u001b[m\n",
            " \u001b[m\n",
            " print(\"and goodbye\")\u001b[m\n",
            " \u001b[m\n",
            " print(\"adieu!\")\u001b[m\n",
            "\u001b[1;34m(1/2) Stage this hunk [y,n,q,a,d,j,J,g,/,e,?]? \u001b[my\n",
            "\u001b[36m@@ -1,5 +2,7 @@\u001b[m\n",
            " print('Hello world')\u001b[m\n",
            " \u001b[m\n",
            " print(\"and goodbye\")\u001b[m\n",
            " \u001b[m\n",
            " print(\"adieu!\")\u001b[m\n",
            "\u001b[32m+\u001b[m\n",
            "\u001b[32m+\u001b[m\u001b[32mprint(\"The End\")\u001b[m\n",
            "\u001b[1;34m(2/2) Stage this hunk [y,n,q,a,d,K,g,/,e,?]? \u001b[mq\n",
            "\n"
          ]
        }
      ]
    },
    {
      "cell_type": "code",
      "source": [
        "!git diff --staged"
      ],
      "metadata": {
        "colab": {
          "base_uri": "https://localhost:8080/"
        },
        "id": "TgPP9goF1BPr",
        "outputId": "42b5d56d-2e3f-45ef-e670-66abca3e863c"
      },
      "execution_count": 129,
      "outputs": [
        {
          "output_type": "stream",
          "name": "stdout",
          "text": [
            "\u001b[1mdiff --git a/hello.py b/hello.py\u001b[m\n",
            "\u001b[1mindex 29443ce..78d89e1 100644\u001b[m\n",
            "\u001b[1m--- a/hello.py\u001b[m\n",
            "\u001b[1m+++ b/hello.py\u001b[m\n",
            "\u001b[36m@@ -1,3 +1,4 @@\u001b[m\n",
            "\u001b[32m+\u001b[m\u001b[32mprint('Bonjour...')\u001b[m\n",
            " print('Hello world')\u001b[m\n",
            " \u001b[m\n",
            " print(\"and goodbye\")\u001b[m\n"
          ]
        }
      ]
    },
    {
      "cell_type": "code",
      "source": [
        "!git commit -m \"Add French greeting\""
      ],
      "metadata": {
        "colab": {
          "base_uri": "https://localhost:8080/"
        },
        "id": "vjzWfLG10Qzz",
        "outputId": "2a4963a6-0c00-42bc-ec5b-92fbc298dc4d"
      },
      "execution_count": 130,
      "outputs": [
        {
          "output_type": "stream",
          "name": "stdout",
          "text": [
            "[violeta/test3 7ae7707] Add French greeting\n",
            " 1 file changed, 1 insertion(+)\n"
          ]
        }
      ]
    },
    {
      "cell_type": "code",
      "source": [
        "!git log --oneline"
      ],
      "metadata": {
        "colab": {
          "base_uri": "https://localhost:8080/"
        },
        "id": "-a2jbY8e0_yx",
        "outputId": "30f70569-0802-4dbb-8dac-5c0c0f5ee945"
      },
      "execution_count": 131,
      "outputs": [
        {
          "output_type": "stream",
          "name": "stdout",
          "text": [
            "\u001b[33m7ae7707\u001b[m\u001b[33m (\u001b[m\u001b[1;36mHEAD -> \u001b[m\u001b[1;32mvioleta/test3\u001b[m\u001b[33m)\u001b[m Add French greeting\n",
            "\u001b[33m9823bb8\u001b[m More dramatic farewell\n",
            "\u001b[33m8d96e5d\u001b[m Add farewell\n",
            "\u001b[33ma1f6079\u001b[m Add hello world\n"
          ]
        }
      ]
    },
    {
      "cell_type": "code",
      "source": [
        "!git status"
      ],
      "metadata": {
        "colab": {
          "base_uri": "https://localhost:8080/"
        },
        "id": "R-Z_m3Kx1IjY",
        "outputId": "34f93082-9146-4b3c-c590-f8cbb4004edf"
      },
      "execution_count": 132,
      "outputs": [
        {
          "output_type": "stream",
          "name": "stdout",
          "text": [
            "On branch violeta/test3\n",
            "Changes not staged for commit:\n",
            "  (use \"git add <file>...\" to update what will be committed)\n",
            "  (use \"git restore <file>...\" to discard changes in working directory)\n",
            "\t\u001b[31mmodified:   hello.py\u001b[m\n",
            "\n",
            "no changes added to commit (use \"git add\" and/or \"git commit -a\")\n"
          ]
        }
      ]
    },
    {
      "cell_type": "code",
      "source": [
        "!git reset --hard HEAD~1"
      ],
      "metadata": {
        "colab": {
          "base_uri": "https://localhost:8080/"
        },
        "id": "1Dph7x7M1Mlc",
        "outputId": "4203b431-950f-40d0-c690-53bebeb52727"
      },
      "execution_count": 133,
      "outputs": [
        {
          "output_type": "stream",
          "name": "stdout",
          "text": [
            "HEAD is now at 9823bb8 More dramatic farewell\n"
          ]
        }
      ]
    },
    {
      "cell_type": "code",
      "source": [
        "!git log --oneline"
      ],
      "metadata": {
        "colab": {
          "base_uri": "https://localhost:8080/"
        },
        "id": "UAYqzbLV1U30",
        "outputId": "01098ba2-fa2d-4791-c435-178f70c2823e"
      },
      "execution_count": 134,
      "outputs": [
        {
          "output_type": "stream",
          "name": "stdout",
          "text": [
            "\u001b[33m9823bb8\u001b[m\u001b[33m (\u001b[m\u001b[1;36mHEAD -> \u001b[m\u001b[1;32mvioleta/test3\u001b[m\u001b[33m)\u001b[m More dramatic farewell\n",
            "\u001b[33m8d96e5d\u001b[m Add farewell\n",
            "\u001b[33ma1f6079\u001b[m Add hello world\n"
          ]
        }
      ]
    },
    {
      "cell_type": "code",
      "source": [
        "!git status"
      ],
      "metadata": {
        "colab": {
          "base_uri": "https://localhost:8080/"
        },
        "id": "vnGL6MmZ1SjJ",
        "outputId": "e896889b-0fb8-4bab-82c0-4278486d881f"
      },
      "execution_count": 135,
      "outputs": [
        {
          "output_type": "stream",
          "name": "stdout",
          "text": [
            "On branch violeta/test3\n",
            "nothing to commit, working tree clean\n"
          ]
        }
      ]
    },
    {
      "cell_type": "code",
      "source": [
        "!cat hello.py"
      ],
      "metadata": {
        "colab": {
          "base_uri": "https://localhost:8080/"
        },
        "id": "7c4gPGzc1XJO",
        "outputId": "8fb39f26-0d26-4d3a-d6ea-9001eca2c521"
      },
      "execution_count": 136,
      "outputs": [
        {
          "output_type": "stream",
          "name": "stdout",
          "text": [
            "print('Hello world')\n",
            "\n",
            "print(\"and goodbye\")\n",
            "\n",
            "print(\"adieu!\")\n"
          ]
        }
      ]
    }
  ]
}