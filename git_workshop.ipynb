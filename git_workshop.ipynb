{
  "nbformat": 4,
  "nbformat_minor": 0,
  "metadata": {
    "colab": {
      "provenance": [],
      "toc_visible": true,
      "authorship_tag": "ABX9TyNLX1r3zmmKrCkfwlKIZM8G",
      "include_colab_link": true
    },
    "kernelspec": {
      "name": "python3",
      "display_name": "Python 3"
    },
    "language_info": {
      "name": "python"
    }
  },
  "cells": [
    {
      "cell_type": "markdown",
      "metadata": {
        "id": "view-in-github",
        "colab_type": "text"
      },
      "source": [
        "<a href=\"https://colab.research.google.com/github/violetamenendez/git_workshop/blob/main/git_workshop.ipynb\" target=\"_parent\"><img src=\"https://colab.research.google.com/assets/colab-badge.svg\" alt=\"Open In Colab\"/></a>"
      ]
    },
    {
      "cell_type": "markdown",
      "source": [
        "![mmh_logo_banner.png](data:image/png;base64,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)"
      ],
      "metadata": {
        "id": "xZpWQjdzgY-w"
      }
    },
    {
      "cell_type": "markdown",
      "source": [
        "# git secret sauce\n",
        "\n",
        "Welcome to the January 2023 edition of the Monthly Mini Hacks, and the second edition of this Git workshop.\n",
        "\n",
        "We will learn the basics of git commands and git workflow. We will try to go deeper into some concepts and some more advance commands that will make your life easier. We will also try to cover some basic usage of github as a git service for code sharing and collaborating.\n",
        "\n",
        "This notebook is meant to be an interactive interface for our workshop demos. You can see the previous workshop slides here: https://f1000research.com/slides/11-586 "
      ],
      "metadata": {
        "id": "qVIdgxxrSPmo"
      }
    },
    {
      "cell_type": "markdown",
      "source": [
        "# Demo 1: Starting a repo"
      ],
      "metadata": {
        "id": "Jpg-2UGGvtiL"
      }
    },
    {
      "cell_type": "code",
      "execution_count": 3,
      "metadata": {
        "colab": {
          "base_uri": "https://localhost:8080/"
        },
        "id": "AuXULPRDRbS1",
        "outputId": "6250a587-7b0b-499c-d141-72d9eef7d296"
      },
      "outputs": [
        {
          "output_type": "stream",
          "name": "stdout",
          "text": [
            "git version 2.25.1\n"
          ]
        }
      ],
      "source": [
        "!git --version"
      ]
    },
    {
      "cell_type": "code",
      "source": [
        "!git config user.name\n",
        "!git config user.email"
      ],
      "metadata": {
        "id": "X78QrPDxjUc1"
      },
      "execution_count": 4,
      "outputs": []
    },
    {
      "cell_type": "code",
      "source": [
        "!git config --global user.email \"jan.minihack@mmh.com\"\n",
        "\n",
        "!git config --global user.name \"Jan M. Minihack\""
      ],
      "metadata": {
        "id": "16Q88G25ipQs"
      },
      "execution_count": 5,
      "outputs": []
    },
    {
      "cell_type": "code",
      "source": [
        "!git config user.name\n",
        "!git config user.email"
      ],
      "metadata": {
        "colab": {
          "base_uri": "https://localhost:8080/"
        },
        "id": "8eIrlXRMjl2A",
        "outputId": "ef706909-cef9-4d1e-ab8b-9c3d4ec894c4"
      },
      "execution_count": 6,
      "outputs": [
        {
          "output_type": "stream",
          "name": "stdout",
          "text": [
            "Jan M. Minihack\n",
            "jan.minihack@mmh.com\n"
          ]
        }
      ]
    },
    {
      "cell_type": "code",
      "source": [
        "!git config --list"
      ],
      "metadata": {
        "colab": {
          "base_uri": "https://localhost:8080/"
        },
        "id": "jatiXMitkGdg",
        "outputId": "0422376e-636b-4dc6-ad88-c4a38be1fa10"
      },
      "execution_count": 7,
      "outputs": [
        {
          "output_type": "stream",
          "name": "stdout",
          "text": [
            "filter.lfs.clean=git-lfs clean -- %f\n",
            "filter.lfs.smudge=git-lfs smudge -- %f\n",
            "filter.lfs.process=git-lfs filter-process\n",
            "filter.lfs.required=true\n",
            "user.email=jan.minihack@mmh.com\n",
            "user.name=Jan M. Minihack\n"
          ]
        }
      ]
    },
    {
      "cell_type": "code",
      "source": [
        "!mkdir git_workshop\n",
        "%cd git_workshop"
      ],
      "metadata": {
        "colab": {
          "base_uri": "https://localhost:8080/"
        },
        "id": "Ju1I76c9FlUt",
        "outputId": "986a20e8-b0a9-478f-fd70-fdf678424c77"
      },
      "execution_count": 8,
      "outputs": [
        {
          "output_type": "stream",
          "name": "stdout",
          "text": [
            "/content/git_workshop\n"
          ]
        }
      ]
    },
    {
      "cell_type": "code",
      "source": [
        "!git init"
      ],
      "metadata": {
        "colab": {
          "base_uri": "https://localhost:8080/"
        },
        "id": "sIdVxB6soUok",
        "outputId": "3a7d4653-f47a-47af-e9a2-c55929dd1644"
      },
      "execution_count": 9,
      "outputs": [
        {
          "output_type": "stream",
          "name": "stdout",
          "text": [
            "Initialized empty Git repository in /content/git_workshop/.git/\n"
          ]
        }
      ]
    },
    {
      "cell_type": "code",
      "source": [
        "!git status"
      ],
      "metadata": {
        "colab": {
          "base_uri": "https://localhost:8080/"
        },
        "id": "Xo4auRe-t5GX",
        "outputId": "0a9fffe4-ed71-47f3-c270-72983d3422ac"
      },
      "execution_count": 10,
      "outputs": [
        {
          "output_type": "stream",
          "name": "stdout",
          "text": [
            "On branch master\n",
            "\n",
            "No commits yet\n",
            "\n",
            "nothing to commit (create/copy files and use \"git add\" to track)\n"
          ]
        }
      ]
    },
    {
      "cell_type": "code",
      "source": [
        "!echo \"print('Hello world')\" > hello.py\n",
        "!cat hello.py"
      ],
      "metadata": {
        "colab": {
          "base_uri": "https://localhost:8080/"
        },
        "id": "KFxHSM0zt32g",
        "outputId": "3dae4feb-4208-4159-a688-7369408aae97"
      },
      "execution_count": 11,
      "outputs": [
        {
          "output_type": "stream",
          "name": "stdout",
          "text": [
            "print('Hello world')\n"
          ]
        }
      ]
    },
    {
      "cell_type": "code",
      "source": [
        "!git status"
      ],
      "metadata": {
        "colab": {
          "base_uri": "https://localhost:8080/"
        },
        "id": "nSO1HRwxpBP2",
        "outputId": "7535ca66-ca8a-4515-fbb5-d640dac8f582"
      },
      "execution_count": 12,
      "outputs": [
        {
          "output_type": "stream",
          "name": "stdout",
          "text": [
            "On branch master\n",
            "\n",
            "No commits yet\n",
            "\n",
            "Untracked files:\n",
            "  (use \"git add <file>...\" to include in what will be committed)\n",
            "\t\u001b[31mhello.py\u001b[m\n",
            "\n",
            "nothing added to commit but untracked files present (use \"git add\" to track)\n"
          ]
        }
      ]
    },
    {
      "cell_type": "code",
      "source": [
        "!git diff"
      ],
      "metadata": {
        "id": "MwlyLwmepetB"
      },
      "execution_count": 13,
      "outputs": []
    },
    {
      "cell_type": "code",
      "source": [
        "!git add hello.py"
      ],
      "metadata": {
        "id": "Opj3fgTrpZ7l"
      },
      "execution_count": 14,
      "outputs": []
    },
    {
      "cell_type": "code",
      "source": [
        "!git status"
      ],
      "metadata": {
        "colab": {
          "base_uri": "https://localhost:8080/"
        },
        "id": "r9EsOR3ApiXC",
        "outputId": "1984f0f9-8179-4032-f576-d02606f4406f"
      },
      "execution_count": 15,
      "outputs": [
        {
          "output_type": "stream",
          "name": "stdout",
          "text": [
            "On branch master\n",
            "\n",
            "No commits yet\n",
            "\n",
            "Changes to be committed:\n",
            "  (use \"git rm --cached <file>...\" to unstage)\n",
            "\t\u001b[32mnew file:   hello.py\u001b[m\n",
            "\n"
          ]
        }
      ]
    },
    {
      "cell_type": "code",
      "source": [
        "!git diff --cached"
      ],
      "metadata": {
        "colab": {
          "base_uri": "https://localhost:8080/"
        },
        "id": "mcsEDB_UpoYl",
        "outputId": "91f7ebab-42ac-459c-9c60-055f55126b0b"
      },
      "execution_count": 16,
      "outputs": [
        {
          "output_type": "stream",
          "name": "stdout",
          "text": [
            "\u001b[1mdiff --git a/hello.py b/hello.py\u001b[m\n",
            "\u001b[1mnew file mode 100644\u001b[m\n",
            "\u001b[1mindex 0000000..f7d1785\u001b[m\n",
            "\u001b[1m--- /dev/null\u001b[m\n",
            "\u001b[1m+++ b/hello.py\u001b[m\n",
            "\u001b[36m@@ -0,0 +1 @@\u001b[m\n",
            "\u001b[32m+\u001b[m\u001b[32mprint('Hello world')\u001b[m\n"
          ]
        }
      ]
    },
    {
      "cell_type": "code",
      "source": [
        "!git commit -m \"Add hello world\""
      ],
      "metadata": {
        "colab": {
          "base_uri": "https://localhost:8080/"
        },
        "id": "8rUJ3fWgp1fQ",
        "outputId": "3ecdfc8d-b844-42de-92e3-225adbd5ef9c"
      },
      "execution_count": 17,
      "outputs": [
        {
          "output_type": "stream",
          "name": "stdout",
          "text": [
            "[master (root-commit) 956eaab] Add hello world\n",
            " 1 file changed, 1 insertion(+)\n",
            " create mode 100644 hello.py\n"
          ]
        }
      ]
    },
    {
      "cell_type": "code",
      "source": [
        "!git status"
      ],
      "metadata": {
        "colab": {
          "base_uri": "https://localhost:8080/"
        },
        "id": "pY6L-9lxp7Jz",
        "outputId": "70712941-2ecb-4972-ee30-5f00e2f06bd2"
      },
      "execution_count": 18,
      "outputs": [
        {
          "output_type": "stream",
          "name": "stdout",
          "text": [
            "On branch master\n",
            "nothing to commit, working tree clean\n"
          ]
        }
      ]
    },
    {
      "cell_type": "code",
      "source": [
        "!git log"
      ],
      "metadata": {
        "colab": {
          "base_uri": "https://localhost:8080/"
        },
        "id": "oP5RnIk_qAXF",
        "outputId": "4239a81f-eea1-4c42-fd38-2e38576863e0"
      },
      "execution_count": 19,
      "outputs": [
        {
          "output_type": "stream",
          "name": "stdout",
          "text": [
            "\u001b[33mcommit 956eaab1e145982126823f14c13730d9f2e694f9\u001b[m\u001b[33m (\u001b[m\u001b[1;36mHEAD -> \u001b[m\u001b[1;32mmaster\u001b[m\u001b[33m)\u001b[m\n",
            "Author: Jan M. Minihack <jan.minihack@mmh.com>\n",
            "Date:   Thu Jan 26 22:16:28 2023 +0000\n",
            "\n",
            "    Add hello world\n"
          ]
        }
      ]
    },
    {
      "cell_type": "code",
      "source": [
        "!git log -p"
      ],
      "metadata": {
        "colab": {
          "base_uri": "https://localhost:8080/"
        },
        "id": "B7jd-vpXqFi_",
        "outputId": "7bd62761-872e-416a-d2a3-3a2d6b148b3e"
      },
      "execution_count": 20,
      "outputs": [
        {
          "output_type": "stream",
          "name": "stdout",
          "text": [
            "\u001b[33mcommit 956eaab1e145982126823f14c13730d9f2e694f9\u001b[m\u001b[33m (\u001b[m\u001b[1;36mHEAD -> \u001b[m\u001b[1;32mmaster\u001b[m\u001b[33m)\u001b[m\n",
            "Author: Jan M. Minihack <jan.minihack@mmh.com>\n",
            "Date:   Thu Jan 26 22:16:28 2023 +0000\n",
            "\n",
            "    Add hello world\n",
            "\n",
            "\u001b[1mdiff --git a/hello.py b/hello.py\u001b[m\n",
            "\u001b[1mnew file mode 100644\u001b[m\n",
            "\u001b[1mindex 0000000..f7d1785\u001b[m\n",
            "\u001b[1m--- /dev/null\u001b[m\n",
            "\u001b[1m+++ b/hello.py\u001b[m\n",
            "\u001b[36m@@ -0,0 +1 @@\u001b[m\n",
            "\u001b[32m+\u001b[m\u001b[32mprint('Hello world')\u001b[m\n"
          ]
        }
      ]
    },
    {
      "cell_type": "code",
      "source": [
        "!git log --stat"
      ],
      "metadata": {
        "colab": {
          "base_uri": "https://localhost:8080/"
        },
        "id": "6TYTGKF-qNS2",
        "outputId": "5d1f935c-bfad-4f97-f8e5-ecca1e5aef6e"
      },
      "execution_count": 21,
      "outputs": [
        {
          "output_type": "stream",
          "name": "stdout",
          "text": [
            "\u001b[33mcommit 956eaab1e145982126823f14c13730d9f2e694f9\u001b[m\u001b[33m (\u001b[m\u001b[1;36mHEAD -> \u001b[m\u001b[1;32mmaster\u001b[m\u001b[33m)\u001b[m\n",
            "Author: Jan M. Minihack <jan.minihack@mmh.com>\n",
            "Date:   Thu Jan 26 22:16:28 2023 +0000\n",
            "\n",
            "    Add hello world\n",
            "\n",
            " hello.py | 1 \u001b[32m+\u001b[m\n",
            " 1 file changed, 1 insertion(+)\n"
          ]
        }
      ]
    },
    {
      "cell_type": "code",
      "source": [
        "!git log --oneline"
      ],
      "metadata": {
        "colab": {
          "base_uri": "https://localhost:8080/"
        },
        "id": "21if9WNAqH0W",
        "outputId": "7b1c8f7c-1930-49b7-b9b8-af7210dd69d8"
      },
      "execution_count": 22,
      "outputs": [
        {
          "output_type": "stream",
          "name": "stdout",
          "text": [
            "\u001b[33m956eaab\u001b[m\u001b[33m (\u001b[m\u001b[1;36mHEAD -> \u001b[m\u001b[1;32mmaster\u001b[m\u001b[33m)\u001b[m Add hello world\n"
          ]
        }
      ]
    },
    {
      "cell_type": "code",
      "source": [
        "!REVISION=(git rev-parse HEAD) #\"8d1da1594b24b7dd5e46d43d3b549ded9c4eddc0\"\n",
        "!git show $REVISION"
      ],
      "metadata": {
        "colab": {
          "base_uri": "https://localhost:8080/"
        },
        "id": "hqiiy31nqXAR",
        "outputId": "4eac48ca-ab83-4c96-84c3-57c96a7f9bd8"
      },
      "execution_count": 23,
      "outputs": [
        {
          "output_type": "stream",
          "name": "stdout",
          "text": [
            "\u001b[33mcommit 956eaab1e145982126823f14c13730d9f2e694f9\u001b[m\u001b[33m (\u001b[m\u001b[1;36mHEAD -> \u001b[m\u001b[1;32mmaster\u001b[m\u001b[33m)\u001b[m\n",
            "Author: Jan M. Minihack <jan.minihack@mmh.com>\n",
            "Date:   Thu Jan 26 22:16:28 2023 +0000\n",
            "\n",
            "    Add hello world\n",
            "\n",
            "\u001b[1mdiff --git a/hello.py b/hello.py\u001b[m\n",
            "\u001b[1mnew file mode 100644\u001b[m\n",
            "\u001b[1mindex 0000000..f7d1785\u001b[m\n",
            "\u001b[1m--- /dev/null\u001b[m\n",
            "\u001b[1m+++ b/hello.py\u001b[m\n",
            "\u001b[36m@@ -0,0 +1 @@\u001b[m\n",
            "\u001b[32m+\u001b[m\u001b[32mprint('Hello world')\u001b[m\n"
          ]
        }
      ]
    },
    {
      "cell_type": "code",
      "source": [
        "!sed -i '$s/$/\\n\\nprint(\"and goodbye\"/' hello.py\n",
        "!cat hello.py"
      ],
      "metadata": {
        "colab": {
          "base_uri": "https://localhost:8080/"
        },
        "id": "2d8k1UF7tC8g",
        "outputId": "6b0dfe1c-f96f-4851-b111-c19d71052116"
      },
      "execution_count": 24,
      "outputs": [
        {
          "output_type": "stream",
          "name": "stdout",
          "text": [
            "print('Hello world')\n",
            "\n",
            "print(\"and goodbye\"\n"
          ]
        }
      ]
    },
    {
      "cell_type": "code",
      "source": [
        "!git status"
      ],
      "metadata": {
        "colab": {
          "base_uri": "https://localhost:8080/"
        },
        "id": "za0rCo1WGUSx",
        "outputId": "0e62f2a2-22cb-4d35-e084-7666cdc67d59"
      },
      "execution_count": 25,
      "outputs": [
        {
          "output_type": "stream",
          "name": "stdout",
          "text": [
            "On branch master\n",
            "Changes not staged for commit:\n",
            "  (use \"git add <file>...\" to update what will be committed)\n",
            "  (use \"git restore <file>...\" to discard changes in working directory)\n",
            "\t\u001b[31mmodified:   hello.py\u001b[m\n",
            "\n",
            "no changes added to commit (use \"git add\" and/or \"git commit -a\")\n"
          ]
        }
      ]
    },
    {
      "cell_type": "code",
      "source": [
        "!git diff"
      ],
      "metadata": {
        "colab": {
          "base_uri": "https://localhost:8080/"
        },
        "id": "sh7c92OdGXFJ",
        "outputId": "6b59ec61-fd4b-4b08-f716-3ee8431f4318"
      },
      "execution_count": 26,
      "outputs": [
        {
          "output_type": "stream",
          "name": "stdout",
          "text": [
            "\u001b[1mdiff --git a/hello.py b/hello.py\u001b[m\n",
            "\u001b[1mindex f7d1785..773323c 100644\u001b[m\n",
            "\u001b[1m--- a/hello.py\u001b[m\n",
            "\u001b[1m+++ b/hello.py\u001b[m\n",
            "\u001b[36m@@ -1 +1,3 @@\u001b[m\n",
            " print('Hello world')\u001b[m\n",
            "\u001b[32m+\u001b[m\n",
            "\u001b[32m+\u001b[m\u001b[32mprint(\"and goodbye\"\u001b[m\n"
          ]
        }
      ]
    },
    {
      "cell_type": "code",
      "source": [
        "!sed -i \"1s/^/print('Hey!!')\\n/\" hello.py"
      ],
      "metadata": {
        "id": "jC5UurCkG0zS"
      },
      "execution_count": 27,
      "outputs": []
    },
    {
      "cell_type": "code",
      "source": [
        "!git diff"
      ],
      "metadata": {
        "colab": {
          "base_uri": "https://localhost:8080/"
        },
        "id": "G03hJAZWHBOh",
        "outputId": "31b06ac9-86f1-45d0-9b3c-7f9e1df3deb9"
      },
      "execution_count": 28,
      "outputs": [
        {
          "output_type": "stream",
          "name": "stdout",
          "text": [
            "\u001b[1mdiff --git a/hello.py b/hello.py\u001b[m\n",
            "\u001b[1mindex f7d1785..99a7853 100644\u001b[m\n",
            "\u001b[1m--- a/hello.py\u001b[m\n",
            "\u001b[1m+++ b/hello.py\u001b[m\n",
            "\u001b[36m@@ -1 +1,4 @@\u001b[m\n",
            "\u001b[32m+\u001b[m\u001b[32mprint('Hey!!')\u001b[m\n",
            " print('Hello world')\u001b[m\n",
            "\u001b[32m+\u001b[m\n",
            "\u001b[32m+\u001b[m\u001b[32mprint(\"and goodbye\"\u001b[m\n"
          ]
        }
      ]
    },
    {
      "cell_type": "code",
      "source": [
        "!git add -p"
      ],
      "metadata": {
        "colab": {
          "base_uri": "https://localhost:8080/"
        },
        "id": "xpBUdd2Bu_T3",
        "outputId": "ac6d9197-1093-4423-e0eb-a38451532cf5"
      },
      "execution_count": 29,
      "outputs": [
        {
          "output_type": "stream",
          "name": "stdout",
          "text": [
            "\u001b[1mdiff --git a/hello.py b/hello.py\u001b[m\n",
            "\u001b[1mindex f7d1785..99a7853 100644\u001b[m\n",
            "\u001b[1m--- a/hello.py\u001b[m\n",
            "\u001b[1m+++ b/hello.py\u001b[m\n",
            "\u001b[36m@@ -1 +1,4 @@\u001b[m\n",
            "\u001b[32m+\u001b[m\u001b[32mprint('Hey!!')\u001b[m\n",
            " print('Hello world')\u001b[m\n",
            "\u001b[32m+\u001b[m\n",
            "\u001b[32m+\u001b[m\u001b[32mprint(\"and goodbye\"\u001b[m\n",
            "\u001b[1;34m(1/1) Stage this hunk [y,n,q,a,d,s,e,?]? \u001b[ms\n",
            "\u001b[1mSplit into 2 hunks.\u001b[m\n",
            "\u001b[36m@@ -1 +1,2 @@\u001b[m\n",
            "\u001b[32m+\u001b[m\u001b[32mprint('Hey!!')\u001b[m\n",
            " print('Hello world')\u001b[m\n",
            "\u001b[1;34m(1/2) Stage this hunk [y,n,q,a,d,j,J,g,/,e,?]? \u001b[mn\n",
            "\u001b[36m@@ -1 +2,3 @@\u001b[m\n",
            " print('Hello world')\u001b[m\n",
            "\u001b[32m+\u001b[m\n",
            "\u001b[32m+\u001b[m\u001b[32mprint(\"and goodbye\"\u001b[m\n",
            "\u001b[1;34m(2/2) Stage this hunk [y,n,q,a,d,K,g,/,e,?]? \u001b[my\n",
            "\n"
          ]
        }
      ]
    },
    {
      "cell_type": "code",
      "source": [
        "!git status"
      ],
      "metadata": {
        "colab": {
          "base_uri": "https://localhost:8080/"
        },
        "id": "3jlK7po5HaQI",
        "outputId": "d4618583-35e2-4873-c174-373b7b103ea3"
      },
      "execution_count": 30,
      "outputs": [
        {
          "output_type": "stream",
          "name": "stdout",
          "text": [
            "On branch master\n",
            "Changes to be committed:\n",
            "  (use \"git restore --staged <file>...\" to unstage)\n",
            "\t\u001b[32mmodified:   hello.py\u001b[m\n",
            "\n",
            "Changes not staged for commit:\n",
            "  (use \"git add <file>...\" to update what will be committed)\n",
            "  (use \"git restore <file>...\" to discard changes in working directory)\n",
            "\t\u001b[31mmodified:   hello.py\u001b[m\n",
            "\n"
          ]
        }
      ]
    },
    {
      "cell_type": "code",
      "source": [
        "!git diff"
      ],
      "metadata": {
        "colab": {
          "base_uri": "https://localhost:8080/"
        },
        "id": "-5EaYY3mHc19",
        "outputId": "dcf45c08-b942-40e1-ddfd-862d5098680b"
      },
      "execution_count": 31,
      "outputs": [
        {
          "output_type": "stream",
          "name": "stdout",
          "text": [
            "\u001b[1mdiff --git a/hello.py b/hello.py\u001b[m\n",
            "\u001b[1mindex 773323c..99a7853 100644\u001b[m\n",
            "\u001b[1m--- a/hello.py\u001b[m\n",
            "\u001b[1m+++ b/hello.py\u001b[m\n",
            "\u001b[36m@@ -1,3 +1,4 @@\u001b[m\n",
            "\u001b[32m+\u001b[m\u001b[32mprint('Hey!!')\u001b[m\n",
            " print('Hello world')\u001b[m\n",
            " \u001b[m\n",
            " print(\"and goodbye\"\u001b[m\n"
          ]
        }
      ]
    },
    {
      "cell_type": "code",
      "source": [
        "!git diff --staged"
      ],
      "metadata": {
        "colab": {
          "base_uri": "https://localhost:8080/"
        },
        "id": "gn1pq9MVHfcW",
        "outputId": "05ab9141-e08c-46bf-9f5f-5b86f9b8c2be"
      },
      "execution_count": 32,
      "outputs": [
        {
          "output_type": "stream",
          "name": "stdout",
          "text": [
            "\u001b[1mdiff --git a/hello.py b/hello.py\u001b[m\n",
            "\u001b[1mindex f7d1785..773323c 100644\u001b[m\n",
            "\u001b[1m--- a/hello.py\u001b[m\n",
            "\u001b[1m+++ b/hello.py\u001b[m\n",
            "\u001b[36m@@ -1 +1,3 @@\u001b[m\n",
            " print('Hello world')\u001b[m\n",
            "\u001b[32m+\u001b[m\n",
            "\u001b[32m+\u001b[m\u001b[32mprint(\"and goodbye\"\u001b[m\n"
          ]
        }
      ]
    },
    {
      "cell_type": "code",
      "source": [
        "!git commit -m \"Add farewell\""
      ],
      "metadata": {
        "colab": {
          "base_uri": "https://localhost:8080/"
        },
        "id": "GEj7aDo4Hl5S",
        "outputId": "232148e0-f3e2-4e81-cd18-14484dcd08a7"
      },
      "execution_count": 33,
      "outputs": [
        {
          "output_type": "stream",
          "name": "stdout",
          "text": [
            "[master 7c41f0a] Add farewell\n",
            " 1 file changed, 2 insertions(+)\n"
          ]
        }
      ]
    },
    {
      "cell_type": "code",
      "source": [
        "!git log -p"
      ],
      "metadata": {
        "colab": {
          "base_uri": "https://localhost:8080/"
        },
        "id": "qfBKAK0rHo-t",
        "outputId": "a4fcb322-2935-41cc-dd7d-7a4b9b82f826"
      },
      "execution_count": 34,
      "outputs": [
        {
          "output_type": "stream",
          "name": "stdout",
          "text": [
            "\u001b[33mcommit 7c41f0a3d4f0bf34e47b7e801830886953c238b4\u001b[m\u001b[33m (\u001b[m\u001b[1;36mHEAD -> \u001b[m\u001b[1;32mmaster\u001b[m\u001b[33m)\u001b[m\n",
            "Author: Jan M. Minihack <jan.minihack@mmh.com>\n",
            "Date:   Thu Jan 26 22:17:19 2023 +0000\n",
            "\n",
            "    Add farewell\n",
            "\n",
            "\u001b[1mdiff --git a/hello.py b/hello.py\u001b[m\n",
            "\u001b[1mindex f7d1785..773323c 100644\u001b[m\n",
            "\u001b[1m--- a/hello.py\u001b[m\n",
            "\u001b[1m+++ b/hello.py\u001b[m\n",
            "\u001b[36m@@ -1 +1,3 @@\u001b[m\n",
            " print('Hello world')\u001b[m\n",
            "\u001b[32m+\u001b[m\n",
            "\u001b[32m+\u001b[m\u001b[32mprint(\"and goodbye\"\u001b[m\n",
            "\n",
            "\u001b[33mcommit 956eaab1e145982126823f14c13730d9f2e694f9\u001b[m\n",
            "Author: Jan M. Minihack <jan.minihack@mmh.com>\n",
            "Date:   Thu Jan 26 22:16:28 2023 +0000\n",
            "\n",
            "    Add hello world\n",
            "\n",
            "\u001b[1mdiff --git a/hello.py b/hello.py\u001b[m\n",
            "\u001b[1mnew file mode 100644\u001b[m\n",
            "\u001b[1mindex 0000000..f7d1785\u001b[m\n",
            "\u001b[1m--- /dev/null\u001b[m\n",
            "\u001b[1m+++ b/hello.py\u001b[m\n",
            "\u001b[36m@@ -0,0 +1 @@\u001b[m\n",
            "\u001b[32m+\u001b[m\u001b[32mprint('Hello world')\u001b[m\n"
          ]
        }
      ]
    },
    {
      "cell_type": "code",
      "source": [
        "!sed -i '$s/$/)/' hello.py\n",
        "!cat hello.py"
      ],
      "metadata": {
        "colab": {
          "base_uri": "https://localhost:8080/"
        },
        "id": "Al9ar6FhONaK",
        "outputId": "a1b6173b-edcb-43aa-d8e0-06811ffd45ba"
      },
      "execution_count": 35,
      "outputs": [
        {
          "output_type": "stream",
          "name": "stdout",
          "text": [
            "print('Hey!!')\n",
            "print('Hello world')\n",
            "\n",
            "print(\"and goodbye\")\n"
          ]
        }
      ]
    },
    {
      "cell_type": "code",
      "source": [
        "!git add -p"
      ],
      "metadata": {
        "colab": {
          "base_uri": "https://localhost:8080/"
        },
        "id": "3WY5VwQTOXkz",
        "outputId": "bae98743-9b7e-4736-b8d9-b1bb41f3b62b"
      },
      "execution_count": 36,
      "outputs": [
        {
          "output_type": "stream",
          "name": "stdout",
          "text": [
            "\u001b[1mdiff --git a/hello.py b/hello.py\u001b[m\n",
            "\u001b[1mindex 773323c..daaca5d 100644\u001b[m\n",
            "\u001b[1m--- a/hello.py\u001b[m\n",
            "\u001b[1m+++ b/hello.py\u001b[m\n",
            "\u001b[36m@@ -1,3 +1,4 @@\u001b[m\n",
            "\u001b[32m+\u001b[m\u001b[32mprint('Hey!!')\u001b[m\n",
            " print('Hello world')\u001b[m\n",
            " \u001b[m\n",
            "\u001b[31m-print(\"and goodbye\"\u001b[m\n",
            "\u001b[32m+\u001b[m\u001b[32mprint(\"and goodbye\")\u001b[m\n",
            "\u001b[1;34m(1/1) Stage this hunk [y,n,q,a,d,s,e,?]? \u001b[ms\n",
            "\u001b[1mSplit into 2 hunks.\u001b[m\n",
            "\u001b[36m@@ -1,2 +1,3 @@\u001b[m\n",
            "\u001b[32m+\u001b[m\u001b[32mprint('Hey!!')\u001b[m\n",
            " print('Hello world')\u001b[m\n",
            " \u001b[m\n",
            "\u001b[1;34m(1/2) Stage this hunk [y,n,q,a,d,j,J,g,/,e,?]? \u001b[mn\n",
            "\u001b[36m@@ -1,3 +2,3 @@\u001b[m\n",
            " print('Hello world')\u001b[m\n",
            " \u001b[m\n",
            "\u001b[31m-print(\"and goodbye\"\u001b[m\n",
            "\u001b[32m+\u001b[m\u001b[32mprint(\"and goodbye\")\u001b[m\n",
            "\u001b[1;34m(2/2) Stage this hunk [y,n,q,a,d,K,g,/,e,?]? \u001b[my\n",
            "\n"
          ]
        }
      ]
    },
    {
      "cell_type": "code",
      "source": [
        "!git commit --amend"
      ],
      "metadata": {
        "colab": {
          "base_uri": "https://localhost:8080/"
        },
        "id": "TT5EjUN8OZR7",
        "outputId": "b667c485-293d-4c4c-d168-260dfbe6ebe8"
      },
      "execution_count": 37,
      "outputs": [
        {
          "output_type": "stream",
          "name": "stdout",
          "text": [
            "<ontent/git_workshop/.git/COMMIT_EDITMSG\" 14L, 326C\u001b[2;1H▽\u001b[6n\u001b[2;1H  \u001b[1;1H\u001b[>c\u001b]10;?\u0007\u001b]11;?\u0007\u001b[1;1H\u001b[33mAdd farewell\u001b[m\n",
            "\n",
            "\u001b[34m# Please enter the commit message for your changes. Lines starting\n",
            "# with '#' will be ignored, and an empty message aborts the commit.\n",
            "#\n",
            "# Date:      Thu Jan 26 22:17:19 2023 +0000\n",
            "#\n",
            "# On branch \u001b[m\u001b[35mmaster\u001b[m\n",
            "\u001b[34m# \u001b[m\u001b[35mChanges to be committed:\u001b[m\n",
            "\u001b[34m#       \u001b[m\u001b[32mmodified\u001b[m\u001b[34m: \u001b[m\u001b[31m  hello.py\u001b[m\n",
            "\u001b[34m#\n",
            "# \u001b[m\u001b[35mChanges not staged for commit:\u001b[m\n",
            "\u001b[34m#       \u001b[m\u001b[32mmodified\u001b[m\u001b[34m: \u001b[m\u001b[31m  hello.py\u001b[m\n",
            "\u001b[34m#\u001b[m\n",
            "\u001b[23;2t\u001b[23;1t\n",
            "\u001b[K[master 634726b] Add farewell\n",
            " Date: Thu Jan 26 22:17:19 2023 +0000\n",
            " 1 file changed, 2 insertions(+)\n"
          ]
        }
      ]
    },
    {
      "cell_type": "code",
      "source": [
        "!git log -p"
      ],
      "metadata": {
        "colab": {
          "base_uri": "https://localhost:8080/"
        },
        "id": "wbW5Th8KHzSX",
        "outputId": "253d82a4-409f-4b0e-f58f-8484454c6de0"
      },
      "execution_count": 38,
      "outputs": [
        {
          "output_type": "stream",
          "name": "stdout",
          "text": [
            "\u001b[33mcommit 634726be728a8ace47c59621bedc82f103b21576\u001b[m\u001b[33m (\u001b[m\u001b[1;36mHEAD -> \u001b[m\u001b[1;32mmaster\u001b[m\u001b[33m)\u001b[m\n",
            "Author: Jan M. Minihack <jan.minihack@mmh.com>\n",
            "Date:   Thu Jan 26 22:17:19 2023 +0000\n",
            "\n",
            "    Add farewell\n",
            "\n",
            "\u001b[1mdiff --git a/hello.py b/hello.py\u001b[m\n",
            "\u001b[1mindex f7d1785..d826caf 100644\u001b[m\n",
            "\u001b[1m--- a/hello.py\u001b[m\n",
            "\u001b[1m+++ b/hello.py\u001b[m\n",
            "\u001b[36m@@ -1 +1,3 @@\u001b[m\n",
            " print('Hello world')\u001b[m\n",
            "\u001b[32m+\u001b[m\n",
            "\u001b[32m+\u001b[m\u001b[32mprint(\"and goodbye\")\u001b[m\n",
            "\n",
            "\u001b[33mcommit 956eaab1e145982126823f14c13730d9f2e694f9\u001b[m\n",
            "Author: Jan M. Minihack <jan.minihack@mmh.com>\n",
            "Date:   Thu Jan 26 22:16:28 2023 +0000\n",
            "\n",
            "    Add hello world\n",
            "\n",
            "\u001b[1mdiff --git a/hello.py b/hello.py\u001b[m\n",
            "\u001b[1mnew file mode 100644\u001b[m\n",
            "\u001b[1mindex 0000000..f7d1785\u001b[m\n",
            "\u001b[1m--- /dev/null\u001b[m\n",
            "\u001b[1m+++ b/hello.py\u001b[m\n",
            "\u001b[36m@@ -0,0 +1 @@\u001b[m\n",
            "\u001b[32m+\u001b[m\u001b[32mprint('Hello world')\u001b[m\n"
          ]
        }
      ]
    },
    {
      "cell_type": "code",
      "source": [
        "!git status"
      ],
      "metadata": {
        "colab": {
          "base_uri": "https://localhost:8080/"
        },
        "id": "XTKV2cdR2UeL",
        "outputId": "b42763d0-8e3d-4dce-95c8-3c8bfff0a58f"
      },
      "execution_count": 39,
      "outputs": [
        {
          "output_type": "stream",
          "name": "stdout",
          "text": [
            "On branch master\n",
            "Changes not staged for commit:\n",
            "  (use \"git add <file>...\" to update what will be committed)\n",
            "  (use \"git restore <file>...\" to discard changes in working directory)\n",
            "\t\u001b[31mmodified:   hello.py\u001b[m\n",
            "\n",
            "no changes added to commit (use \"git add\" and/or \"git commit -a\")\n"
          ]
        }
      ]
    },
    {
      "cell_type": "code",
      "source": [
        "!git add -p"
      ],
      "metadata": {
        "colab": {
          "base_uri": "https://localhost:8080/"
        },
        "id": "I6S_wZeLP4nv",
        "outputId": "96355639-068a-4285-dfd2-97119c177d5f"
      },
      "execution_count": 40,
      "outputs": [
        {
          "output_type": "stream",
          "name": "stdout",
          "text": [
            "\u001b[1mdiff --git a/hello.py b/hello.py\u001b[m\n",
            "\u001b[1mindex d826caf..daaca5d 100644\u001b[m\n",
            "\u001b[1m--- a/hello.py\u001b[m\n",
            "\u001b[1m+++ b/hello.py\u001b[m\n",
            "\u001b[36m@@ -1,3 +1,4 @@\u001b[m\n",
            "\u001b[32m+\u001b[m\u001b[32mprint('Hey!!')\u001b[m\n",
            " print('Hello world')\u001b[m\n",
            " \u001b[m\n",
            " print(\"and goodbye\")\u001b[m\n",
            "\u001b[1;34m(1/1) Stage this hunk [y,n,q,a,d,e,?]? \u001b[my\n",
            "\n"
          ]
        }
      ]
    },
    {
      "cell_type": "code",
      "source": [
        "!git status"
      ],
      "metadata": {
        "colab": {
          "base_uri": "https://localhost:8080/"
        },
        "id": "qARB8kV0P9dW",
        "outputId": "b2893b9e-82f3-4929-c167-ba4102d6f928"
      },
      "execution_count": 41,
      "outputs": [
        {
          "output_type": "stream",
          "name": "stdout",
          "text": [
            "On branch master\n",
            "Changes to be committed:\n",
            "  (use \"git restore --staged <file>...\" to unstage)\n",
            "\t\u001b[32mmodified:   hello.py\u001b[m\n",
            "\n"
          ]
        }
      ]
    },
    {
      "cell_type": "code",
      "source": [
        "!git restore --staged hello.py"
      ],
      "metadata": {
        "id": "ryjKiGiAQGjl"
      },
      "execution_count": 42,
      "outputs": []
    },
    {
      "cell_type": "code",
      "source": [
        "!git status"
      ],
      "metadata": {
        "colab": {
          "base_uri": "https://localhost:8080/"
        },
        "id": "xGd_MRBjQKgc",
        "outputId": "87994eba-e367-4d1d-d182-c54761defb45"
      },
      "execution_count": 43,
      "outputs": [
        {
          "output_type": "stream",
          "name": "stdout",
          "text": [
            "On branch master\n",
            "Changes not staged for commit:\n",
            "  (use \"git add <file>...\" to update what will be committed)\n",
            "  (use \"git restore <file>...\" to discard changes in working directory)\n",
            "\t\u001b[31mmodified:   hello.py\u001b[m\n",
            "\n",
            "no changes added to commit (use \"git add\" and/or \"git commit -a\")\n"
          ]
        }
      ]
    },
    {
      "cell_type": "code",
      "source": [
        "!git restore hello.py"
      ],
      "metadata": {
        "id": "bsGv-3nC2aLt"
      },
      "execution_count": 44,
      "outputs": []
    },
    {
      "cell_type": "code",
      "source": [
        "!git status"
      ],
      "metadata": {
        "colab": {
          "base_uri": "https://localhost:8080/"
        },
        "id": "hSaJyabN2dcx",
        "outputId": "3b60bba4-39aa-4f5d-8f5c-242654acd8be"
      },
      "execution_count": 45,
      "outputs": [
        {
          "output_type": "stream",
          "name": "stdout",
          "text": [
            "On branch master\n",
            "nothing to commit, working tree clean\n"
          ]
        }
      ]
    },
    {
      "cell_type": "markdown",
      "source": [
        "# git config/setup"
      ],
      "metadata": {
        "id": "wuy1N4R-2iYV"
      }
    },
    {
      "cell_type": "code",
      "source": [
        "!git log --oneline"
      ],
      "metadata": {
        "colab": {
          "base_uri": "https://localhost:8080/"
        },
        "id": "o8zf5kNPH1gf",
        "outputId": "3dafe461-345e-49a5-9b66-5a448520fc25"
      },
      "execution_count": 46,
      "outputs": [
        {
          "output_type": "stream",
          "name": "stdout",
          "text": [
            "\u001b[33m634726b\u001b[m\u001b[33m (\u001b[m\u001b[1;36mHEAD -> \u001b[m\u001b[1;32mmaster\u001b[m\u001b[33m)\u001b[m Add farewell\n",
            "\u001b[33m956eaab\u001b[m Add hello world\n"
          ]
        }
      ]
    },
    {
      "cell_type": "code",
      "source": [
        "!ls -a .git"
      ],
      "metadata": {
        "colab": {
          "base_uri": "https://localhost:8080/"
        },
        "id": "pmmHZo1YwtdW",
        "outputId": "47d71953-b5f3-4683-dea8-9385c692f77b"
      },
      "execution_count": 47,
      "outputs": [
        {
          "output_type": "stream",
          "name": "stdout",
          "text": [
            ".   branches\t    config\t HEAD\tindex  logs\trefs\n",
            "..  COMMIT_EDITMSG  description  hooks\tinfo   objects\n"
          ]
        }
      ]
    },
    {
      "cell_type": "code",
      "source": [
        "!cat ../../home/.gitconfig"
      ],
      "metadata": {
        "colab": {
          "base_uri": "https://localhost:8080/"
        },
        "id": "_6bJdXSpPxNU",
        "outputId": "79e03133-ee2e-4c60-86f3-a60ffdabefac"
      },
      "execution_count": 97,
      "outputs": [
        {
          "output_type": "stream",
          "name": "stdout",
          "text": [
            "cat: ../../home/.gitconfig: No such file or directory\n"
          ]
        }
      ]
    },
    {
      "cell_type": "code",
      "source": [
        "!cat .git/config"
      ],
      "metadata": {
        "colab": {
          "base_uri": "https://localhost:8080/"
        },
        "id": "LfV3moplw-8n",
        "outputId": "78a96a32-283c-49f6-ca30-7cb55bdea6cd"
      },
      "execution_count": 48,
      "outputs": [
        {
          "output_type": "stream",
          "name": "stdout",
          "text": [
            "[core]\n",
            "\trepositoryformatversion = 0\n",
            "\tfilemode = true\n",
            "\tbare = false\n",
            "\tlogallrefupdates = true\n"
          ]
        }
      ]
    },
    {
      "cell_type": "code",
      "source": [
        "!git log --graph --full-history --all --color --pretty=tformat:\"%x1b[31m%h%x09%x1b[32m%d%x1b[0m%x20%s%x20%x1b[33m(%an)%x1b[0m\"\n"
      ],
      "metadata": {
        "colab": {
          "base_uri": "https://localhost:8080/"
        },
        "id": "CrIpGIWNxqY1",
        "outputId": "6f925b7f-a9be-46a3-91d3-45b73628afac"
      },
      "execution_count": 50,
      "outputs": [
        {
          "output_type": "stream",
          "name": "stdout",
          "text": [
            "* \u001b[31m634726b\t\u001b[32m (HEAD -> master)\u001b[0m Add farewell \u001b[33m(Jan M. Minihack)\u001b[0m\n",
            "* \u001b[31m956eaab\t\u001b[32m\u001b[0m Add hello world \u001b[33m(Jan M. Minihack)\u001b[0m\n"
          ]
        }
      ]
    },
    {
      "cell_type": "code",
      "source": [
        "!echo \"[alias]\" >> .git/config\n",
        "!echo -e \"\\tgr = log --graph --full-history --all --color --pretty=tformat:\\\"%x1b[31m%h%x09%x1b[32m%d%x1b[0m%x20%s%x20%x1b[33m(%an)%x1b[0m\\\"\" >> .git/config"
      ],
      "metadata": {
        "id": "4wV64l5QIUxg"
      },
      "execution_count": 51,
      "outputs": []
    },
    {
      "cell_type": "code",
      "source": [
        "!cat .git/config"
      ],
      "metadata": {
        "colab": {
          "base_uri": "https://localhost:8080/"
        },
        "id": "sOVTFu9pJDPc",
        "outputId": "a29d0191-d498-484c-dc9a-82915aaf10cb"
      },
      "execution_count": 52,
      "outputs": [
        {
          "output_type": "stream",
          "name": "stdout",
          "text": [
            "[core]\n",
            "\trepositoryformatversion = 0\n",
            "\tfilemode = true\n",
            "\tbare = false\n",
            "\tlogallrefupdates = true\n",
            "[alias]\n",
            "\tgr = log --graph --full-history --all --color --pretty=tformat:\"%x1b[31m%h%x09%x1b[32m%d%x1b[0m%x20%s%x20%x1b[33m(%an)%x1b[0m\"\n"
          ]
        }
      ]
    },
    {
      "cell_type": "code",
      "source": [
        "!git gr"
      ],
      "metadata": {
        "colab": {
          "base_uri": "https://localhost:8080/"
        },
        "id": "m9iGrtjdNlEY",
        "outputId": "30ed565c-07a6-4d73-9cb1-7b72e6320d4b"
      },
      "execution_count": 53,
      "outputs": [
        {
          "output_type": "stream",
          "name": "stdout",
          "text": [
            "* \u001b[31m634726b\t\u001b[32m (HEAD -> master)\u001b[0m Add farewell \u001b[33m(Jan M. Minihack)\u001b[0m\n",
            "* \u001b[31m956eaab\t\u001b[32m\u001b[0m Add hello world \u001b[33m(Jan M. Minihack)\u001b[0m\n"
          ]
        }
      ]
    },
    {
      "cell_type": "markdown",
      "source": [
        "# Branching"
      ],
      "metadata": {
        "id": "ULZW79sp7EWZ"
      }
    },
    {
      "cell_type": "code",
      "source": [
        "!git branch"
      ],
      "metadata": {
        "colab": {
          "base_uri": "https://localhost:8080/"
        },
        "id": "0sqDJJay7HXj",
        "outputId": "c5c2b3ed-3090-4789-b7e8-28085ded9e56"
      },
      "execution_count": 54,
      "outputs": [
        {
          "output_type": "stream",
          "name": "stdout",
          "text": [
            "* \u001b[32mmaster\u001b[m\n"
          ]
        }
      ]
    },
    {
      "cell_type": "code",
      "source": [
        "!git branch violeta/test1\n",
        "!git branch"
      ],
      "metadata": {
        "colab": {
          "base_uri": "https://localhost:8080/"
        },
        "id": "I3SRSx0U7QFf",
        "outputId": "d38118e8-be3d-41bf-8beb-759c01223f24"
      },
      "execution_count": 55,
      "outputs": [
        {
          "output_type": "stream",
          "name": "stdout",
          "text": [
            "* \u001b[32mmaster\u001b[m\n",
            "  violeta/test1\u001b[m\n"
          ]
        }
      ]
    },
    {
      "cell_type": "code",
      "source": [
        "!git checkout violeta/test1"
      ],
      "metadata": {
        "colab": {
          "base_uri": "https://localhost:8080/"
        },
        "id": "AG0mqz2P7aFJ",
        "outputId": "fb94c977-09ee-49a0-c1a4-d919c82abc1b"
      },
      "execution_count": 56,
      "outputs": [
        {
          "output_type": "stream",
          "name": "stdout",
          "text": [
            "Switched to branch 'violeta/test1'\n"
          ]
        }
      ]
    },
    {
      "cell_type": "code",
      "source": [
        "!git gr"
      ],
      "metadata": {
        "colab": {
          "base_uri": "https://localhost:8080/"
        },
        "id": "ONp7y-Zk7dqT",
        "outputId": "58fd8063-b074-4a14-ac0e-7870d07b0c72"
      },
      "execution_count": 57,
      "outputs": [
        {
          "output_type": "stream",
          "name": "stdout",
          "text": [
            "* \u001b[31m634726b\t\u001b[32m (HEAD -> violeta/test1, master)\u001b[0m Add farewell \u001b[33m(Jan M. Minihack)\u001b[0m\n",
            "* \u001b[31m956eaab\t\u001b[32m\u001b[0m Add hello world \u001b[33m(Jan M. Minihack)\u001b[0m\n"
          ]
        }
      ]
    },
    {
      "cell_type": "code",
      "source": [
        "!git checkout -b violeta/test2\n",
        "!git branch"
      ],
      "metadata": {
        "colab": {
          "base_uri": "https://localhost:8080/"
        },
        "id": "SzBuLP787jxJ",
        "outputId": "c1018991-d97b-4062-f689-b824e7c0e175"
      },
      "execution_count": 58,
      "outputs": [
        {
          "output_type": "stream",
          "name": "stdout",
          "text": [
            "Switched to a new branch 'violeta/test2'\n",
            "  master\u001b[m\n",
            "  violeta/test1\u001b[m\n",
            "* \u001b[32mvioleta/test2\u001b[m\n"
          ]
        }
      ]
    },
    {
      "cell_type": "code",
      "source": [
        "!sed -i \"1s/^/print('Hey!!')\\n/\" hello.py\n",
        "!cat hello.py"
      ],
      "metadata": {
        "colab": {
          "base_uri": "https://localhost:8080/"
        },
        "id": "bJa54Del8vYs",
        "outputId": "58288d0f-3e8a-4147-e7f6-d26b92f00a3c"
      },
      "execution_count": 59,
      "outputs": [
        {
          "output_type": "stream",
          "name": "stdout",
          "text": [
            "print('Hey!!')\n",
            "print('Hello world')\n",
            "\n",
            "print(\"and goodbye\")\n"
          ]
        }
      ]
    },
    {
      "cell_type": "code",
      "source": [
        "!cat hello.py"
      ],
      "metadata": {
        "colab": {
          "base_uri": "https://localhost:8080/"
        },
        "id": "QaO4UcCe830w",
        "outputId": "f88c1dc2-1898-4a1b-d5c9-6220d73b2aab"
      },
      "execution_count": 60,
      "outputs": [
        {
          "output_type": "stream",
          "name": "stdout",
          "text": [
            "print('Hey!!')\n",
            "print('Hello world')\n",
            "\n",
            "print(\"and goodbye\")\n"
          ]
        }
      ]
    },
    {
      "cell_type": "code",
      "source": [
        "!git status"
      ],
      "metadata": {
        "colab": {
          "base_uri": "https://localhost:8080/"
        },
        "id": "FLSUiHrL_duo",
        "outputId": "25d6704c-60f0-4d7d-eed8-701832b32143"
      },
      "execution_count": 61,
      "outputs": [
        {
          "output_type": "stream",
          "name": "stdout",
          "text": [
            "On branch violeta/test2\n",
            "Changes not staged for commit:\n",
            "  (use \"git add <file>...\" to update what will be committed)\n",
            "  (use \"git restore <file>...\" to discard changes in working directory)\n",
            "\t\u001b[31mmodified:   hello.py\u001b[m\n",
            "\n",
            "no changes added to commit (use \"git add\" and/or \"git commit -a\")\n"
          ]
        }
      ]
    },
    {
      "cell_type": "code",
      "source": [
        "!git commit -am \"Try a different greeting\""
      ],
      "metadata": {
        "colab": {
          "base_uri": "https://localhost:8080/"
        },
        "id": "wapNfAof_j3Q",
        "outputId": "71c1e859-71a7-4b50-ccc3-4874671ca7ec"
      },
      "execution_count": 62,
      "outputs": [
        {
          "output_type": "stream",
          "name": "stdout",
          "text": [
            "[violeta/test2 9048693] Try a different greeting\n",
            " 1 file changed, 1 insertion(+)\n"
          ]
        }
      ]
    },
    {
      "cell_type": "code",
      "source": [
        "!git log -p"
      ],
      "metadata": {
        "colab": {
          "base_uri": "https://localhost:8080/"
        },
        "id": "iq6oIDWO_z7c",
        "outputId": "0f1edf52-dcf4-4a42-a8d2-66f142170d23"
      },
      "execution_count": 63,
      "outputs": [
        {
          "output_type": "stream",
          "name": "stdout",
          "text": [
            "\u001b[33mcommit 90486930c62d087c07ee553e915b8794453ef4b9\u001b[m\u001b[33m (\u001b[m\u001b[1;36mHEAD -> \u001b[m\u001b[1;32mvioleta/test2\u001b[m\u001b[33m)\u001b[m\n",
            "Author: Jan M. Minihack <jan.minihack@mmh.com>\n",
            "Date:   Thu Jan 26 22:18:10 2023 +0000\n",
            "\n",
            "    Try a different greeting\n",
            "\n",
            "\u001b[1mdiff --git a/hello.py b/hello.py\u001b[m\n",
            "\u001b[1mindex d826caf..daaca5d 100644\u001b[m\n",
            "\u001b[1m--- a/hello.py\u001b[m\n",
            "\u001b[1m+++ b/hello.py\u001b[m\n",
            "\u001b[36m@@ -1,3 +1,4 @@\u001b[m\n",
            "\u001b[32m+\u001b[m\u001b[32mprint('Hey!!')\u001b[m\n",
            " print('Hello world')\u001b[m\n",
            " \u001b[m\n",
            " print(\"and goodbye\")\u001b[m\n",
            "\n",
            "\u001b[33mcommit 634726be728a8ace47c59621bedc82f103b21576\u001b[m\u001b[33m (\u001b[m\u001b[1;32mvioleta/test1\u001b[m\u001b[33m, \u001b[m\u001b[1;32mmaster\u001b[m\u001b[33m)\u001b[m\n",
            "Author: Jan M. Minihack <jan.minihack@mmh.com>\n",
            "Date:   Thu Jan 26 22:17:19 2023 +0000\n",
            "\n",
            "    Add farewell\n",
            "\n",
            "\u001b[1mdiff --git a/hello.py b/hello.py\u001b[m\n",
            "\u001b[1mindex f7d1785..d826caf 100644\u001b[m\n",
            "\u001b[1m--- a/hello.py\u001b[m\n",
            "\u001b[1m+++ b/hello.py\u001b[m\n",
            "\u001b[36m@@ -1 +1,3 @@\u001b[m\n",
            " print('Hello world')\u001b[m\n",
            "\u001b[32m+\u001b[m\n",
            "\u001b[32m+\u001b[m\u001b[32mprint(\"and goodbye\")\u001b[m\n",
            "\n",
            "\u001b[33mcommit 956eaab1e145982126823f14c13730d9f2e694f9\u001b[m\n",
            "Author: Jan M. Minihack <jan.minihack@mmh.com>\n",
            "Date:   Thu Jan 26 22:16:28 2023 +0000\n",
            "\n",
            "    Add hello world\n",
            "\n",
            "\u001b[1mdiff --git a/hello.py b/hello.py\u001b[m\n",
            "\u001b[1mnew file mode 100644\u001b[m\n",
            "\u001b[1mindex 0000000..f7d1785\u001b[m\n",
            "\u001b[1m--- /dev/null\u001b[m\n",
            "\u001b[1m+++ b/hello.py\u001b[m\n",
            "\u001b[36m@@ -0,0 +1 @@\u001b[m\n",
            "\u001b[32m+\u001b[m\u001b[32mprint('Hello world')\u001b[m\n"
          ]
        }
      ]
    },
    {
      "cell_type": "code",
      "source": [
        "!git gr"
      ],
      "metadata": {
        "colab": {
          "base_uri": "https://localhost:8080/"
        },
        "id": "LGYczVWw_52q",
        "outputId": "d8d08439-bcb8-4dca-b986-88010a01bbbc"
      },
      "execution_count": 64,
      "outputs": [
        {
          "output_type": "stream",
          "name": "stdout",
          "text": [
            "* \u001b[31m9048693\t\u001b[32m (HEAD -> violeta/test2)\u001b[0m Try a different greeting \u001b[33m(Jan M. Minihack)\u001b[0m\n",
            "* \u001b[31m634726b\t\u001b[32m (violeta/test1, master)\u001b[0m Add farewell \u001b[33m(Jan M. Minihack)\u001b[0m\n",
            "* \u001b[31m956eaab\t\u001b[32m\u001b[0m Add hello world \u001b[33m(Jan M. Minihack)\u001b[0m\n"
          ]
        }
      ]
    },
    {
      "cell_type": "code",
      "source": [
        "!git checkout violeta/test1"
      ],
      "metadata": {
        "colab": {
          "base_uri": "https://localhost:8080/"
        },
        "id": "7Gdnv29m_9vU",
        "outputId": "6f377c34-6d27-4a1c-9e5a-43d180b4f250"
      },
      "execution_count": 65,
      "outputs": [
        {
          "output_type": "stream",
          "name": "stdout",
          "text": [
            "Switched to branch 'violeta/test1'\n"
          ]
        }
      ]
    },
    {
      "cell_type": "code",
      "source": [
        "!sed -i \"1s/^/print('Yoyoyo!!')\\n/\" hello.py\n",
        "!cat hello.py"
      ],
      "metadata": {
        "colab": {
          "base_uri": "https://localhost:8080/"
        },
        "id": "Y1p1q9sGAA1q",
        "outputId": "8fa92a3f-2ee5-45ed-b86d-4591b8b1d67f"
      },
      "execution_count": 66,
      "outputs": [
        {
          "output_type": "stream",
          "name": "stdout",
          "text": [
            "print('Yoyoyo!!')\n",
            "print('Hello world')\n",
            "\n",
            "print(\"and goodbye\")\n"
          ]
        }
      ]
    },
    {
      "cell_type": "code",
      "source": [
        "!git commit -am \"Try a different more casual greeting\""
      ],
      "metadata": {
        "colab": {
          "base_uri": "https://localhost:8080/"
        },
        "id": "TBRVaF-1AHZk",
        "outputId": "e935426c-e460-4d74-e0b2-75a11b497096"
      },
      "execution_count": 67,
      "outputs": [
        {
          "output_type": "stream",
          "name": "stdout",
          "text": [
            "[violeta/test1 badae7d] Try a different more casual greeting\n",
            " 1 file changed, 1 insertion(+)\n"
          ]
        }
      ]
    },
    {
      "cell_type": "code",
      "source": [
        "!git log --oneline"
      ],
      "metadata": {
        "colab": {
          "base_uri": "https://localhost:8080/"
        },
        "id": "7OniUJNZAMqQ",
        "outputId": "0f8d37ee-09b1-41c6-b996-1092db95f9a1"
      },
      "execution_count": 68,
      "outputs": [
        {
          "output_type": "stream",
          "name": "stdout",
          "text": [
            "\u001b[33mbadae7d\u001b[m\u001b[33m (\u001b[m\u001b[1;36mHEAD -> \u001b[m\u001b[1;32mvioleta/test1\u001b[m\u001b[33m)\u001b[m Try a different more casual greeting\n",
            "\u001b[33m634726b\u001b[m\u001b[33m (\u001b[m\u001b[1;32mmaster\u001b[m\u001b[33m)\u001b[m Add farewell\n",
            "\u001b[33m956eaab\u001b[m Add hello world\n"
          ]
        }
      ]
    },
    {
      "cell_type": "code",
      "source": [
        "!git gr"
      ],
      "metadata": {
        "colab": {
          "base_uri": "https://localhost:8080/"
        },
        "id": "7y4Cv24PARXQ",
        "outputId": "d7d44fef-9571-4326-f73e-de5417697c1d"
      },
      "execution_count": 69,
      "outputs": [
        {
          "output_type": "stream",
          "name": "stdout",
          "text": [
            "* \u001b[31mbadae7d\t\u001b[32m (HEAD -> violeta/test1)\u001b[0m Try a different more casual greeting \u001b[33m(Jan M. Minihack)\u001b[0m\n",
            "\u001b[31m|\u001b[m * \u001b[31m9048693\t\u001b[32m (violeta/test2)\u001b[0m Try a different greeting \u001b[33m(Jan M. Minihack)\u001b[0m\n",
            "\u001b[31m|\u001b[m\u001b[31m/\u001b[m  \n",
            "* \u001b[31m634726b\t\u001b[32m (master)\u001b[0m Add farewell \u001b[33m(Jan M. Minihack)\u001b[0m\n",
            "* \u001b[31m956eaab\t\u001b[32m\u001b[0m Add hello world \u001b[33m(Jan M. Minihack)\u001b[0m\n"
          ]
        }
      ]
    },
    {
      "cell_type": "code",
      "source": [
        "!git checkout master"
      ],
      "metadata": {
        "colab": {
          "base_uri": "https://localhost:8080/"
        },
        "id": "F3klVJETAaGH",
        "outputId": "21547b9b-b58d-4258-e57d-c6d519aff373"
      },
      "execution_count": 70,
      "outputs": [
        {
          "output_type": "stream",
          "name": "stdout",
          "text": [
            "Switched to branch 'master'\n"
          ]
        }
      ]
    },
    {
      "cell_type": "code",
      "source": [
        "!git log"
      ],
      "metadata": {
        "colab": {
          "base_uri": "https://localhost:8080/"
        },
        "id": "KNnbqE38AhUP",
        "outputId": "a301573b-6177-4831-f5df-b8203eeb91c0"
      },
      "execution_count": 71,
      "outputs": [
        {
          "output_type": "stream",
          "name": "stdout",
          "text": [
            "\u001b[33mcommit 634726be728a8ace47c59621bedc82f103b21576\u001b[m\u001b[33m (\u001b[m\u001b[1;36mHEAD -> \u001b[m\u001b[1;32mmaster\u001b[m\u001b[33m)\u001b[m\n",
            "Author: Jan M. Minihack <jan.minihack@mmh.com>\n",
            "Date:   Thu Jan 26 22:17:19 2023 +0000\n",
            "\n",
            "    Add farewell\n",
            "\n",
            "\u001b[33mcommit 956eaab1e145982126823f14c13730d9f2e694f9\u001b[m\n",
            "Author: Jan M. Minihack <jan.minihack@mmh.com>\n",
            "Date:   Thu Jan 26 22:16:28 2023 +0000\n",
            "\n",
            "    Add hello world\n"
          ]
        }
      ]
    },
    {
      "cell_type": "code",
      "source": [
        "!git merge violeta/test2"
      ],
      "metadata": {
        "colab": {
          "base_uri": "https://localhost:8080/"
        },
        "id": "8qvNPbh0E1P4",
        "outputId": "8771099b-6a59-40ff-8af6-697c0dd17449"
      },
      "execution_count": 72,
      "outputs": [
        {
          "output_type": "stream",
          "name": "stdout",
          "text": [
            "Updating 634726b..9048693\n",
            "Fast-forward\n",
            " hello.py | 1 \u001b[32m+\u001b[m\n",
            " 1 file changed, 1 insertion(+)\n"
          ]
        }
      ]
    },
    {
      "cell_type": "code",
      "source": [
        "!git log"
      ],
      "metadata": {
        "colab": {
          "base_uri": "https://localhost:8080/"
        },
        "id": "djbkZfYaE3op",
        "outputId": "aef83bbe-f777-4c7b-f519-b445eef8abb3"
      },
      "execution_count": 73,
      "outputs": [
        {
          "output_type": "stream",
          "name": "stdout",
          "text": [
            "\u001b[33mcommit 90486930c62d087c07ee553e915b8794453ef4b9\u001b[m\u001b[33m (\u001b[m\u001b[1;36mHEAD -> \u001b[m\u001b[1;32mmaster\u001b[m\u001b[33m, \u001b[m\u001b[1;32mvioleta/test2\u001b[m\u001b[33m)\u001b[m\n",
            "Author: Jan M. Minihack <jan.minihack@mmh.com>\n",
            "Date:   Thu Jan 26 22:18:10 2023 +0000\n",
            "\n",
            "    Try a different greeting\n",
            "\n",
            "\u001b[33mcommit 634726be728a8ace47c59621bedc82f103b21576\u001b[m\n",
            "Author: Jan M. Minihack <jan.minihack@mmh.com>\n",
            "Date:   Thu Jan 26 22:17:19 2023 +0000\n",
            "\n",
            "    Add farewell\n",
            "\n",
            "\u001b[33mcommit 956eaab1e145982126823f14c13730d9f2e694f9\u001b[m\n",
            "Author: Jan M. Minihack <jan.minihack@mmh.com>\n",
            "Date:   Thu Jan 26 22:16:28 2023 +0000\n",
            "\n",
            "    Add hello world\n"
          ]
        }
      ]
    },
    {
      "cell_type": "code",
      "source": [
        "!git gr"
      ],
      "metadata": {
        "colab": {
          "base_uri": "https://localhost:8080/"
        },
        "id": "-Tz2UZHIE57H",
        "outputId": "16f54cb6-5dd2-4144-eef6-6734ee6b3031"
      },
      "execution_count": 74,
      "outputs": [
        {
          "output_type": "stream",
          "name": "stdout",
          "text": [
            "* \u001b[31mbadae7d\t\u001b[32m (violeta/test1)\u001b[0m Try a different more casual greeting \u001b[33m(Jan M. Minihack)\u001b[0m\n",
            "\u001b[31m|\u001b[m * \u001b[31m9048693\t\u001b[32m (HEAD -> master, violeta/test2)\u001b[0m Try a different greeting \u001b[33m(Jan M. Minihack)\u001b[0m\n",
            "\u001b[31m|\u001b[m\u001b[31m/\u001b[m  \n",
            "* \u001b[31m634726b\t\u001b[32m\u001b[0m Add farewell \u001b[33m(Jan M. Minihack)\u001b[0m\n",
            "* \u001b[31m956eaab\t\u001b[32m\u001b[0m Add hello world \u001b[33m(Jan M. Minihack)\u001b[0m\n"
          ]
        }
      ]
    },
    {
      "cell_type": "code",
      "source": [
        "!git merge violeta/test1"
      ],
      "metadata": {
        "colab": {
          "base_uri": "https://localhost:8080/"
        },
        "id": "pkFF1c0NJVa2",
        "outputId": "316d6ffb-6128-4ef3-dfcf-91c5911ffe5c"
      },
      "execution_count": 75,
      "outputs": [
        {
          "output_type": "stream",
          "name": "stdout",
          "text": [
            "Auto-merging hello.py\n",
            "CONFLICT (content): Merge conflict in hello.py\n",
            "Automatic merge failed; fix conflicts and then commit the result.\n"
          ]
        }
      ]
    },
    {
      "cell_type": "code",
      "source": [
        "!git status"
      ],
      "metadata": {
        "colab": {
          "base_uri": "https://localhost:8080/"
        },
        "id": "Zdto-4wMKeGp",
        "outputId": "6cb22da3-fbdf-4ddc-9f3a-ab0904ac15a3"
      },
      "execution_count": 76,
      "outputs": [
        {
          "output_type": "stream",
          "name": "stdout",
          "text": [
            "On branch master\n",
            "You have unmerged paths.\n",
            "  (fix conflicts and run \"git commit\")\n",
            "  (use \"git merge --abort\" to abort the merge)\n",
            "\n",
            "Unmerged paths:\n",
            "  (use \"git add <file>...\" to mark resolution)\n",
            "\t\u001b[31mboth modified:   hello.py\u001b[m\n",
            "\n",
            "no changes added to commit (use \"git add\" and/or \"git commit -a\")\n"
          ]
        }
      ]
    },
    {
      "cell_type": "code",
      "source": [
        "!git diff"
      ],
      "metadata": {
        "colab": {
          "base_uri": "https://localhost:8080/"
        },
        "id": "oyNzVX7pKhBs",
        "outputId": "fe018e62-9dad-4265-86a2-ece55b7e850e"
      },
      "execution_count": 78,
      "outputs": [
        {
          "output_type": "stream",
          "name": "stdout",
          "text": [
            "\u001b[1mdiff --cc hello.py\u001b[m\n",
            "\u001b[1mindex daaca5d,51e9ef2..0000000\u001b[m\n",
            "\u001b[1m--- a/hello.py\u001b[m\n",
            "\u001b[1m+++ b/hello.py\u001b[m\n",
            "\u001b[36m@@@ -1,4 -1,4 +1,8 @@@\u001b[m\n",
            "\u001b[32m++<<<<<<< HEAD\u001b[m\n",
            "\u001b[32m +print('Hey!!')\u001b[m\n",
            "\u001b[32m++=======\u001b[m\n",
            "\u001b[32m+ print('Yoyoyo!!')\u001b[m\n",
            "\u001b[32m++>>>>>>> violeta/test1\u001b[m\n",
            "  print('Hello world')\u001b[m\n",
            "  \u001b[m\n",
            "  print(\"and goodbye\")\u001b[m\n"
          ]
        }
      ]
    },
    {
      "cell_type": "code",
      "source": [
        "!echo -e \"print('Yoyoyo!!')\\nprint('Hello world')\\n\\nprint(\\\"and goodbye\\\")\" > hello.py\n",
        "!cat hello.py"
      ],
      "metadata": {
        "colab": {
          "base_uri": "https://localhost:8080/"
        },
        "id": "mBQigZlZKyQc",
        "outputId": "7bfd1051-609f-4cef-c27a-8ebc008e7cc5"
      },
      "execution_count": 79,
      "outputs": [
        {
          "output_type": "stream",
          "name": "stdout",
          "text": [
            "print('Yoyoyo!!')\n",
            "print('Hello world')\n",
            "\n",
            "print(\"and goodbye\")\n"
          ]
        }
      ]
    },
    {
      "cell_type": "code",
      "source": [
        "!git add hello.py"
      ],
      "metadata": {
        "id": "LqjCyFCiLEjC"
      },
      "execution_count": 83,
      "outputs": []
    },
    {
      "cell_type": "code",
      "source": [
        "!git status"
      ],
      "metadata": {
        "colab": {
          "base_uri": "https://localhost:8080/"
        },
        "id": "J3v0XmjrLPzc",
        "outputId": "e3d7631d-6cbe-4908-db3e-3fc101348079"
      },
      "execution_count": 84,
      "outputs": [
        {
          "output_type": "stream",
          "name": "stdout",
          "text": [
            "On branch master\n",
            "All conflicts fixed but you are still merging.\n",
            "  (use \"git commit\" to conclude merge)\n",
            "\n",
            "Changes to be committed:\n",
            "\t\u001b[32mmodified:   hello.py\u001b[m\n",
            "\n"
          ]
        }
      ]
    },
    {
      "cell_type": "code",
      "source": [
        "!git diff --staged"
      ],
      "metadata": {
        "colab": {
          "base_uri": "https://localhost:8080/"
        },
        "id": "MQ8hWTJ6LUY7",
        "outputId": "1890e958-95c2-43ed-82b4-6655805fbf29"
      },
      "execution_count": 85,
      "outputs": [
        {
          "output_type": "stream",
          "name": "stdout",
          "text": [
            "\u001b[1mdiff --git a/hello.py b/hello.py\u001b[m\n",
            "\u001b[1mindex daaca5d..51e9ef2 100644\u001b[m\n",
            "\u001b[1m--- a/hello.py\u001b[m\n",
            "\u001b[1m+++ b/hello.py\u001b[m\n",
            "\u001b[36m@@ -1,4 +1,4 @@\u001b[m\n",
            "\u001b[31m-print('Hey!!')\u001b[m\n",
            "\u001b[32m+\u001b[m\u001b[32mprint('Yoyoyo!!')\u001b[m\n",
            " print('Hello world')\u001b[m\n",
            " \u001b[m\n",
            " print(\"and goodbye\")\u001b[m\n"
          ]
        }
      ]
    },
    {
      "cell_type": "code",
      "source": [
        "!git commit -m \"Update greeting\""
      ],
      "metadata": {
        "colab": {
          "base_uri": "https://localhost:8080/"
        },
        "id": "mJXSZv7MLjIg",
        "outputId": "91e28de6-be8e-4287-d5d2-ec1f0d361940"
      },
      "execution_count": 86,
      "outputs": [
        {
          "output_type": "stream",
          "name": "stdout",
          "text": [
            "[master bf6a434] Update greeting\n"
          ]
        }
      ]
    },
    {
      "cell_type": "code",
      "source": [
        "!git log -p"
      ],
      "metadata": {
        "colab": {
          "base_uri": "https://localhost:8080/"
        },
        "id": "i19PN7bGLmrG",
        "outputId": "02f4d8fe-cd67-45b6-9294-25d38e623553"
      },
      "execution_count": 87,
      "outputs": [
        {
          "output_type": "stream",
          "name": "stdout",
          "text": [
            "\u001b[33mcommit bf6a43480409e450726ac4038d92308db0bfc642\u001b[m\u001b[33m (\u001b[m\u001b[1;36mHEAD -> \u001b[m\u001b[1;32mmaster\u001b[m\u001b[33m)\u001b[m\n",
            "Merge: 9048693 badae7d\n",
            "Author: Jan M. Minihack <jan.minihack@mmh.com>\n",
            "Date:   Thu Jan 26 22:24:09 2023 +0000\n",
            "\n",
            "    Update greeting\n",
            "\n",
            "\u001b[33mcommit badae7dd3384e918e1d87d1ef198714207fdb67d\u001b[m\u001b[33m (\u001b[m\u001b[1;32mvioleta/test1\u001b[m\u001b[33m)\u001b[m\n",
            "Author: Jan M. Minihack <jan.minihack@mmh.com>\n",
            "Date:   Thu Jan 26 22:18:11 2023 +0000\n",
            "\n",
            "    Try a different more casual greeting\n",
            "\n",
            "\u001b[1mdiff --git a/hello.py b/hello.py\u001b[m\n",
            "\u001b[1mindex d826caf..51e9ef2 100644\u001b[m\n",
            "\u001b[1m--- a/hello.py\u001b[m\n",
            "\u001b[1m+++ b/hello.py\u001b[m\n",
            "\u001b[36m@@ -1,3 +1,4 @@\u001b[m\n",
            "\u001b[32m+\u001b[m\u001b[32mprint('Yoyoyo!!')\u001b[m\n",
            " print('Hello world')\u001b[m\n",
            " \u001b[m\n",
            " print(\"and goodbye\")\u001b[m\n",
            "\n",
            "\u001b[33mcommit 90486930c62d087c07ee553e915b8794453ef4b9\u001b[m\u001b[33m (\u001b[m\u001b[1;32mvioleta/test2\u001b[m\u001b[33m)\u001b[m\n",
            "Author: Jan M. Minihack <jan.minihack@mmh.com>\n",
            "Date:   Thu Jan 26 22:18:10 2023 +0000\n",
            "\n",
            "    Try a different greeting\n",
            "\n",
            "\u001b[1mdiff --git a/hello.py b/hello.py\u001b[m\n",
            "\u001b[1mindex d826caf..daaca5d 100644\u001b[m\n",
            "\u001b[1m--- a/hello.py\u001b[m\n",
            "\u001b[1m+++ b/hello.py\u001b[m\n",
            "\u001b[36m@@ -1,3 +1,4 @@\u001b[m\n",
            "\u001b[32m+\u001b[m\u001b[32mprint('Hey!!')\u001b[m\n",
            " print('Hello world')\u001b[m\n",
            " \u001b[m\n",
            " print(\"and goodbye\")\u001b[m\n",
            "\n",
            "\u001b[33mcommit 634726be728a8ace47c59621bedc82f103b21576\u001b[m\n",
            "Author: Jan M. Minihack <jan.minihack@mmh.com>\n",
            "Date:   Thu Jan 26 22:17:19 2023 +0000\n",
            "\n",
            "    Add farewell\n",
            "\n",
            "\u001b[1mdiff --git a/hello.py b/hello.py\u001b[m\n",
            "\u001b[1mindex f7d1785..d826caf 100644\u001b[m\n",
            "\u001b[1m--- a/hello.py\u001b[m\n",
            "\u001b[1m+++ b/hello.py\u001b[m\n",
            "\u001b[36m@@ -1 +1,3 @@\u001b[m\n",
            " print('Hello world')\u001b[m\n",
            "\u001b[32m+\u001b[m\n",
            "\u001b[32m+\u001b[m\u001b[32mprint(\"and goodbye\")\u001b[m\n",
            "\n",
            "\u001b[33mcommit 956eaab1e145982126823f14c13730d9f2e694f9\u001b[m\n",
            "Author: Jan M. Minihack <jan.minihack@mmh.com>\n",
            "Date:   Thu Jan 26 22:16:28 2023 +0000\n",
            "\n",
            "    Add hello world\n",
            "\n",
            "\u001b[1mdiff --git a/hello.py b/hello.py\u001b[m\n",
            "\u001b[1mnew file mode 100644\u001b[m\n",
            "\u001b[1mindex 0000000..f7d1785\u001b[m\n",
            "\u001b[1m--- /dev/null\u001b[m\n",
            "\u001b[1m+++ b/hello.py\u001b[m\n",
            "\u001b[36m@@ -0,0 +1 @@\u001b[m\n",
            "\u001b[32m+\u001b[m\u001b[32mprint('Hello world')\u001b[m\n"
          ]
        }
      ]
    },
    {
      "cell_type": "code",
      "source": [
        "!git gr"
      ],
      "metadata": {
        "colab": {
          "base_uri": "https://localhost:8080/"
        },
        "id": "XUp3aeN_Lq3O",
        "outputId": "7994f9a8-273d-4dc2-d947-d64192732087"
      },
      "execution_count": 88,
      "outputs": [
        {
          "output_type": "stream",
          "name": "stdout",
          "text": [
            "*   \u001b[31mbf6a434\t\u001b[32m (HEAD -> master)\u001b[0m Update greeting \u001b[33m(Jan M. Minihack)\u001b[0m\n",
            "\u001b[31m|\u001b[m\u001b[32m\\\u001b[m  \n",
            "\u001b[31m|\u001b[m * \u001b[31mbadae7d\t\u001b[32m (violeta/test1)\u001b[0m Try a different more casual greeting \u001b[33m(Jan M. Minihack)\u001b[0m\n",
            "* \u001b[32m|\u001b[m \u001b[31m9048693\t\u001b[32m (violeta/test2)\u001b[0m Try a different greeting \u001b[33m(Jan M. Minihack)\u001b[0m\n",
            "\u001b[32m|\u001b[m\u001b[32m/\u001b[m  \n",
            "* \u001b[31m634726b\t\u001b[32m\u001b[0m Add farewell \u001b[33m(Jan M. Minihack)\u001b[0m\n",
            "* \u001b[31m956eaab\t\u001b[32m\u001b[0m Add hello world \u001b[33m(Jan M. Minihack)\u001b[0m\n"
          ]
        }
      ]
    }
  ]
}