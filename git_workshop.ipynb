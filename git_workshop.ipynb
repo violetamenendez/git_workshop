{
  "nbformat": 4,
  "nbformat_minor": 0,
  "metadata": {
    "colab": {
      "provenance": [],
      "toc_visible": true,
      "authorship_tag": "ABX9TyOcd1FCZD4xxHbltmya1HAS",
      "include_colab_link": true
    },
    "kernelspec": {
      "name": "python3",
      "display_name": "Python 3"
    },
    "language_info": {
      "name": "python"
    }
  },
  "cells": [
    {
      "cell_type": "markdown",
      "metadata": {
        "id": "view-in-github",
        "colab_type": "text"
      },
      "source": [
        "<a href=\"https://colab.research.google.com/github/violetamenendez/git_workshop/blob/main/git_workshop.ipynb\" target=\"_parent\"><img src=\"https://colab.research.google.com/assets/colab-badge.svg\" alt=\"Open In Colab\"/></a>"
      ]
    },
    {
      "cell_type": "markdown",
      "source": [
        "![mmh_logo_banner.png](data:image/png;base64,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)"
      ],
      "metadata": {
        "id": "xZpWQjdzgY-w"
      }
    },
    {
      "cell_type": "markdown",
      "source": [
        "# git secret sauce\n",
        "\n",
        "Welcome to the January 2023 edition of the Monthly Mini Hacks, and the second edition of this Git workshop.\n",
        "\n",
        "We will learn the basics of git commands and git workflow. We will try to go deeper into some concepts and some more advance commands that will make your life easier. We will also try to cover some basic usage of github as a git service for code sharing and collaborating.\n",
        "\n",
        "This notebook is meant to be an interactive interface for our workshop demos. You can see the previous workshop slides here: https://f1000research.com/slides/11-586 "
      ],
      "metadata": {
        "id": "qVIdgxxrSPmo"
      }
    },
    {
      "cell_type": "markdown",
      "source": [
        "## Demo 1: Starting a repo"
      ],
      "metadata": {
        "id": "Jpg-2UGGvtiL"
      }
    },
    {
      "cell_type": "code",
      "execution_count": 1,
      "metadata": {
        "colab": {
          "base_uri": "https://localhost:8080/"
        },
        "id": "AuXULPRDRbS1",
        "outputId": "33a708f3-31af-48b7-bb7d-a762a4ce8efb"
      },
      "outputs": [
        {
          "output_type": "stream",
          "name": "stdout",
          "text": [
            "git version 2.25.1\n"
          ]
        }
      ],
      "source": [
        "!git --version"
      ]
    },
    {
      "cell_type": "code",
      "source": [
        "!git config user.name\n",
        "!git config user.email"
      ],
      "metadata": {
        "id": "X78QrPDxjUc1"
      },
      "execution_count": 2,
      "outputs": []
    },
    {
      "cell_type": "code",
      "source": [
        "!git config --global user.email \"jan.minihack@mmh.com\"\n",
        "\n",
        "!git config --global user.name \"Jan M. Minihack\""
      ],
      "metadata": {
        "id": "16Q88G25ipQs"
      },
      "execution_count": 3,
      "outputs": []
    },
    {
      "cell_type": "code",
      "source": [
        "!git config user.name\n",
        "!git config user.email"
      ],
      "metadata": {
        "colab": {
          "base_uri": "https://localhost:8080/"
        },
        "id": "8eIrlXRMjl2A",
        "outputId": "fa00cb08-1345-4a71-cd59-326daaac34be"
      },
      "execution_count": 4,
      "outputs": [
        {
          "output_type": "stream",
          "name": "stdout",
          "text": [
            "Jan M. Minihack\n",
            "jan.minihack@mmh.com\n"
          ]
        }
      ]
    },
    {
      "cell_type": "code",
      "source": [
        "!git config --list"
      ],
      "metadata": {
        "colab": {
          "base_uri": "https://localhost:8080/"
        },
        "id": "jatiXMitkGdg",
        "outputId": "f8381ecf-773b-48d8-f9c0-f7441f09b4a8"
      },
      "execution_count": 5,
      "outputs": [
        {
          "output_type": "stream",
          "name": "stdout",
          "text": [
            "filter.lfs.clean=git-lfs clean -- %f\n",
            "filter.lfs.smudge=git-lfs smudge -- %f\n",
            "filter.lfs.process=git-lfs filter-process\n",
            "filter.lfs.required=true\n",
            "user.email=jan.minihack@mmh.com\n",
            "user.name=Jan M. Minihack\n"
          ]
        }
      ]
    },
    {
      "cell_type": "code",
      "source": [
        "!mkdir git_workshop\n",
        "%cd git_workshop"
      ],
      "metadata": {
        "colab": {
          "base_uri": "https://localhost:8080/"
        },
        "id": "Ju1I76c9FlUt",
        "outputId": "329910fc-14bb-436e-e78a-c5f5f8f13f63"
      },
      "execution_count": 6,
      "outputs": [
        {
          "output_type": "stream",
          "name": "stdout",
          "text": [
            "/content/git_workshop\n"
          ]
        }
      ]
    },
    {
      "cell_type": "code",
      "source": [
        "!git init"
      ],
      "metadata": {
        "colab": {
          "base_uri": "https://localhost:8080/"
        },
        "id": "sIdVxB6soUok",
        "outputId": "06868e76-48db-4612-98fc-76db3c7f4acb"
      },
      "execution_count": 7,
      "outputs": [
        {
          "output_type": "stream",
          "name": "stdout",
          "text": [
            "Initialized empty Git repository in /content/git_workshop/.git/\n"
          ]
        }
      ]
    },
    {
      "cell_type": "code",
      "source": [
        "!git status"
      ],
      "metadata": {
        "colab": {
          "base_uri": "https://localhost:8080/"
        },
        "id": "Xo4auRe-t5GX",
        "outputId": "f7fc3e3e-85f5-4efc-d0d6-25a093e81991"
      },
      "execution_count": 8,
      "outputs": [
        {
          "output_type": "stream",
          "name": "stdout",
          "text": [
            "On branch master\n",
            "\n",
            "No commits yet\n",
            "\n",
            "nothing to commit (create/copy files and use \"git add\" to track)\n"
          ]
        }
      ]
    },
    {
      "cell_type": "code",
      "source": [
        "!echo \"print('Hello world')\" > hello.py\n",
        "!cat hello.py"
      ],
      "metadata": {
        "colab": {
          "base_uri": "https://localhost:8080/"
        },
        "id": "KFxHSM0zt32g",
        "outputId": "4dc26a48-5895-43ec-801a-778f13628da7"
      },
      "execution_count": 9,
      "outputs": [
        {
          "output_type": "stream",
          "name": "stdout",
          "text": [
            "print('Hello world')\n"
          ]
        }
      ]
    },
    {
      "cell_type": "code",
      "source": [
        "!git status"
      ],
      "metadata": {
        "colab": {
          "base_uri": "https://localhost:8080/"
        },
        "id": "nSO1HRwxpBP2",
        "outputId": "20a14ef4-df2c-43e3-fd93-0dbc752a6715"
      },
      "execution_count": 10,
      "outputs": [
        {
          "output_type": "stream",
          "name": "stdout",
          "text": [
            "On branch master\n",
            "\n",
            "No commits yet\n",
            "\n",
            "Untracked files:\n",
            "  (use \"git add <file>...\" to include in what will be committed)\n",
            "\t\u001b[31mhello.py\u001b[m\n",
            "\n",
            "nothing added to commit but untracked files present (use \"git add\" to track)\n"
          ]
        }
      ]
    },
    {
      "cell_type": "code",
      "source": [
        "!git diff"
      ],
      "metadata": {
        "id": "MwlyLwmepetB"
      },
      "execution_count": 11,
      "outputs": []
    },
    {
      "cell_type": "code",
      "source": [
        "!git add hello.py"
      ],
      "metadata": {
        "id": "Opj3fgTrpZ7l"
      },
      "execution_count": 12,
      "outputs": []
    },
    {
      "cell_type": "code",
      "source": [
        "!git status"
      ],
      "metadata": {
        "colab": {
          "base_uri": "https://localhost:8080/"
        },
        "id": "r9EsOR3ApiXC",
        "outputId": "0282e498-dc3f-4987-810c-72308e49d20e"
      },
      "execution_count": 13,
      "outputs": [
        {
          "output_type": "stream",
          "name": "stdout",
          "text": [
            "On branch master\n",
            "\n",
            "No commits yet\n",
            "\n",
            "Changes to be committed:\n",
            "  (use \"git rm --cached <file>...\" to unstage)\n",
            "\t\u001b[32mnew file:   hello.py\u001b[m\n",
            "\n"
          ]
        }
      ]
    },
    {
      "cell_type": "code",
      "source": [
        "!git diff --cached"
      ],
      "metadata": {
        "colab": {
          "base_uri": "https://localhost:8080/"
        },
        "id": "mcsEDB_UpoYl",
        "outputId": "7bf59046-c7b3-4015-b1fc-9096c540280d"
      },
      "execution_count": 14,
      "outputs": [
        {
          "output_type": "stream",
          "name": "stdout",
          "text": [
            "\u001b[1mdiff --git a/hello.py b/hello.py\u001b[m\n",
            "\u001b[1mnew file mode 100644\u001b[m\n",
            "\u001b[1mindex 0000000..f7d1785\u001b[m\n",
            "\u001b[1m--- /dev/null\u001b[m\n",
            "\u001b[1m+++ b/hello.py\u001b[m\n",
            "\u001b[36m@@ -0,0 +1 @@\u001b[m\n",
            "\u001b[32m+\u001b[m\u001b[32mprint('Hello world')\u001b[m\n"
          ]
        }
      ]
    },
    {
      "cell_type": "code",
      "source": [
        "!git commit -m \"Add hello world\""
      ],
      "metadata": {
        "colab": {
          "base_uri": "https://localhost:8080/"
        },
        "id": "8rUJ3fWgp1fQ",
        "outputId": "dad61ca7-bb96-4708-de8e-d9c57ee35c67"
      },
      "execution_count": 15,
      "outputs": [
        {
          "output_type": "stream",
          "name": "stdout",
          "text": [
            "[master (root-commit) 97c3647] Add hello world\n",
            " 1 file changed, 1 insertion(+)\n",
            " create mode 100644 hello.py\n"
          ]
        }
      ]
    },
    {
      "cell_type": "code",
      "source": [
        "!git status"
      ],
      "metadata": {
        "colab": {
          "base_uri": "https://localhost:8080/"
        },
        "id": "pY6L-9lxp7Jz",
        "outputId": "8f9dd606-b0d4-49c5-b262-ea61b479dad6"
      },
      "execution_count": 16,
      "outputs": [
        {
          "output_type": "stream",
          "name": "stdout",
          "text": [
            "On branch master\n",
            "nothing to commit, working tree clean\n"
          ]
        }
      ]
    },
    {
      "cell_type": "code",
      "source": [
        "!git log"
      ],
      "metadata": {
        "colab": {
          "base_uri": "https://localhost:8080/"
        },
        "id": "oP5RnIk_qAXF",
        "outputId": "29987a62-7e43-49e6-bcd5-53e05cbbea9c"
      },
      "execution_count": 17,
      "outputs": [
        {
          "output_type": "stream",
          "name": "stdout",
          "text": [
            "\u001b[33mcommit 97c3647d7ef773c45bb01d3a415e76f74fbeef2e\u001b[m\u001b[33m (\u001b[m\u001b[1;36mHEAD -> \u001b[m\u001b[1;32mmaster\u001b[m\u001b[33m)\u001b[m\n",
            "Author: Jan M. Minihack <jan.minihack@mmh.com>\n",
            "Date:   Fri Jan 27 11:58:32 2023 +0000\n",
            "\n",
            "    Add hello world\n"
          ]
        }
      ]
    },
    {
      "cell_type": "code",
      "source": [
        "!git log -p"
      ],
      "metadata": {
        "colab": {
          "base_uri": "https://localhost:8080/"
        },
        "id": "B7jd-vpXqFi_",
        "outputId": "ccfce295-334d-4f27-a634-9b07b272db5a"
      },
      "execution_count": 18,
      "outputs": [
        {
          "output_type": "stream",
          "name": "stdout",
          "text": [
            "\u001b[33mcommit 97c3647d7ef773c45bb01d3a415e76f74fbeef2e\u001b[m\u001b[33m (\u001b[m\u001b[1;36mHEAD -> \u001b[m\u001b[1;32mmaster\u001b[m\u001b[33m)\u001b[m\n",
            "Author: Jan M. Minihack <jan.minihack@mmh.com>\n",
            "Date:   Fri Jan 27 11:58:32 2023 +0000\n",
            "\n",
            "    Add hello world\n",
            "\n",
            "\u001b[1mdiff --git a/hello.py b/hello.py\u001b[m\n",
            "\u001b[1mnew file mode 100644\u001b[m\n",
            "\u001b[1mindex 0000000..f7d1785\u001b[m\n",
            "\u001b[1m--- /dev/null\u001b[m\n",
            "\u001b[1m+++ b/hello.py\u001b[m\n",
            "\u001b[36m@@ -0,0 +1 @@\u001b[m\n",
            "\u001b[32m+\u001b[m\u001b[32mprint('Hello world')\u001b[m\n"
          ]
        }
      ]
    },
    {
      "cell_type": "code",
      "source": [
        "!git log --stat"
      ],
      "metadata": {
        "colab": {
          "base_uri": "https://localhost:8080/"
        },
        "id": "6TYTGKF-qNS2",
        "outputId": "c05203d0-4838-4463-863b-f031ddecf49d"
      },
      "execution_count": 19,
      "outputs": [
        {
          "output_type": "stream",
          "name": "stdout",
          "text": [
            "\u001b[33mcommit 97c3647d7ef773c45bb01d3a415e76f74fbeef2e\u001b[m\u001b[33m (\u001b[m\u001b[1;36mHEAD -> \u001b[m\u001b[1;32mmaster\u001b[m\u001b[33m)\u001b[m\n",
            "Author: Jan M. Minihack <jan.minihack@mmh.com>\n",
            "Date:   Fri Jan 27 11:58:32 2023 +0000\n",
            "\n",
            "    Add hello world\n",
            "\n",
            " hello.py | 1 \u001b[32m+\u001b[m\n",
            " 1 file changed, 1 insertion(+)\n"
          ]
        }
      ]
    },
    {
      "cell_type": "code",
      "source": [
        "!git log --oneline"
      ],
      "metadata": {
        "colab": {
          "base_uri": "https://localhost:8080/"
        },
        "id": "21if9WNAqH0W",
        "outputId": "a076e35b-b30f-4734-a06e-0359a596cba1"
      },
      "execution_count": 20,
      "outputs": [
        {
          "output_type": "stream",
          "name": "stdout",
          "text": [
            "\u001b[33m97c3647\u001b[m\u001b[33m (\u001b[m\u001b[1;36mHEAD -> \u001b[m\u001b[1;32mmaster\u001b[m\u001b[33m)\u001b[m Add hello world\n"
          ]
        }
      ]
    },
    {
      "cell_type": "code",
      "source": [
        "\n",
        "!git show HEAD"
      ],
      "metadata": {
        "colab": {
          "base_uri": "https://localhost:8080/"
        },
        "id": "hqiiy31nqXAR",
        "outputId": "b40882cf-f035-49ca-ff4a-6507a228259d"
      },
      "execution_count": 21,
      "outputs": [
        {
          "output_type": "stream",
          "name": "stdout",
          "text": [
            "\u001b[33mcommit 97c3647d7ef773c45bb01d3a415e76f74fbeef2e\u001b[m\u001b[33m (\u001b[m\u001b[1;36mHEAD -> \u001b[m\u001b[1;32mmaster\u001b[m\u001b[33m)\u001b[m\n",
            "Author: Jan M. Minihack <jan.minihack@mmh.com>\n",
            "Date:   Fri Jan 27 11:58:32 2023 +0000\n",
            "\n",
            "    Add hello world\n",
            "\n",
            "\u001b[1mdiff --git a/hello.py b/hello.py\u001b[m\n",
            "\u001b[1mnew file mode 100644\u001b[m\n",
            "\u001b[1mindex 0000000..f7d1785\u001b[m\n",
            "\u001b[1m--- /dev/null\u001b[m\n",
            "\u001b[1m+++ b/hello.py\u001b[m\n",
            "\u001b[36m@@ -0,0 +1 @@\u001b[m\n",
            "\u001b[32m+\u001b[m\u001b[32mprint('Hello world')\u001b[m\n"
          ]
        }
      ]
    },
    {
      "cell_type": "code",
      "source": [
        "!sed -i '$s/$/\\n\\nprint(\"and goodbye\"/' hello.py\n",
        "!cat hello.py"
      ],
      "metadata": {
        "colab": {
          "base_uri": "https://localhost:8080/"
        },
        "id": "2d8k1UF7tC8g",
        "outputId": "685b8f41-15b6-4d2b-9f22-3201681a735d"
      },
      "execution_count": 22,
      "outputs": [
        {
          "output_type": "stream",
          "name": "stdout",
          "text": [
            "print('Hello world')\n",
            "\n",
            "print(\"and goodbye\"\n"
          ]
        }
      ]
    },
    {
      "cell_type": "code",
      "source": [
        "!git status"
      ],
      "metadata": {
        "colab": {
          "base_uri": "https://localhost:8080/"
        },
        "id": "za0rCo1WGUSx",
        "outputId": "d5c862a9-a21e-428e-bccf-07529efce64c"
      },
      "execution_count": 23,
      "outputs": [
        {
          "output_type": "stream",
          "name": "stdout",
          "text": [
            "On branch master\n",
            "Changes not staged for commit:\n",
            "  (use \"git add <file>...\" to update what will be committed)\n",
            "  (use \"git restore <file>...\" to discard changes in working directory)\n",
            "\t\u001b[31mmodified:   hello.py\u001b[m\n",
            "\n",
            "no changes added to commit (use \"git add\" and/or \"git commit -a\")\n"
          ]
        }
      ]
    },
    {
      "cell_type": "code",
      "source": [
        "!git diff"
      ],
      "metadata": {
        "colab": {
          "base_uri": "https://localhost:8080/"
        },
        "id": "sh7c92OdGXFJ",
        "outputId": "2b2a531d-11c4-4f67-e1ba-a95fec791368"
      },
      "execution_count": 24,
      "outputs": [
        {
          "output_type": "stream",
          "name": "stdout",
          "text": [
            "\u001b[1mdiff --git a/hello.py b/hello.py\u001b[m\n",
            "\u001b[1mindex f7d1785..773323c 100644\u001b[m\n",
            "\u001b[1m--- a/hello.py\u001b[m\n",
            "\u001b[1m+++ b/hello.py\u001b[m\n",
            "\u001b[36m@@ -1 +1,3 @@\u001b[m\n",
            " print('Hello world')\u001b[m\n",
            "\u001b[32m+\u001b[m\n",
            "\u001b[32m+\u001b[m\u001b[32mprint(\"and goodbye\"\u001b[m\n"
          ]
        }
      ]
    },
    {
      "cell_type": "code",
      "source": [
        "!sed -i \"1s/^/print('Hey!!')\\n/\" hello.py"
      ],
      "metadata": {
        "id": "jC5UurCkG0zS"
      },
      "execution_count": 25,
      "outputs": []
    },
    {
      "cell_type": "code",
      "source": [
        "!git diff"
      ],
      "metadata": {
        "colab": {
          "base_uri": "https://localhost:8080/"
        },
        "id": "G03hJAZWHBOh",
        "outputId": "757ec4ad-596d-4124-ee94-a355efd567b4"
      },
      "execution_count": 26,
      "outputs": [
        {
          "output_type": "stream",
          "name": "stdout",
          "text": [
            "\u001b[1mdiff --git a/hello.py b/hello.py\u001b[m\n",
            "\u001b[1mindex f7d1785..99a7853 100644\u001b[m\n",
            "\u001b[1m--- a/hello.py\u001b[m\n",
            "\u001b[1m+++ b/hello.py\u001b[m\n",
            "\u001b[36m@@ -1 +1,4 @@\u001b[m\n",
            "\u001b[32m+\u001b[m\u001b[32mprint('Hey!!')\u001b[m\n",
            " print('Hello world')\u001b[m\n",
            "\u001b[32m+\u001b[m\n",
            "\u001b[32m+\u001b[m\u001b[32mprint(\"and goodbye\"\u001b[m\n"
          ]
        }
      ]
    },
    {
      "cell_type": "markdown",
      "source": [
        "When prompted, first choose choose `s` (split), then for the first hunk choose `n` (no) when prompted again, and for the second hunk choose `y` (yes)"
      ],
      "metadata": {
        "id": "LbPI2hcjE512"
      }
    },
    {
      "cell_type": "code",
      "source": [
        "!git add -p"
      ],
      "metadata": {
        "colab": {
          "base_uri": "https://localhost:8080/"
        },
        "id": "xpBUdd2Bu_T3",
        "outputId": "670a6627-a123-429c-8cd6-4aa9741e8c85"
      },
      "execution_count": 27,
      "outputs": [
        {
          "output_type": "stream",
          "name": "stdout",
          "text": [
            "\u001b[1mdiff --git a/hello.py b/hello.py\u001b[m\n",
            "\u001b[1mindex f7d1785..99a7853 100644\u001b[m\n",
            "\u001b[1m--- a/hello.py\u001b[m\n",
            "\u001b[1m+++ b/hello.py\u001b[m\n",
            "\u001b[36m@@ -1 +1,4 @@\u001b[m\n",
            "\u001b[32m+\u001b[m\u001b[32mprint('Hey!!')\u001b[m\n",
            " print('Hello world')\u001b[m\n",
            "\u001b[32m+\u001b[m\n",
            "\u001b[32m+\u001b[m\u001b[32mprint(\"and goodbye\"\u001b[m\n",
            "\u001b[1;34m(1/1) Stage this hunk [y,n,q,a,d,s,e,?]? \u001b[ms\n",
            "\u001b[1mSplit into 2 hunks.\u001b[m\n",
            "\u001b[36m@@ -1 +1,2 @@\u001b[m\n",
            "\u001b[32m+\u001b[m\u001b[32mprint('Hey!!')\u001b[m\n",
            " print('Hello world')\u001b[m\n",
            "\u001b[1;34m(1/2) Stage this hunk [y,n,q,a,d,j,J,g,/,e,?]? \u001b[mn\n",
            "\u001b[36m@@ -1 +2,3 @@\u001b[m\n",
            " print('Hello world')\u001b[m\n",
            "\u001b[32m+\u001b[m\n",
            "\u001b[32m+\u001b[m\u001b[32mprint(\"and goodbye\"\u001b[m\n",
            "\u001b[1;34m(2/2) Stage this hunk [y,n,q,a,d,K,g,/,e,?]? \u001b[my\n",
            "\n"
          ]
        }
      ]
    },
    {
      "cell_type": "code",
      "source": [
        "!git status"
      ],
      "metadata": {
        "colab": {
          "base_uri": "https://localhost:8080/"
        },
        "id": "3jlK7po5HaQI",
        "outputId": "3ec5f595-bd4c-4e42-e908-cfa295c3d5a5"
      },
      "execution_count": 28,
      "outputs": [
        {
          "output_type": "stream",
          "name": "stdout",
          "text": [
            "On branch master\n",
            "Changes to be committed:\n",
            "  (use \"git restore --staged <file>...\" to unstage)\n",
            "\t\u001b[32mmodified:   hello.py\u001b[m\n",
            "\n",
            "Changes not staged for commit:\n",
            "  (use \"git add <file>...\" to update what will be committed)\n",
            "  (use \"git restore <file>...\" to discard changes in working directory)\n",
            "\t\u001b[31mmodified:   hello.py\u001b[m\n",
            "\n"
          ]
        }
      ]
    },
    {
      "cell_type": "code",
      "source": [
        "!git diff"
      ],
      "metadata": {
        "colab": {
          "base_uri": "https://localhost:8080/"
        },
        "id": "-5EaYY3mHc19",
        "outputId": "797c1fb1-2c59-485b-cce0-4749c94dc549"
      },
      "execution_count": 29,
      "outputs": [
        {
          "output_type": "stream",
          "name": "stdout",
          "text": [
            "\u001b[1mdiff --git a/hello.py b/hello.py\u001b[m\n",
            "\u001b[1mindex 773323c..99a7853 100644\u001b[m\n",
            "\u001b[1m--- a/hello.py\u001b[m\n",
            "\u001b[1m+++ b/hello.py\u001b[m\n",
            "\u001b[36m@@ -1,3 +1,4 @@\u001b[m\n",
            "\u001b[32m+\u001b[m\u001b[32mprint('Hey!!')\u001b[m\n",
            " print('Hello world')\u001b[m\n",
            " \u001b[m\n",
            " print(\"and goodbye\"\u001b[m\n"
          ]
        }
      ]
    },
    {
      "cell_type": "code",
      "source": [
        "!git diff --staged"
      ],
      "metadata": {
        "colab": {
          "base_uri": "https://localhost:8080/"
        },
        "id": "gn1pq9MVHfcW",
        "outputId": "c1df0c42-a277-44c5-ca87-f3bdb28f9a65"
      },
      "execution_count": 30,
      "outputs": [
        {
          "output_type": "stream",
          "name": "stdout",
          "text": [
            "\u001b[1mdiff --git a/hello.py b/hello.py\u001b[m\n",
            "\u001b[1mindex f7d1785..773323c 100644\u001b[m\n",
            "\u001b[1m--- a/hello.py\u001b[m\n",
            "\u001b[1m+++ b/hello.py\u001b[m\n",
            "\u001b[36m@@ -1 +1,3 @@\u001b[m\n",
            " print('Hello world')\u001b[m\n",
            "\u001b[32m+\u001b[m\n",
            "\u001b[32m+\u001b[m\u001b[32mprint(\"and goodbye\"\u001b[m\n"
          ]
        }
      ]
    },
    {
      "cell_type": "code",
      "source": [
        "!git commit -m \"Add farewell\""
      ],
      "metadata": {
        "colab": {
          "base_uri": "https://localhost:8080/"
        },
        "id": "GEj7aDo4Hl5S",
        "outputId": "56a27949-70db-40c0-a74e-434faa9429b3"
      },
      "execution_count": 31,
      "outputs": [
        {
          "output_type": "stream",
          "name": "stdout",
          "text": [
            "[master b0a8757] Add farewell\n",
            " 1 file changed, 2 insertions(+)\n"
          ]
        }
      ]
    },
    {
      "cell_type": "code",
      "source": [
        "!git log -p"
      ],
      "metadata": {
        "colab": {
          "base_uri": "https://localhost:8080/"
        },
        "id": "qfBKAK0rHo-t",
        "outputId": "34317b45-41e9-465f-fd97-fd85cebff7ea"
      },
      "execution_count": 32,
      "outputs": [
        {
          "output_type": "stream",
          "name": "stdout",
          "text": [
            "\u001b[33mcommit b0a875705ed2243b028a555dfd1233e5dc973283\u001b[m\u001b[33m (\u001b[m\u001b[1;36mHEAD -> \u001b[m\u001b[1;32mmaster\u001b[m\u001b[33m)\u001b[m\n",
            "Author: Jan M. Minihack <jan.minihack@mmh.com>\n",
            "Date:   Fri Jan 27 11:58:49 2023 +0000\n",
            "\n",
            "    Add farewell\n",
            "\n",
            "\u001b[1mdiff --git a/hello.py b/hello.py\u001b[m\n",
            "\u001b[1mindex f7d1785..773323c 100644\u001b[m\n",
            "\u001b[1m--- a/hello.py\u001b[m\n",
            "\u001b[1m+++ b/hello.py\u001b[m\n",
            "\u001b[36m@@ -1 +1,3 @@\u001b[m\n",
            " print('Hello world')\u001b[m\n",
            "\u001b[32m+\u001b[m\n",
            "\u001b[32m+\u001b[m\u001b[32mprint(\"and goodbye\"\u001b[m\n",
            "\n",
            "\u001b[33mcommit 97c3647d7ef773c45bb01d3a415e76f74fbeef2e\u001b[m\n",
            "Author: Jan M. Minihack <jan.minihack@mmh.com>\n",
            "Date:   Fri Jan 27 11:58:32 2023 +0000\n",
            "\n",
            "    Add hello world\n",
            "\n",
            "\u001b[1mdiff --git a/hello.py b/hello.py\u001b[m\n",
            "\u001b[1mnew file mode 100644\u001b[m\n",
            "\u001b[1mindex 0000000..f7d1785\u001b[m\n",
            "\u001b[1m--- /dev/null\u001b[m\n",
            "\u001b[1m+++ b/hello.py\u001b[m\n",
            "\u001b[36m@@ -0,0 +1 @@\u001b[m\n",
            "\u001b[32m+\u001b[m\u001b[32mprint('Hello world')\u001b[m\n"
          ]
        }
      ]
    },
    {
      "cell_type": "code",
      "source": [
        "!sed -i '$s/$/)/' hello.py\n",
        "!cat hello.py"
      ],
      "metadata": {
        "colab": {
          "base_uri": "https://localhost:8080/"
        },
        "id": "Al9ar6FhONaK",
        "outputId": "f5e17cae-a58c-458e-ec8e-ea2fc3441e5f"
      },
      "execution_count": 33,
      "outputs": [
        {
          "output_type": "stream",
          "name": "stdout",
          "text": [
            "print('Hey!!')\n",
            "print('Hello world')\n",
            "\n",
            "print(\"and goodbye\")\n"
          ]
        }
      ]
    },
    {
      "cell_type": "markdown",
      "source": [
        "When prompted, first choose choose `s` (split), then for the first hunk choose `n` (no) when prompted again, and for the second hunk choose `y` (yes)"
      ],
      "metadata": {
        "id": "RYuK11O3FGwb"
      }
    },
    {
      "cell_type": "code",
      "source": [
        "!git add -p"
      ],
      "metadata": {
        "colab": {
          "base_uri": "https://localhost:8080/"
        },
        "id": "3WY5VwQTOXkz",
        "outputId": "dea90d3f-59ce-4510-cf64-4b13ce6f8c20"
      },
      "execution_count": 34,
      "outputs": [
        {
          "output_type": "stream",
          "name": "stdout",
          "text": [
            "\u001b[1mdiff --git a/hello.py b/hello.py\u001b[m\n",
            "\u001b[1mindex 773323c..daaca5d 100644\u001b[m\n",
            "\u001b[1m--- a/hello.py\u001b[m\n",
            "\u001b[1m+++ b/hello.py\u001b[m\n",
            "\u001b[36m@@ -1,3 +1,4 @@\u001b[m\n",
            "\u001b[32m+\u001b[m\u001b[32mprint('Hey!!')\u001b[m\n",
            " print('Hello world')\u001b[m\n",
            " \u001b[m\n",
            "\u001b[31m-print(\"and goodbye\"\u001b[m\n",
            "\u001b[32m+\u001b[m\u001b[32mprint(\"and goodbye\")\u001b[m\n",
            "\u001b[1;34m(1/1) Stage this hunk [y,n,q,a,d,s,e,?]? \u001b[ms\n",
            "\u001b[1mSplit into 2 hunks.\u001b[m\n",
            "\u001b[36m@@ -1,2 +1,3 @@\u001b[m\n",
            "\u001b[32m+\u001b[m\u001b[32mprint('Hey!!')\u001b[m\n",
            " print('Hello world')\u001b[m\n",
            " \u001b[m\n",
            "\u001b[1;34m(1/2) Stage this hunk [y,n,q,a,d,j,J,g,/,e,?]? \u001b[mn\n",
            "\u001b[36m@@ -1,3 +2,3 @@\u001b[m\n",
            " print('Hello world')\u001b[m\n",
            " \u001b[m\n",
            "\u001b[31m-print(\"and goodbye\"\u001b[m\n",
            "\u001b[32m+\u001b[m\u001b[32mprint(\"and goodbye\")\u001b[m\n",
            "\u001b[1;34m(2/2) Stage this hunk [y,n,q,a,d,K,g,/,e,?]? \u001b[my\n",
            "\n"
          ]
        }
      ]
    },
    {
      "cell_type": "markdown",
      "source": [
        "Click at the end of the file where the cursor is flickering, then type `:wq` (this will save (w) the commit message as it is and will quit (q) the editor). When doing this in your computer the commit message will open in your own text editor of choice, you just need to modify the message if necessary and save and close the file."
      ],
      "metadata": {
        "id": "fMa924a5FLAN"
      }
    },
    {
      "cell_type": "code",
      "source": [
        "!git commit --amend"
      ],
      "metadata": {
        "colab": {
          "base_uri": "https://localhost:8080/"
        },
        "id": "TT5EjUN8OZR7",
        "outputId": "7b61ae83-3d45-4d2b-9466-6c15dea1c546"
      },
      "execution_count": 35,
      "outputs": [
        {
          "output_type": "stream",
          "name": "stdout",
          "text": [
            "<ontent/git_workshop/.git/COMMIT_EDITMSG\" 14L, 326C\u001b[2;1H▽\u001b[6n\u001b[2;1H  \u001b[1;1H\u001b[>c\u001b]10;?\u0007\u001b]11;?\u0007\u001b[1;1H\u001b[33mAdd farewell\u001b[m\n",
            "\n",
            "\u001b[34m# Please enter the commit message for your changes. Lines starting\n",
            "# with '#' will be ignored, and an empty message aborts the commit.\n",
            "#\n",
            "# Date:      Fri Jan 27 11:58:49 2023 +0000\n",
            "#\n",
            "# On branch \u001b[m\u001b[35mmaster\u001b[m\n",
            "\u001b[34m# \u001b[m\u001b[35mChanges to be committed:\u001b[m\n",
            "\u001b[34m#       \u001b[m\u001b[32mmodified\u001b[m\u001b[34m: \u001b[m\u001b[31m  hello.py\u001b[m\n",
            "\u001b[34m#\n",
            "# \u001b[m\u001b[35mChanges not staged for commit:\u001b[m\n",
            "\u001b[34m#       \u001b[m\u001b[32mmodified\u001b[m\u001b[34m: \u001b[m\u001b[31m  hello.py\u001b[m\n",
            "\u001b[34m#\u001b[m\n",
            "\u001b[23;2t\u001b[23;1t\n",
            "\u001b[K[master 27480b6] Add farewell\n",
            " Date: Fri Jan 27 11:58:49 2023 +0000\n",
            " 1 file changed, 2 insertions(+)\n"
          ]
        }
      ]
    },
    {
      "cell_type": "code",
      "source": [
        "!git log -p"
      ],
      "metadata": {
        "colab": {
          "base_uri": "https://localhost:8080/"
        },
        "id": "wbW5Th8KHzSX",
        "outputId": "71f5390d-a91f-434d-daba-c9913c8724c4"
      },
      "execution_count": 36,
      "outputs": [
        {
          "output_type": "stream",
          "name": "stdout",
          "text": [
            "\u001b[33mcommit 27480b6e5a79659ad7be147ea6c8e432293f7e03\u001b[m\u001b[33m (\u001b[m\u001b[1;36mHEAD -> \u001b[m\u001b[1;32mmaster\u001b[m\u001b[33m)\u001b[m\n",
            "Author: Jan M. Minihack <jan.minihack@mmh.com>\n",
            "Date:   Fri Jan 27 11:58:49 2023 +0000\n",
            "\n",
            "    Add farewell\n",
            "\n",
            "\u001b[1mdiff --git a/hello.py b/hello.py\u001b[m\n",
            "\u001b[1mindex f7d1785..d826caf 100644\u001b[m\n",
            "\u001b[1m--- a/hello.py\u001b[m\n",
            "\u001b[1m+++ b/hello.py\u001b[m\n",
            "\u001b[36m@@ -1 +1,3 @@\u001b[m\n",
            " print('Hello world')\u001b[m\n",
            "\u001b[32m+\u001b[m\n",
            "\u001b[32m+\u001b[m\u001b[32mprint(\"and goodbye\")\u001b[m\n",
            "\n",
            "\u001b[33mcommit 97c3647d7ef773c45bb01d3a415e76f74fbeef2e\u001b[m\n",
            "Author: Jan M. Minihack <jan.minihack@mmh.com>\n",
            "Date:   Fri Jan 27 11:58:32 2023 +0000\n",
            "\n",
            "    Add hello world\n",
            "\n",
            "\u001b[1mdiff --git a/hello.py b/hello.py\u001b[m\n",
            "\u001b[1mnew file mode 100644\u001b[m\n",
            "\u001b[1mindex 0000000..f7d1785\u001b[m\n",
            "\u001b[1m--- /dev/null\u001b[m\n",
            "\u001b[1m+++ b/hello.py\u001b[m\n",
            "\u001b[36m@@ -0,0 +1 @@\u001b[m\n",
            "\u001b[32m+\u001b[m\u001b[32mprint('Hello world')\u001b[m\n"
          ]
        }
      ]
    },
    {
      "cell_type": "code",
      "source": [
        "!git status"
      ],
      "metadata": {
        "colab": {
          "base_uri": "https://localhost:8080/"
        },
        "id": "XTKV2cdR2UeL",
        "outputId": "2d762130-69e7-4f0a-c242-789a746ac32c"
      },
      "execution_count": 37,
      "outputs": [
        {
          "output_type": "stream",
          "name": "stdout",
          "text": [
            "On branch master\n",
            "Changes not staged for commit:\n",
            "  (use \"git add <file>...\" to update what will be committed)\n",
            "  (use \"git restore <file>...\" to discard changes in working directory)\n",
            "\t\u001b[31mmodified:   hello.py\u001b[m\n",
            "\n",
            "no changes added to commit (use \"git add\" and/or \"git commit -a\")\n"
          ]
        }
      ]
    },
    {
      "cell_type": "markdown",
      "source": [
        "When prompted, choose `y` (yes)"
      ],
      "metadata": {
        "id": "aAjDgHh7GqUy"
      }
    },
    {
      "cell_type": "code",
      "source": [
        "!git add -p"
      ],
      "metadata": {
        "colab": {
          "base_uri": "https://localhost:8080/"
        },
        "id": "I6S_wZeLP4nv",
        "outputId": "985498ce-bfdc-4e8c-b7e9-5cd833962556"
      },
      "execution_count": 38,
      "outputs": [
        {
          "output_type": "stream",
          "name": "stdout",
          "text": [
            "\u001b[1mdiff --git a/hello.py b/hello.py\u001b[m\n",
            "\u001b[1mindex d826caf..daaca5d 100644\u001b[m\n",
            "\u001b[1m--- a/hello.py\u001b[m\n",
            "\u001b[1m+++ b/hello.py\u001b[m\n",
            "\u001b[36m@@ -1,3 +1,4 @@\u001b[m\n",
            "\u001b[32m+\u001b[m\u001b[32mprint('Hey!!')\u001b[m\n",
            " print('Hello world')\u001b[m\n",
            " \u001b[m\n",
            " print(\"and goodbye\")\u001b[m\n",
            "\u001b[1;34m(1/1) Stage this hunk [y,n,q,a,d,e,?]? \u001b[my\n",
            "\n"
          ]
        }
      ]
    },
    {
      "cell_type": "code",
      "source": [
        "!git status"
      ],
      "metadata": {
        "colab": {
          "base_uri": "https://localhost:8080/"
        },
        "id": "qARB8kV0P9dW",
        "outputId": "c5880b9a-df87-4ea8-8258-8477ffb76c22"
      },
      "execution_count": 39,
      "outputs": [
        {
          "output_type": "stream",
          "name": "stdout",
          "text": [
            "On branch master\n",
            "Changes to be committed:\n",
            "  (use \"git restore --staged <file>...\" to unstage)\n",
            "\t\u001b[32mmodified:   hello.py\u001b[m\n",
            "\n"
          ]
        }
      ]
    },
    {
      "cell_type": "code",
      "source": [
        "!git restore --staged hello.py"
      ],
      "metadata": {
        "id": "ryjKiGiAQGjl"
      },
      "execution_count": 40,
      "outputs": []
    },
    {
      "cell_type": "code",
      "source": [
        "!git status"
      ],
      "metadata": {
        "colab": {
          "base_uri": "https://localhost:8080/"
        },
        "id": "xGd_MRBjQKgc",
        "outputId": "82caa100-d72c-46b3-d03b-a17aa1363cb1"
      },
      "execution_count": 41,
      "outputs": [
        {
          "output_type": "stream",
          "name": "stdout",
          "text": [
            "On branch master\n",
            "Changes not staged for commit:\n",
            "  (use \"git add <file>...\" to update what will be committed)\n",
            "  (use \"git restore <file>...\" to discard changes in working directory)\n",
            "\t\u001b[31mmodified:   hello.py\u001b[m\n",
            "\n",
            "no changes added to commit (use \"git add\" and/or \"git commit -a\")\n"
          ]
        }
      ]
    },
    {
      "cell_type": "code",
      "source": [
        "!git restore hello.py"
      ],
      "metadata": {
        "id": "bsGv-3nC2aLt"
      },
      "execution_count": 42,
      "outputs": []
    },
    {
      "cell_type": "code",
      "source": [
        "!git status"
      ],
      "metadata": {
        "colab": {
          "base_uri": "https://localhost:8080/"
        },
        "id": "hSaJyabN2dcx",
        "outputId": "9ebd2efd-fd09-4ca6-d4e2-48db930a299c"
      },
      "execution_count": 43,
      "outputs": [
        {
          "output_type": "stream",
          "name": "stdout",
          "text": [
            "On branch master\n",
            "nothing to commit, working tree clean\n"
          ]
        }
      ]
    },
    {
      "cell_type": "markdown",
      "source": [
        "## Demo 2: git config/setup"
      ],
      "metadata": {
        "id": "wuy1N4R-2iYV"
      }
    },
    {
      "cell_type": "code",
      "source": [
        "!git log --oneline"
      ],
      "metadata": {
        "colab": {
          "base_uri": "https://localhost:8080/"
        },
        "id": "o8zf5kNPH1gf",
        "outputId": "5442b083-4b0c-42ee-be6b-d85982b1d934"
      },
      "execution_count": 44,
      "outputs": [
        {
          "output_type": "stream",
          "name": "stdout",
          "text": [
            "\u001b[33m27480b6\u001b[m\u001b[33m (\u001b[m\u001b[1;36mHEAD -> \u001b[m\u001b[1;32mmaster\u001b[m\u001b[33m)\u001b[m Add farewell\n",
            "\u001b[33m97c3647\u001b[m Add hello world\n"
          ]
        }
      ]
    },
    {
      "cell_type": "code",
      "source": [
        "!ls -a .git"
      ],
      "metadata": {
        "colab": {
          "base_uri": "https://localhost:8080/"
        },
        "id": "pmmHZo1YwtdW",
        "outputId": "7e82f01b-f047-4b3a-8539-a395191dad26"
      },
      "execution_count": 45,
      "outputs": [
        {
          "output_type": "stream",
          "name": "stdout",
          "text": [
            ".   branches\t    config\t HEAD\tindex  logs\trefs\n",
            "..  COMMIT_EDITMSG  description  hooks\tinfo   objects\n"
          ]
        }
      ]
    },
    {
      "cell_type": "code",
      "source": [
        "!cat ../../home/.gitconfig"
      ],
      "metadata": {
        "colab": {
          "base_uri": "https://localhost:8080/"
        },
        "id": "_6bJdXSpPxNU",
        "outputId": "1e9372df-7475-480c-a8a3-8d9742327d62"
      },
      "execution_count": 46,
      "outputs": [
        {
          "output_type": "stream",
          "name": "stdout",
          "text": [
            "cat: ../../home/.gitconfig: No such file or directory\n"
          ]
        }
      ]
    },
    {
      "cell_type": "code",
      "source": [
        "!cat .git/config"
      ],
      "metadata": {
        "colab": {
          "base_uri": "https://localhost:8080/"
        },
        "id": "LfV3moplw-8n",
        "outputId": "05d1fdf5-a1e8-4542-dbf2-3c9ea27c835b"
      },
      "execution_count": 47,
      "outputs": [
        {
          "output_type": "stream",
          "name": "stdout",
          "text": [
            "[core]\n",
            "\trepositoryformatversion = 0\n",
            "\tfilemode = true\n",
            "\tbare = false\n",
            "\tlogallrefupdates = true\n"
          ]
        }
      ]
    },
    {
      "cell_type": "code",
      "source": [
        "!git log --graph --full-history --all --color --pretty=tformat:\"%x1b[31m%h%x09%x1b[32m%d%x1b[0m%x20%s%x20%x1b[33m(%an)%x1b[0m\"\n"
      ],
      "metadata": {
        "colab": {
          "base_uri": "https://localhost:8080/"
        },
        "id": "CrIpGIWNxqY1",
        "outputId": "9975e7db-e366-42cf-ff34-7cf463b8d3e4"
      },
      "execution_count": 48,
      "outputs": [
        {
          "output_type": "stream",
          "name": "stdout",
          "text": [
            "* \u001b[31m27480b6\t\u001b[32m (HEAD -> master)\u001b[0m Add farewell \u001b[33m(Jan M. Minihack)\u001b[0m\n",
            "* \u001b[31m97c3647\t\u001b[32m\u001b[0m Add hello world \u001b[33m(Jan M. Minihack)\u001b[0m\n"
          ]
        }
      ]
    },
    {
      "cell_type": "code",
      "source": [
        "!echo \"[alias]\" >> .git/config\n",
        "!echo -e \"\\tgr = log --graph --full-history --all --color --pretty=tformat:\\\"%x1b[31m%h%x09%x1b[32m%d%x1b[0m%x20%s%x20%x1b[33m(%an)%x1b[0m\\\"\" >> .git/config"
      ],
      "metadata": {
        "id": "4wV64l5QIUxg"
      },
      "execution_count": 49,
      "outputs": []
    },
    {
      "cell_type": "code",
      "source": [
        "!cat .git/config"
      ],
      "metadata": {
        "colab": {
          "base_uri": "https://localhost:8080/"
        },
        "id": "sOVTFu9pJDPc",
        "outputId": "33f485fe-d369-465d-b36d-7edc59a50a6f"
      },
      "execution_count": 50,
      "outputs": [
        {
          "output_type": "stream",
          "name": "stdout",
          "text": [
            "[core]\n",
            "\trepositoryformatversion = 0\n",
            "\tfilemode = true\n",
            "\tbare = false\n",
            "\tlogallrefupdates = true\n",
            "[alias]\n",
            "\tgr = log --graph --full-history --all --color --pretty=tformat:\"%x1b[31m%h%x09%x1b[32m%d%x1b[0m%x20%s%x20%x1b[33m(%an)%x1b[0m\"\n"
          ]
        }
      ]
    },
    {
      "cell_type": "code",
      "source": [
        "!git gr"
      ],
      "metadata": {
        "colab": {
          "base_uri": "https://localhost:8080/"
        },
        "id": "m9iGrtjdNlEY",
        "outputId": "86989c1c-1c05-435d-e744-767b11a61b18"
      },
      "execution_count": 51,
      "outputs": [
        {
          "output_type": "stream",
          "name": "stdout",
          "text": [
            "* \u001b[31m27480b6\t\u001b[32m (HEAD -> master)\u001b[0m Add farewell \u001b[33m(Jan M. Minihack)\u001b[0m\n",
            "* \u001b[31m97c3647\t\u001b[32m\u001b[0m Add hello world \u001b[33m(Jan M. Minihack)\u001b[0m\n"
          ]
        }
      ]
    },
    {
      "cell_type": "markdown",
      "source": [
        "## Demo 3: Branching"
      ],
      "metadata": {
        "id": "ULZW79sp7EWZ"
      }
    },
    {
      "cell_type": "code",
      "source": [
        "!git branch"
      ],
      "metadata": {
        "colab": {
          "base_uri": "https://localhost:8080/"
        },
        "id": "0sqDJJay7HXj",
        "outputId": "a03663a7-1985-42b5-a8e1-18658eb80456"
      },
      "execution_count": 52,
      "outputs": [
        {
          "output_type": "stream",
          "name": "stdout",
          "text": [
            "* \u001b[32mmaster\u001b[m\n"
          ]
        }
      ]
    },
    {
      "cell_type": "code",
      "source": [
        "!git branch violeta/test1\n",
        "!git branch"
      ],
      "metadata": {
        "colab": {
          "base_uri": "https://localhost:8080/"
        },
        "id": "I3SRSx0U7QFf",
        "outputId": "82bf1c71-7e06-43b3-a854-aa12e9fe0720"
      },
      "execution_count": 53,
      "outputs": [
        {
          "output_type": "stream",
          "name": "stdout",
          "text": [
            "* \u001b[32mmaster\u001b[m\n",
            "  violeta/test1\u001b[m\n"
          ]
        }
      ]
    },
    {
      "cell_type": "code",
      "source": [
        "!git checkout violeta/test1"
      ],
      "metadata": {
        "colab": {
          "base_uri": "https://localhost:8080/"
        },
        "id": "AG0mqz2P7aFJ",
        "outputId": "515865be-0884-4489-8b57-ac3cafe00973"
      },
      "execution_count": 54,
      "outputs": [
        {
          "output_type": "stream",
          "name": "stdout",
          "text": [
            "Switched to branch 'violeta/test1'\n"
          ]
        }
      ]
    },
    {
      "cell_type": "code",
      "source": [
        "!git gr"
      ],
      "metadata": {
        "colab": {
          "base_uri": "https://localhost:8080/"
        },
        "id": "ONp7y-Zk7dqT",
        "outputId": "588407a5-1b3e-4a23-8e5a-8a2b1011fbf5"
      },
      "execution_count": 55,
      "outputs": [
        {
          "output_type": "stream",
          "name": "stdout",
          "text": [
            "* \u001b[31m27480b6\t\u001b[32m (HEAD -> violeta/test1, master)\u001b[0m Add farewell \u001b[33m(Jan M. Minihack)\u001b[0m\n",
            "* \u001b[31m97c3647\t\u001b[32m\u001b[0m Add hello world \u001b[33m(Jan M. Minihack)\u001b[0m\n"
          ]
        }
      ]
    },
    {
      "cell_type": "code",
      "source": [
        "!git checkout -b violeta/test2\n",
        "!git branch"
      ],
      "metadata": {
        "colab": {
          "base_uri": "https://localhost:8080/"
        },
        "id": "SzBuLP787jxJ",
        "outputId": "c32fbfb2-7fd2-4a07-fe3e-63f3780e2f5f"
      },
      "execution_count": 56,
      "outputs": [
        {
          "output_type": "stream",
          "name": "stdout",
          "text": [
            "Switched to a new branch 'violeta/test2'\n",
            "  master\u001b[m\n",
            "  violeta/test1\u001b[m\n",
            "* \u001b[32mvioleta/test2\u001b[m\n"
          ]
        }
      ]
    },
    {
      "cell_type": "code",
      "source": [
        "!sed -i \"1s/^/print('Hey!!')\\n/\" hello.py\n",
        "!cat hello.py"
      ],
      "metadata": {
        "colab": {
          "base_uri": "https://localhost:8080/"
        },
        "id": "bJa54Del8vYs",
        "outputId": "9b3ed882-b85e-4902-9829-b8d59e21d5bf"
      },
      "execution_count": 57,
      "outputs": [
        {
          "output_type": "stream",
          "name": "stdout",
          "text": [
            "print('Hey!!')\n",
            "print('Hello world')\n",
            "\n",
            "print(\"and goodbye\")\n"
          ]
        }
      ]
    },
    {
      "cell_type": "code",
      "source": [
        "!cat hello.py"
      ],
      "metadata": {
        "colab": {
          "base_uri": "https://localhost:8080/"
        },
        "id": "QaO4UcCe830w",
        "outputId": "a1d63b7c-ba26-4dc2-ffbe-acd5d8880ca0"
      },
      "execution_count": 58,
      "outputs": [
        {
          "output_type": "stream",
          "name": "stdout",
          "text": [
            "print('Hey!!')\n",
            "print('Hello world')\n",
            "\n",
            "print(\"and goodbye\")\n"
          ]
        }
      ]
    },
    {
      "cell_type": "code",
      "source": [
        "!git status"
      ],
      "metadata": {
        "colab": {
          "base_uri": "https://localhost:8080/"
        },
        "id": "FLSUiHrL_duo",
        "outputId": "c8af4be6-0716-4a42-a466-88d4778ec2d0"
      },
      "execution_count": 59,
      "outputs": [
        {
          "output_type": "stream",
          "name": "stdout",
          "text": [
            "On branch violeta/test2\n",
            "Changes not staged for commit:\n",
            "  (use \"git add <file>...\" to update what will be committed)\n",
            "  (use \"git restore <file>...\" to discard changes in working directory)\n",
            "\t\u001b[31mmodified:   hello.py\u001b[m\n",
            "\n",
            "no changes added to commit (use \"git add\" and/or \"git commit -a\")\n"
          ]
        }
      ]
    },
    {
      "cell_type": "code",
      "source": [
        "!git commit -am \"Try a different greeting\""
      ],
      "metadata": {
        "colab": {
          "base_uri": "https://localhost:8080/"
        },
        "id": "wapNfAof_j3Q",
        "outputId": "02fd6322-0884-4fd9-dd12-193bb3dd676a"
      },
      "execution_count": 60,
      "outputs": [
        {
          "output_type": "stream",
          "name": "stdout",
          "text": [
            "[violeta/test2 50fbae0] Try a different greeting\n",
            " 1 file changed, 1 insertion(+)\n"
          ]
        }
      ]
    },
    {
      "cell_type": "code",
      "source": [
        "!git log -p"
      ],
      "metadata": {
        "colab": {
          "base_uri": "https://localhost:8080/"
        },
        "id": "iq6oIDWO_z7c",
        "outputId": "592b0e44-b5a2-4585-8f42-60776f5a102d"
      },
      "execution_count": 61,
      "outputs": [
        {
          "output_type": "stream",
          "name": "stdout",
          "text": [
            "\u001b[33mcommit 50fbae0f5d9b3567c9a79538d8836e4ccf741959\u001b[m\u001b[33m (\u001b[m\u001b[1;36mHEAD -> \u001b[m\u001b[1;32mvioleta/test2\u001b[m\u001b[33m)\u001b[m\n",
            "Author: Jan M. Minihack <jan.minihack@mmh.com>\n",
            "Date:   Fri Jan 27 12:01:44 2023 +0000\n",
            "\n",
            "    Try a different greeting\n",
            "\n",
            "\u001b[1mdiff --git a/hello.py b/hello.py\u001b[m\n",
            "\u001b[1mindex d826caf..daaca5d 100644\u001b[m\n",
            "\u001b[1m--- a/hello.py\u001b[m\n",
            "\u001b[1m+++ b/hello.py\u001b[m\n",
            "\u001b[36m@@ -1,3 +1,4 @@\u001b[m\n",
            "\u001b[32m+\u001b[m\u001b[32mprint('Hey!!')\u001b[m\n",
            " print('Hello world')\u001b[m\n",
            " \u001b[m\n",
            " print(\"and goodbye\")\u001b[m\n",
            "\n",
            "\u001b[33mcommit 27480b6e5a79659ad7be147ea6c8e432293f7e03\u001b[m\u001b[33m (\u001b[m\u001b[1;32mvioleta/test1\u001b[m\u001b[33m, \u001b[m\u001b[1;32mmaster\u001b[m\u001b[33m)\u001b[m\n",
            "Author: Jan M. Minihack <jan.minihack@mmh.com>\n",
            "Date:   Fri Jan 27 11:58:49 2023 +0000\n",
            "\n",
            "    Add farewell\n",
            "\n",
            "\u001b[1mdiff --git a/hello.py b/hello.py\u001b[m\n",
            "\u001b[1mindex f7d1785..d826caf 100644\u001b[m\n",
            "\u001b[1m--- a/hello.py\u001b[m\n",
            "\u001b[1m+++ b/hello.py\u001b[m\n",
            "\u001b[36m@@ -1 +1,3 @@\u001b[m\n",
            " print('Hello world')\u001b[m\n",
            "\u001b[32m+\u001b[m\n",
            "\u001b[32m+\u001b[m\u001b[32mprint(\"and goodbye\")\u001b[m\n",
            "\n",
            "\u001b[33mcommit 97c3647d7ef773c45bb01d3a415e76f74fbeef2e\u001b[m\n",
            "Author: Jan M. Minihack <jan.minihack@mmh.com>\n",
            "Date:   Fri Jan 27 11:58:32 2023 +0000\n",
            "\n",
            "    Add hello world\n",
            "\n",
            "\u001b[1mdiff --git a/hello.py b/hello.py\u001b[m\n",
            "\u001b[1mnew file mode 100644\u001b[m\n",
            "\u001b[1mindex 0000000..f7d1785\u001b[m\n",
            "\u001b[1m--- /dev/null\u001b[m\n",
            "\u001b[1m+++ b/hello.py\u001b[m\n",
            "\u001b[36m@@ -0,0 +1 @@\u001b[m\n",
            "\u001b[32m+\u001b[m\u001b[32mprint('Hello world')\u001b[m\n"
          ]
        }
      ]
    },
    {
      "cell_type": "code",
      "source": [
        "!git gr"
      ],
      "metadata": {
        "colab": {
          "base_uri": "https://localhost:8080/"
        },
        "id": "LGYczVWw_52q",
        "outputId": "53f63081-6d5b-4b09-b2c1-b9d05d1b89c2"
      },
      "execution_count": 62,
      "outputs": [
        {
          "output_type": "stream",
          "name": "stdout",
          "text": [
            "* \u001b[31m50fbae0\t\u001b[32m (HEAD -> violeta/test2)\u001b[0m Try a different greeting \u001b[33m(Jan M. Minihack)\u001b[0m\n",
            "* \u001b[31m27480b6\t\u001b[32m (violeta/test1, master)\u001b[0m Add farewell \u001b[33m(Jan M. Minihack)\u001b[0m\n",
            "* \u001b[31m97c3647\t\u001b[32m\u001b[0m Add hello world \u001b[33m(Jan M. Minihack)\u001b[0m\n"
          ]
        }
      ]
    },
    {
      "cell_type": "code",
      "source": [
        "!git checkout violeta/test1"
      ],
      "metadata": {
        "colab": {
          "base_uri": "https://localhost:8080/"
        },
        "id": "7Gdnv29m_9vU",
        "outputId": "ba71308a-195b-4093-c39a-e794f6f10d46"
      },
      "execution_count": 63,
      "outputs": [
        {
          "output_type": "stream",
          "name": "stdout",
          "text": [
            "Switched to branch 'violeta/test1'\n"
          ]
        }
      ]
    },
    {
      "cell_type": "code",
      "source": [
        "!sed -i \"1s/^/print('Yoyoyo!!')\\n/\" hello.py\n",
        "!cat hello.py"
      ],
      "metadata": {
        "colab": {
          "base_uri": "https://localhost:8080/"
        },
        "id": "Y1p1q9sGAA1q",
        "outputId": "b896094a-0f14-4374-ba74-f5b46dee6992"
      },
      "execution_count": 64,
      "outputs": [
        {
          "output_type": "stream",
          "name": "stdout",
          "text": [
            "print('Yoyoyo!!')\n",
            "print('Hello world')\n",
            "\n",
            "print(\"and goodbye\")\n"
          ]
        }
      ]
    },
    {
      "cell_type": "code",
      "source": [
        "!git commit -am \"Try a different more casual greeting\""
      ],
      "metadata": {
        "colab": {
          "base_uri": "https://localhost:8080/"
        },
        "id": "TBRVaF-1AHZk",
        "outputId": "deca863c-afa0-43ed-a2ea-1bdd81d2daaa"
      },
      "execution_count": 65,
      "outputs": [
        {
          "output_type": "stream",
          "name": "stdout",
          "text": [
            "[violeta/test1 8bc5174] Try a different more casual greeting\n",
            " 1 file changed, 1 insertion(+)\n"
          ]
        }
      ]
    },
    {
      "cell_type": "code",
      "source": [
        "!git log --oneline"
      ],
      "metadata": {
        "colab": {
          "base_uri": "https://localhost:8080/"
        },
        "id": "7OniUJNZAMqQ",
        "outputId": "60ac6cdf-5867-4e8c-eda4-3cc0f8b02580"
      },
      "execution_count": 66,
      "outputs": [
        {
          "output_type": "stream",
          "name": "stdout",
          "text": [
            "\u001b[33m8bc5174\u001b[m\u001b[33m (\u001b[m\u001b[1;36mHEAD -> \u001b[m\u001b[1;32mvioleta/test1\u001b[m\u001b[33m)\u001b[m Try a different more casual greeting\n",
            "\u001b[33m27480b6\u001b[m\u001b[33m (\u001b[m\u001b[1;32mmaster\u001b[m\u001b[33m)\u001b[m Add farewell\n",
            "\u001b[33m97c3647\u001b[m Add hello world\n"
          ]
        }
      ]
    },
    {
      "cell_type": "code",
      "source": [
        "!git gr"
      ],
      "metadata": {
        "colab": {
          "base_uri": "https://localhost:8080/"
        },
        "id": "7y4Cv24PARXQ",
        "outputId": "a87b791f-0f1b-45f1-a52e-4118727521a3"
      },
      "execution_count": 67,
      "outputs": [
        {
          "output_type": "stream",
          "name": "stdout",
          "text": [
            "* \u001b[31m8bc5174\t\u001b[32m (HEAD -> violeta/test1)\u001b[0m Try a different more casual greeting \u001b[33m(Jan M. Minihack)\u001b[0m\n",
            "\u001b[31m|\u001b[m * \u001b[31m50fbae0\t\u001b[32m (violeta/test2)\u001b[0m Try a different greeting \u001b[33m(Jan M. Minihack)\u001b[0m\n",
            "\u001b[31m|\u001b[m\u001b[31m/\u001b[m  \n",
            "* \u001b[31m27480b6\t\u001b[32m (master)\u001b[0m Add farewell \u001b[33m(Jan M. Minihack)\u001b[0m\n",
            "* \u001b[31m97c3647\t\u001b[32m\u001b[0m Add hello world \u001b[33m(Jan M. Minihack)\u001b[0m\n"
          ]
        }
      ]
    },
    {
      "cell_type": "code",
      "source": [
        "!git checkout master"
      ],
      "metadata": {
        "colab": {
          "base_uri": "https://localhost:8080/"
        },
        "id": "F3klVJETAaGH",
        "outputId": "4c42de51-7ccd-4c53-d165-31ff46983f85"
      },
      "execution_count": 68,
      "outputs": [
        {
          "output_type": "stream",
          "name": "stdout",
          "text": [
            "Switched to branch 'master'\n"
          ]
        }
      ]
    },
    {
      "cell_type": "code",
      "source": [
        "!git log"
      ],
      "metadata": {
        "colab": {
          "base_uri": "https://localhost:8080/"
        },
        "id": "KNnbqE38AhUP",
        "outputId": "1bc743d2-5e93-44c9-ca2e-a0c93b619710"
      },
      "execution_count": 69,
      "outputs": [
        {
          "output_type": "stream",
          "name": "stdout",
          "text": [
            "\u001b[33mcommit 27480b6e5a79659ad7be147ea6c8e432293f7e03\u001b[m\u001b[33m (\u001b[m\u001b[1;36mHEAD -> \u001b[m\u001b[1;32mmaster\u001b[m\u001b[33m)\u001b[m\n",
            "Author: Jan M. Minihack <jan.minihack@mmh.com>\n",
            "Date:   Fri Jan 27 11:58:49 2023 +0000\n",
            "\n",
            "    Add farewell\n",
            "\n",
            "\u001b[33mcommit 97c3647d7ef773c45bb01d3a415e76f74fbeef2e\u001b[m\n",
            "Author: Jan M. Minihack <jan.minihack@mmh.com>\n",
            "Date:   Fri Jan 27 11:58:32 2023 +0000\n",
            "\n",
            "    Add hello world\n"
          ]
        }
      ]
    },
    {
      "cell_type": "code",
      "source": [
        "!git merge violeta/test2"
      ],
      "metadata": {
        "colab": {
          "base_uri": "https://localhost:8080/"
        },
        "id": "8qvNPbh0E1P4",
        "outputId": "a0380e10-b0fe-4c2e-8df3-aea2e5126a70"
      },
      "execution_count": 70,
      "outputs": [
        {
          "output_type": "stream",
          "name": "stdout",
          "text": [
            "Updating 27480b6..50fbae0\n",
            "Fast-forward\n",
            " hello.py | 1 \u001b[32m+\u001b[m\n",
            " 1 file changed, 1 insertion(+)\n"
          ]
        }
      ]
    },
    {
      "cell_type": "code",
      "source": [
        "!git log"
      ],
      "metadata": {
        "colab": {
          "base_uri": "https://localhost:8080/"
        },
        "id": "djbkZfYaE3op",
        "outputId": "efe2bb8d-2c87-49de-fd17-0f640e37bec1"
      },
      "execution_count": 71,
      "outputs": [
        {
          "output_type": "stream",
          "name": "stdout",
          "text": [
            "\u001b[33mcommit 50fbae0f5d9b3567c9a79538d8836e4ccf741959\u001b[m\u001b[33m (\u001b[m\u001b[1;36mHEAD -> \u001b[m\u001b[1;32mmaster\u001b[m\u001b[33m, \u001b[m\u001b[1;32mvioleta/test2\u001b[m\u001b[33m)\u001b[m\n",
            "Author: Jan M. Minihack <jan.minihack@mmh.com>\n",
            "Date:   Fri Jan 27 12:01:44 2023 +0000\n",
            "\n",
            "    Try a different greeting\n",
            "\n",
            "\u001b[33mcommit 27480b6e5a79659ad7be147ea6c8e432293f7e03\u001b[m\n",
            "Author: Jan M. Minihack <jan.minihack@mmh.com>\n",
            "Date:   Fri Jan 27 11:58:49 2023 +0000\n",
            "\n",
            "    Add farewell\n",
            "\n",
            "\u001b[33mcommit 97c3647d7ef773c45bb01d3a415e76f74fbeef2e\u001b[m\n",
            "Author: Jan M. Minihack <jan.minihack@mmh.com>\n",
            "Date:   Fri Jan 27 11:58:32 2023 +0000\n",
            "\n",
            "    Add hello world\n"
          ]
        }
      ]
    },
    {
      "cell_type": "code",
      "source": [
        "!git gr"
      ],
      "metadata": {
        "colab": {
          "base_uri": "https://localhost:8080/"
        },
        "id": "-Tz2UZHIE57H",
        "outputId": "16e0c6a8-695a-4e72-fa34-b58e5f8e8d03"
      },
      "execution_count": 72,
      "outputs": [
        {
          "output_type": "stream",
          "name": "stdout",
          "text": [
            "* \u001b[31m8bc5174\t\u001b[32m (violeta/test1)\u001b[0m Try a different more casual greeting \u001b[33m(Jan M. Minihack)\u001b[0m\n",
            "\u001b[31m|\u001b[m * \u001b[31m50fbae0\t\u001b[32m (HEAD -> master, violeta/test2)\u001b[0m Try a different greeting \u001b[33m(Jan M. Minihack)\u001b[0m\n",
            "\u001b[31m|\u001b[m\u001b[31m/\u001b[m  \n",
            "* \u001b[31m27480b6\t\u001b[32m\u001b[0m Add farewell \u001b[33m(Jan M. Minihack)\u001b[0m\n",
            "* \u001b[31m97c3647\t\u001b[32m\u001b[0m Add hello world \u001b[33m(Jan M. Minihack)\u001b[0m\n"
          ]
        }
      ]
    },
    {
      "cell_type": "code",
      "source": [
        "!git merge violeta/test1"
      ],
      "metadata": {
        "colab": {
          "base_uri": "https://localhost:8080/"
        },
        "id": "pkFF1c0NJVa2",
        "outputId": "4c4f1e28-2c7a-4c10-a184-084db92ee2dc"
      },
      "execution_count": 73,
      "outputs": [
        {
          "output_type": "stream",
          "name": "stdout",
          "text": [
            "Auto-merging hello.py\n",
            "CONFLICT (content): Merge conflict in hello.py\n",
            "Automatic merge failed; fix conflicts and then commit the result.\n"
          ]
        }
      ]
    },
    {
      "cell_type": "code",
      "source": [
        "!git status"
      ],
      "metadata": {
        "colab": {
          "base_uri": "https://localhost:8080/"
        },
        "id": "Zdto-4wMKeGp",
        "outputId": "eb45727e-a97c-4891-887c-efa694362a02"
      },
      "execution_count": 74,
      "outputs": [
        {
          "output_type": "stream",
          "name": "stdout",
          "text": [
            "On branch master\n",
            "You have unmerged paths.\n",
            "  (fix conflicts and run \"git commit\")\n",
            "  (use \"git merge --abort\" to abort the merge)\n",
            "\n",
            "Unmerged paths:\n",
            "  (use \"git add <file>...\" to mark resolution)\n",
            "\t\u001b[31mboth modified:   hello.py\u001b[m\n",
            "\n",
            "no changes added to commit (use \"git add\" and/or \"git commit -a\")\n"
          ]
        }
      ]
    },
    {
      "cell_type": "code",
      "source": [
        "!git diff"
      ],
      "metadata": {
        "colab": {
          "base_uri": "https://localhost:8080/"
        },
        "id": "oyNzVX7pKhBs",
        "outputId": "ac667cb7-205c-4d90-f20c-a6fdf551a923"
      },
      "execution_count": 75,
      "outputs": [
        {
          "output_type": "stream",
          "name": "stdout",
          "text": [
            "\u001b[1mdiff --cc hello.py\u001b[m\n",
            "\u001b[1mindex daaca5d,51e9ef2..0000000\u001b[m\n",
            "\u001b[1m--- a/hello.py\u001b[m\n",
            "\u001b[1m+++ b/hello.py\u001b[m\n",
            "\u001b[36m@@@ -1,4 -1,4 +1,8 @@@\u001b[m\n",
            "\u001b[32m++<<<<<<< HEAD\u001b[m\n",
            "\u001b[32m +print('Hey!!')\u001b[m\n",
            "\u001b[32m++=======\u001b[m\n",
            "\u001b[32m+ print('Yoyoyo!!')\u001b[m\n",
            "\u001b[32m++>>>>>>> violeta/test1\u001b[m\n",
            "  print('Hello world')\u001b[m\n",
            "  \u001b[m\n",
            "  print(\"and goodbye\")\u001b[m\n"
          ]
        }
      ]
    },
    {
      "cell_type": "code",
      "source": [
        "!echo -e \"print('Yoyoyo!!')\\nprint('Hello world')\\n\\nprint(\\\"and goodbye\\\")\" > hello.py\n",
        "!cat hello.py"
      ],
      "metadata": {
        "colab": {
          "base_uri": "https://localhost:8080/"
        },
        "id": "mBQigZlZKyQc",
        "outputId": "98f617a9-59e8-452d-8d9b-29c91238b627"
      },
      "execution_count": 76,
      "outputs": [
        {
          "output_type": "stream",
          "name": "stdout",
          "text": [
            "print('Yoyoyo!!')\n",
            "print('Hello world')\n",
            "\n",
            "print(\"and goodbye\")\n"
          ]
        }
      ]
    },
    {
      "cell_type": "code",
      "source": [
        "!git add hello.py"
      ],
      "metadata": {
        "id": "LqjCyFCiLEjC"
      },
      "execution_count": 77,
      "outputs": []
    },
    {
      "cell_type": "code",
      "source": [
        "!git status"
      ],
      "metadata": {
        "colab": {
          "base_uri": "https://localhost:8080/"
        },
        "id": "J3v0XmjrLPzc",
        "outputId": "9ff4b46c-6302-4d09-a648-99aaaeb87b65"
      },
      "execution_count": 78,
      "outputs": [
        {
          "output_type": "stream",
          "name": "stdout",
          "text": [
            "On branch master\n",
            "All conflicts fixed but you are still merging.\n",
            "  (use \"git commit\" to conclude merge)\n",
            "\n",
            "Changes to be committed:\n",
            "\t\u001b[32mmodified:   hello.py\u001b[m\n",
            "\n"
          ]
        }
      ]
    },
    {
      "cell_type": "code",
      "source": [
        "!git diff --staged"
      ],
      "metadata": {
        "colab": {
          "base_uri": "https://localhost:8080/"
        },
        "id": "MQ8hWTJ6LUY7",
        "outputId": "1dffef86-7ddc-4df9-d568-5d756de4106a"
      },
      "execution_count": 79,
      "outputs": [
        {
          "output_type": "stream",
          "name": "stdout",
          "text": [
            "\u001b[1mdiff --git a/hello.py b/hello.py\u001b[m\n",
            "\u001b[1mindex daaca5d..51e9ef2 100644\u001b[m\n",
            "\u001b[1m--- a/hello.py\u001b[m\n",
            "\u001b[1m+++ b/hello.py\u001b[m\n",
            "\u001b[36m@@ -1,4 +1,4 @@\u001b[m\n",
            "\u001b[31m-print('Hey!!')\u001b[m\n",
            "\u001b[32m+\u001b[m\u001b[32mprint('Yoyoyo!!')\u001b[m\n",
            " print('Hello world')\u001b[m\n",
            " \u001b[m\n",
            " print(\"and goodbye\")\u001b[m\n"
          ]
        }
      ]
    },
    {
      "cell_type": "code",
      "source": [
        "!git commit -m \"Update greeting\""
      ],
      "metadata": {
        "colab": {
          "base_uri": "https://localhost:8080/"
        },
        "id": "mJXSZv7MLjIg",
        "outputId": "91c51ca5-99af-42da-b474-1718a98f6719"
      },
      "execution_count": 80,
      "outputs": [
        {
          "output_type": "stream",
          "name": "stdout",
          "text": [
            "[master 3fa28cb] Update greeting\n"
          ]
        }
      ]
    },
    {
      "cell_type": "code",
      "source": [
        "!git log -p"
      ],
      "metadata": {
        "colab": {
          "base_uri": "https://localhost:8080/"
        },
        "id": "i19PN7bGLmrG",
        "outputId": "c770f4a3-c4ce-4cc4-b1ce-4a853a32facb"
      },
      "execution_count": 81,
      "outputs": [
        {
          "output_type": "stream",
          "name": "stdout",
          "text": [
            "\u001b[33mcommit 3fa28cbf2e58d42fb041fec3ddfd3862adee87a8\u001b[m\u001b[33m (\u001b[m\u001b[1;36mHEAD -> \u001b[m\u001b[1;32mmaster\u001b[m\u001b[33m)\u001b[m\n",
            "Merge: 50fbae0 8bc5174\n",
            "Author: Jan M. Minihack <jan.minihack@mmh.com>\n",
            "Date:   Fri Jan 27 12:01:47 2023 +0000\n",
            "\n",
            "    Update greeting\n",
            "\n",
            "\u001b[33mcommit 8bc517464961ad30a7a5660339b5681d955c5c76\u001b[m\u001b[33m (\u001b[m\u001b[1;32mvioleta/test1\u001b[m\u001b[33m)\u001b[m\n",
            "Author: Jan M. Minihack <jan.minihack@mmh.com>\n",
            "Date:   Fri Jan 27 12:01:45 2023 +0000\n",
            "\n",
            "    Try a different more casual greeting\n",
            "\n",
            "\u001b[1mdiff --git a/hello.py b/hello.py\u001b[m\n",
            "\u001b[1mindex d826caf..51e9ef2 100644\u001b[m\n",
            "\u001b[1m--- a/hello.py\u001b[m\n",
            "\u001b[1m+++ b/hello.py\u001b[m\n",
            "\u001b[36m@@ -1,3 +1,4 @@\u001b[m\n",
            "\u001b[32m+\u001b[m\u001b[32mprint('Yoyoyo!!')\u001b[m\n",
            " print('Hello world')\u001b[m\n",
            " \u001b[m\n",
            " print(\"and goodbye\")\u001b[m\n",
            "\n",
            "\u001b[33mcommit 50fbae0f5d9b3567c9a79538d8836e4ccf741959\u001b[m\u001b[33m (\u001b[m\u001b[1;32mvioleta/test2\u001b[m\u001b[33m)\u001b[m\n",
            "Author: Jan M. Minihack <jan.minihack@mmh.com>\n",
            "Date:   Fri Jan 27 12:01:44 2023 +0000\n",
            "\n",
            "    Try a different greeting\n",
            "\n",
            "\u001b[1mdiff --git a/hello.py b/hello.py\u001b[m\n",
            "\u001b[1mindex d826caf..daaca5d 100644\u001b[m\n",
            "\u001b[1m--- a/hello.py\u001b[m\n",
            "\u001b[1m+++ b/hello.py\u001b[m\n",
            "\u001b[36m@@ -1,3 +1,4 @@\u001b[m\n",
            "\u001b[32m+\u001b[m\u001b[32mprint('Hey!!')\u001b[m\n",
            " print('Hello world')\u001b[m\n",
            " \u001b[m\n",
            " print(\"and goodbye\")\u001b[m\n",
            "\n",
            "\u001b[33mcommit 27480b6e5a79659ad7be147ea6c8e432293f7e03\u001b[m\n",
            "Author: Jan M. Minihack <jan.minihack@mmh.com>\n",
            "Date:   Fri Jan 27 11:58:49 2023 +0000\n",
            "\n",
            "    Add farewell\n",
            "\n",
            "\u001b[1mdiff --git a/hello.py b/hello.py\u001b[m\n",
            "\u001b[1mindex f7d1785..d826caf 100644\u001b[m\n",
            "\u001b[1m--- a/hello.py\u001b[m\n",
            "\u001b[1m+++ b/hello.py\u001b[m\n",
            "\u001b[36m@@ -1 +1,3 @@\u001b[m\n",
            " print('Hello world')\u001b[m\n",
            "\u001b[32m+\u001b[m\n",
            "\u001b[32m+\u001b[m\u001b[32mprint(\"and goodbye\")\u001b[m\n",
            "\n",
            "\u001b[33mcommit 97c3647d7ef773c45bb01d3a415e76f74fbeef2e\u001b[m\n",
            "Author: Jan M. Minihack <jan.minihack@mmh.com>\n",
            "Date:   Fri Jan 27 11:58:32 2023 +0000\n",
            "\n",
            "    Add hello world\n",
            "\n",
            "\u001b[1mdiff --git a/hello.py b/hello.py\u001b[m\n",
            "\u001b[1mnew file mode 100644\u001b[m\n",
            "\u001b[1mindex 0000000..f7d1785\u001b[m\n",
            "\u001b[1m--- /dev/null\u001b[m\n",
            "\u001b[1m+++ b/hello.py\u001b[m\n",
            "\u001b[36m@@ -0,0 +1 @@\u001b[m\n",
            "\u001b[32m+\u001b[m\u001b[32mprint('Hello world')\u001b[m\n"
          ]
        }
      ]
    },
    {
      "cell_type": "code",
      "source": [
        "!git gr"
      ],
      "metadata": {
        "colab": {
          "base_uri": "https://localhost:8080/"
        },
        "id": "XUp3aeN_Lq3O",
        "outputId": "c7cf7720-f4bd-434a-f42a-f947cf625b8b"
      },
      "execution_count": 82,
      "outputs": [
        {
          "output_type": "stream",
          "name": "stdout",
          "text": [
            "*   \u001b[31m3fa28cb\t\u001b[32m (HEAD -> master)\u001b[0m Update greeting \u001b[33m(Jan M. Minihack)\u001b[0m\n",
            "\u001b[31m|\u001b[m\u001b[32m\\\u001b[m  \n",
            "\u001b[31m|\u001b[m * \u001b[31m8bc5174\t\u001b[32m (violeta/test1)\u001b[0m Try a different more casual greeting \u001b[33m(Jan M. Minihack)\u001b[0m\n",
            "* \u001b[32m|\u001b[m \u001b[31m50fbae0\t\u001b[32m (violeta/test2)\u001b[0m Try a different greeting \u001b[33m(Jan M. Minihack)\u001b[0m\n",
            "\u001b[32m|\u001b[m\u001b[32m/\u001b[m  \n",
            "* \u001b[31m27480b6\t\u001b[32m\u001b[0m Add farewell \u001b[33m(Jan M. Minihack)\u001b[0m\n",
            "* \u001b[31m97c3647\t\u001b[32m\u001b[0m Add hello world \u001b[33m(Jan M. Minihack)\u001b[0m\n"
          ]
        }
      ]
    },
    {
      "cell_type": "markdown",
      "source": [
        "## Demo 4: Revisions, stash and reset"
      ],
      "metadata": {
        "id": "a9OyhKbmkZLL"
      }
    },
    {
      "cell_type": "code",
      "source": [
        "!git show HEAD~2"
      ],
      "metadata": {
        "colab": {
          "base_uri": "https://localhost:8080/"
        },
        "id": "pw2D6_ZMkdD-",
        "outputId": "11c7a6fd-9839-43f3-f8dc-953c4eca94c5"
      },
      "execution_count": 83,
      "outputs": [
        {
          "output_type": "stream",
          "name": "stdout",
          "text": [
            "\u001b[33mcommit 27480b6e5a79659ad7be147ea6c8e432293f7e03\u001b[m\n",
            "Author: Jan M. Minihack <jan.minihack@mmh.com>\n",
            "Date:   Fri Jan 27 11:58:49 2023 +0000\n",
            "\n",
            "    Add farewell\n",
            "\n",
            "\u001b[1mdiff --git a/hello.py b/hello.py\u001b[m\n",
            "\u001b[1mindex f7d1785..d826caf 100644\u001b[m\n",
            "\u001b[1m--- a/hello.py\u001b[m\n",
            "\u001b[1m+++ b/hello.py\u001b[m\n",
            "\u001b[36m@@ -1 +1,3 @@\u001b[m\n",
            " print('Hello world')\u001b[m\n",
            "\u001b[32m+\u001b[m\n",
            "\u001b[32m+\u001b[m\u001b[32mprint(\"and goodbye\")\u001b[m\n"
          ]
        }
      ]
    },
    {
      "cell_type": "code",
      "source": [
        "!git checkout HEAD~2"
      ],
      "metadata": {
        "colab": {
          "base_uri": "https://localhost:8080/"
        },
        "id": "kkEg2irrn5Yd",
        "outputId": "41a50244-0fc5-47f0-d811-34d2678b2eb2"
      },
      "execution_count": 84,
      "outputs": [
        {
          "output_type": "stream",
          "name": "stdout",
          "text": [
            "Note: switching to 'HEAD~2'.\n",
            "\n",
            "You are in 'detached HEAD' state. You can look around, make experimental\n",
            "changes and commit them, and you can discard any commits you make in this\n",
            "state without impacting any branches by switching back to a branch.\n",
            "\n",
            "If you want to create a new branch to retain commits you create, you may\n",
            "do so (now or later) by using -c with the switch command. Example:\n",
            "\n",
            "  git switch -c <new-branch-name>\n",
            "\n",
            "Or undo this operation with:\n",
            "\n",
            "  git switch -\n",
            "\n",
            "Turn off this advice by setting config variable advice.detachedHead to false\n",
            "\n",
            "HEAD is now at 27480b6 Add farewell\n"
          ]
        }
      ]
    },
    {
      "cell_type": "code",
      "source": [
        "!sed -i '$s/$/\\n\\nprint(\"byeeee\")/' hello.py\n",
        "!cat hello.py"
      ],
      "metadata": {
        "colab": {
          "base_uri": "https://localhost:8080/"
        },
        "id": "R0AeoDeRoAfv",
        "outputId": "e7deb175-85cd-4d86-e259-dd61fb000838"
      },
      "execution_count": 85,
      "outputs": [
        {
          "output_type": "stream",
          "name": "stdout",
          "text": [
            "print('Hello world')\n",
            "\n",
            "print(\"and goodbye\")\n",
            "\n",
            "print(\"byeeee\")\n"
          ]
        }
      ]
    },
    {
      "cell_type": "code",
      "source": [
        "!git status"
      ],
      "metadata": {
        "colab": {
          "base_uri": "https://localhost:8080/"
        },
        "id": "otDeJqGhoW0l",
        "outputId": "240e7bc0-085e-4f8b-ba31-94ec1a179684"
      },
      "execution_count": 86,
      "outputs": [
        {
          "output_type": "stream",
          "name": "stdout",
          "text": [
            "\u001b[31mHEAD detached at \u001b[m27480b6\n",
            "Changes not staged for commit:\n",
            "  (use \"git add <file>...\" to update what will be committed)\n",
            "  (use \"git restore <file>...\" to discard changes in working directory)\n",
            "\t\u001b[31mmodified:   hello.py\u001b[m\n",
            "\n",
            "no changes added to commit (use \"git add\" and/or \"git commit -a\")\n"
          ]
        }
      ]
    },
    {
      "cell_type": "code",
      "source": [
        "!git diff"
      ],
      "metadata": {
        "colab": {
          "base_uri": "https://localhost:8080/"
        },
        "id": "LLAZ7psqoZ5N",
        "outputId": "847ffe97-a4b5-422c-95d3-ec8c89a9c6d1"
      },
      "execution_count": 87,
      "outputs": [
        {
          "output_type": "stream",
          "name": "stdout",
          "text": [
            "\u001b[1mdiff --git a/hello.py b/hello.py\u001b[m\n",
            "\u001b[1mindex d826caf..4ed4d24 100644\u001b[m\n",
            "\u001b[1m--- a/hello.py\u001b[m\n",
            "\u001b[1m+++ b/hello.py\u001b[m\n",
            "\u001b[36m@@ -1,3 +1,5 @@\u001b[m\n",
            " print('Hello world')\u001b[m\n",
            " \u001b[m\n",
            " print(\"and goodbye\")\u001b[m\n",
            "\u001b[32m+\u001b[m\n",
            "\u001b[32m+\u001b[m\u001b[32mprint(\"byeeee\")\u001b[m\n"
          ]
        }
      ]
    },
    {
      "cell_type": "code",
      "source": [
        "!git commit -am \"More goodbyes\""
      ],
      "metadata": {
        "colab": {
          "base_uri": "https://localhost:8080/"
        },
        "id": "vm_UAzZwoo3q",
        "outputId": "1c454fc9-5587-46c2-dca6-acad8765e98b"
      },
      "execution_count": 88,
      "outputs": [
        {
          "output_type": "stream",
          "name": "stdout",
          "text": [
            "[detached HEAD 2e28ef7] More goodbyes\n",
            " 1 file changed, 2 insertions(+)\n"
          ]
        }
      ]
    },
    {
      "cell_type": "code",
      "source": [
        "!git log"
      ],
      "metadata": {
        "colab": {
          "base_uri": "https://localhost:8080/"
        },
        "id": "XGA9JknPozS6",
        "outputId": "431f092c-a4a6-466b-ad41-39f3a1469fef"
      },
      "execution_count": 89,
      "outputs": [
        {
          "output_type": "stream",
          "name": "stdout",
          "text": [
            "\u001b[33mcommit 2e28ef71d41aa2c30f2c2e1371543711ea84ec40\u001b[m\u001b[33m (\u001b[m\u001b[1;36mHEAD\u001b[m\u001b[33m)\u001b[m\n",
            "Author: Jan M. Minihack <jan.minihack@mmh.com>\n",
            "Date:   Fri Jan 27 12:01:48 2023 +0000\n",
            "\n",
            "    More goodbyes\n",
            "\n",
            "\u001b[33mcommit 27480b6e5a79659ad7be147ea6c8e432293f7e03\u001b[m\n",
            "Author: Jan M. Minihack <jan.minihack@mmh.com>\n",
            "Date:   Fri Jan 27 11:58:49 2023 +0000\n",
            "\n",
            "    Add farewell\n",
            "\n",
            "\u001b[33mcommit 97c3647d7ef773c45bb01d3a415e76f74fbeef2e\u001b[m\n",
            "Author: Jan M. Minihack <jan.minihack@mmh.com>\n",
            "Date:   Fri Jan 27 11:58:32 2023 +0000\n",
            "\n",
            "    Add hello world\n"
          ]
        }
      ]
    },
    {
      "cell_type": "code",
      "source": [
        "!git switch -"
      ],
      "metadata": {
        "colab": {
          "base_uri": "https://localhost:8080/"
        },
        "id": "eAhxY0Vso2AP",
        "outputId": "38c7b7e2-89a4-46ad-a788-7bed2af6884d"
      },
      "execution_count": 90,
      "outputs": [
        {
          "output_type": "stream",
          "name": "stdout",
          "text": [
            "Warning: you are leaving 1 commit behind, not connected to\n",
            "any of your branches:\n",
            "\n",
            "  2e28ef7 More goodbyes\n",
            "\n",
            "If you want to keep it by creating a new branch, this may be a good time\n",
            "to do so with:\n",
            "\n",
            " git branch <new-branch-name> 2e28ef7\n",
            "\n",
            "Switched to branch 'master'\n"
          ]
        }
      ]
    },
    {
      "cell_type": "code",
      "source": [
        "!git log --oneline"
      ],
      "metadata": {
        "colab": {
          "base_uri": "https://localhost:8080/"
        },
        "id": "qYlvtI41o7zB",
        "outputId": "a85238e1-4343-4e9a-92ef-845659176633"
      },
      "execution_count": 91,
      "outputs": [
        {
          "output_type": "stream",
          "name": "stdout",
          "text": [
            "\u001b[33m3fa28cb\u001b[m\u001b[33m (\u001b[m\u001b[1;36mHEAD -> \u001b[m\u001b[1;32mmaster\u001b[m\u001b[33m)\u001b[m Update greeting\n",
            "\u001b[33m8bc5174\u001b[m\u001b[33m (\u001b[m\u001b[1;32mvioleta/test1\u001b[m\u001b[33m)\u001b[m Try a different more casual greeting\n",
            "\u001b[33m50fbae0\u001b[m\u001b[33m (\u001b[m\u001b[1;32mvioleta/test2\u001b[m\u001b[33m)\u001b[m Try a different greeting\n",
            "\u001b[33m27480b6\u001b[m Add farewell\n",
            "\u001b[33m97c3647\u001b[m Add hello world\n"
          ]
        }
      ]
    },
    {
      "cell_type": "code",
      "source": [
        "!git checkout HEAD~2"
      ],
      "metadata": {
        "colab": {
          "base_uri": "https://localhost:8080/"
        },
        "id": "oL06aNAWpYDt",
        "outputId": "edb2f941-f04e-4803-8c24-b85a7f67c47c"
      },
      "execution_count": 92,
      "outputs": [
        {
          "output_type": "stream",
          "name": "stdout",
          "text": [
            "Note: switching to 'HEAD~2'.\n",
            "\n",
            "You are in 'detached HEAD' state. You can look around, make experimental\n",
            "changes and commit them, and you can discard any commits you make in this\n",
            "state without impacting any branches by switching back to a branch.\n",
            "\n",
            "If you want to create a new branch to retain commits you create, you may\n",
            "do so (now or later) by using -c with the switch command. Example:\n",
            "\n",
            "  git switch -c <new-branch-name>\n",
            "\n",
            "Or undo this operation with:\n",
            "\n",
            "  git switch -\n",
            "\n",
            "Turn off this advice by setting config variable advice.detachedHead to false\n",
            "\n",
            "HEAD is now at 27480b6 Add farewell\n"
          ]
        }
      ]
    },
    {
      "cell_type": "code",
      "source": [
        "!sed -i '$s/$/\\n\\nprint(\"adieu!\")/' hello.py\n",
        "!cat hello.py"
      ],
      "metadata": {
        "colab": {
          "base_uri": "https://localhost:8080/"
        },
        "id": "67YxNNEMpeTp",
        "outputId": "22e5d341-325e-4590-f936-cccf8006be46"
      },
      "execution_count": 93,
      "outputs": [
        {
          "output_type": "stream",
          "name": "stdout",
          "text": [
            "print('Hello world')\n",
            "\n",
            "print(\"and goodbye\")\n",
            "\n",
            "print(\"adieu!\")\n"
          ]
        }
      ]
    },
    {
      "cell_type": "code",
      "source": [
        "!git diff"
      ],
      "metadata": {
        "colab": {
          "base_uri": "https://localhost:8080/"
        },
        "id": "dFUoxqoHpj75",
        "outputId": "9845ab24-a693-4316-a6b7-422df40a0f8f"
      },
      "execution_count": 94,
      "outputs": [
        {
          "output_type": "stream",
          "name": "stdout",
          "text": [
            "\u001b[1mdiff --git a/hello.py b/hello.py\u001b[m\n",
            "\u001b[1mindex d826caf..29443ce 100644\u001b[m\n",
            "\u001b[1m--- a/hello.py\u001b[m\n",
            "\u001b[1m+++ b/hello.py\u001b[m\n",
            "\u001b[36m@@ -1,3 +1,5 @@\u001b[m\n",
            " print('Hello world')\u001b[m\n",
            " \u001b[m\n",
            " print(\"and goodbye\")\u001b[m\n",
            "\u001b[32m+\u001b[m\n",
            "\u001b[32m+\u001b[m\u001b[32mprint(\"adieu!\")\u001b[m\n"
          ]
        }
      ]
    },
    {
      "cell_type": "code",
      "source": [
        "!git commit -am \"More dramatic farewell\""
      ],
      "metadata": {
        "colab": {
          "base_uri": "https://localhost:8080/"
        },
        "id": "sYc1vp1Lpn6G",
        "outputId": "2535104d-9e16-492a-edd7-98cf52b56b56"
      },
      "execution_count": 95,
      "outputs": [
        {
          "output_type": "stream",
          "name": "stdout",
          "text": [
            "[detached HEAD 42f030b] More dramatic farewell\n",
            " 1 file changed, 2 insertions(+)\n"
          ]
        }
      ]
    },
    {
      "cell_type": "code",
      "source": [
        "!git switch -c violeta/test3"
      ],
      "metadata": {
        "colab": {
          "base_uri": "https://localhost:8080/"
        },
        "id": "Cze-p4nEpvFh",
        "outputId": "3f1b1e48-1359-4394-f45a-b2f061d9cfc4"
      },
      "execution_count": 96,
      "outputs": [
        {
          "output_type": "stream",
          "name": "stdout",
          "text": [
            "Switched to a new branch 'violeta/test3'\n"
          ]
        }
      ]
    },
    {
      "cell_type": "code",
      "source": [
        "!git gr"
      ],
      "metadata": {
        "colab": {
          "base_uri": "https://localhost:8080/"
        },
        "id": "5Ra4tDSlpyNR",
        "outputId": "5190d798-85ae-41de-dd6e-e2c953581391"
      },
      "execution_count": 97,
      "outputs": [
        {
          "output_type": "stream",
          "name": "stdout",
          "text": [
            "* \u001b[31m42f030b\t\u001b[32m (HEAD -> violeta/test3)\u001b[0m More dramatic farewell \u001b[33m(Jan M. Minihack)\u001b[0m\n",
            "\u001b[31m|\u001b[m *   \u001b[31m3fa28cb\t\u001b[32m (master)\u001b[0m Update greeting \u001b[33m(Jan M. Minihack)\u001b[0m\n",
            "\u001b[31m|\u001b[m \u001b[32m|\u001b[m\u001b[33m\\\u001b[m  \n",
            "\u001b[31m|\u001b[m \u001b[32m|\u001b[m * \u001b[31m8bc5174\t\u001b[32m (violeta/test1)\u001b[0m Try a different more casual greeting \u001b[33m(Jan M. Minihack)\u001b[0m\n",
            "\u001b[31m|\u001b[m \u001b[32m|\u001b[m\u001b[31m/\u001b[m  \n",
            "\u001b[31m|\u001b[m\u001b[31m/\u001b[m\u001b[32m|\u001b[m   \n",
            "\u001b[31m|\u001b[m * \u001b[31m50fbae0\t\u001b[32m (violeta/test2)\u001b[0m Try a different greeting \u001b[33m(Jan M. Minihack)\u001b[0m\n",
            "\u001b[31m|\u001b[m\u001b[31m/\u001b[m  \n",
            "* \u001b[31m27480b6\t\u001b[32m\u001b[0m Add farewell \u001b[33m(Jan M. Minihack)\u001b[0m\n",
            "* \u001b[31m97c3647\t\u001b[32m\u001b[0m Add hello world \u001b[33m(Jan M. Minihack)\u001b[0m\n"
          ]
        }
      ]
    },
    {
      "cell_type": "code",
      "source": [
        "!sed -i \"1s/^/print('Bonjour...')\\n/\" hello.py\n",
        "!cat hello.py"
      ],
      "metadata": {
        "colab": {
          "base_uri": "https://localhost:8080/"
        },
        "id": "kv3gOuzXp-Rx",
        "outputId": "ad179a8f-6f36-4938-d03f-8771490a1cec"
      },
      "execution_count": 98,
      "outputs": [
        {
          "output_type": "stream",
          "name": "stdout",
          "text": [
            "print('Bonjour...')\n",
            "print('Hello world')\n",
            "\n",
            "print(\"and goodbye\")\n",
            "\n",
            "print(\"adieu!\")\n"
          ]
        }
      ]
    },
    {
      "cell_type": "code",
      "source": [
        "!git status"
      ],
      "metadata": {
        "colab": {
          "base_uri": "https://localhost:8080/"
        },
        "id": "cE_uRcECrENQ",
        "outputId": "7e1779ac-8c86-409e-b2d6-a92f7f77c759"
      },
      "execution_count": 99,
      "outputs": [
        {
          "output_type": "stream",
          "name": "stdout",
          "text": [
            "On branch violeta/test3\n",
            "Changes not staged for commit:\n",
            "  (use \"git add <file>...\" to update what will be committed)\n",
            "  (use \"git restore <file>...\" to discard changes in working directory)\n",
            "\t\u001b[31mmodified:   hello.py\u001b[m\n",
            "\n",
            "no changes added to commit (use \"git add\" and/or \"git commit -a\")\n"
          ]
        }
      ]
    },
    {
      "cell_type": "code",
      "source": [
        "!git switch master"
      ],
      "metadata": {
        "colab": {
          "base_uri": "https://localhost:8080/"
        },
        "id": "nT9GSZk4rFxc",
        "outputId": "6b8cae7f-2940-4bab-a056-801ca9a58257"
      },
      "execution_count": 100,
      "outputs": [
        {
          "output_type": "stream",
          "name": "stdout",
          "text": [
            "error: Your local changes to the following files would be overwritten by checkout:\n",
            "\thello.py\n",
            "Please commit your changes or stash them before you switch branches.\n",
            "Aborting\n"
          ]
        }
      ]
    },
    {
      "cell_type": "code",
      "source": [
        "!git stash"
      ],
      "metadata": {
        "colab": {
          "base_uri": "https://localhost:8080/"
        },
        "id": "zGpxz4ABrIiA",
        "outputId": "ec76a3d1-5cf6-4989-de5d-187fee865396"
      },
      "execution_count": 101,
      "outputs": [
        {
          "output_type": "stream",
          "name": "stdout",
          "text": [
            "Saved working directory and index state WIP on test3: 42f030b More dramatic farewell\n"
          ]
        }
      ]
    },
    {
      "cell_type": "code",
      "source": [
        "!git status"
      ],
      "metadata": {
        "colab": {
          "base_uri": "https://localhost:8080/"
        },
        "id": "hhYIgOeRrKhG",
        "outputId": "26ff846f-0ca2-410a-a5bb-af343b8e0bd8"
      },
      "execution_count": 102,
      "outputs": [
        {
          "output_type": "stream",
          "name": "stdout",
          "text": [
            "On branch violeta/test3\n",
            "nothing to commit, working tree clean\n"
          ]
        }
      ]
    },
    {
      "cell_type": "code",
      "source": [
        "!git switch master"
      ],
      "metadata": {
        "colab": {
          "base_uri": "https://localhost:8080/"
        },
        "id": "O3jV47TQrOWE",
        "outputId": "6da11cc2-12d2-4922-a488-6ec3ab74a2fc"
      },
      "execution_count": 103,
      "outputs": [
        {
          "output_type": "stream",
          "name": "stdout",
          "text": [
            "Switched to branch 'master'\n"
          ]
        }
      ]
    },
    {
      "cell_type": "code",
      "source": [
        "!git switch -"
      ],
      "metadata": {
        "colab": {
          "base_uri": "https://localhost:8080/"
        },
        "id": "9jPtJAbCrcIG",
        "outputId": "70aa0055-02d5-4c19-c0aa-5d7b2fdf5232"
      },
      "execution_count": 104,
      "outputs": [
        {
          "output_type": "stream",
          "name": "stdout",
          "text": [
            "Switched to branch 'violeta/test3'\n"
          ]
        }
      ]
    },
    {
      "cell_type": "code",
      "source": [
        "!git status"
      ],
      "metadata": {
        "colab": {
          "base_uri": "https://localhost:8080/"
        },
        "id": "_jPAUp9lrgqP",
        "outputId": "ada2bfc4-560e-4cf1-f6a1-6890c76199ab"
      },
      "execution_count": 105,
      "outputs": [
        {
          "output_type": "stream",
          "name": "stdout",
          "text": [
            "On branch violeta/test3\n",
            "nothing to commit, working tree clean\n"
          ]
        }
      ]
    },
    {
      "cell_type": "code",
      "source": [
        "!git stash list"
      ],
      "metadata": {
        "colab": {
          "base_uri": "https://localhost:8080/"
        },
        "id": "uoL_-5o6riPu",
        "outputId": "9ff81e5e-d797-469f-f462-77fb2ebf0fb5"
      },
      "execution_count": 106,
      "outputs": [
        {
          "output_type": "stream",
          "name": "stdout",
          "text": [
            "stash@{0}: WIP on test3: 42f030b More dramatic farewell\n"
          ]
        }
      ]
    },
    {
      "cell_type": "code",
      "source": [
        "!git stash pop"
      ],
      "metadata": {
        "colab": {
          "base_uri": "https://localhost:8080/"
        },
        "id": "koDIpA8rrkhR",
        "outputId": "72a5dccb-8621-41db-8d52-5d8c82cdf8ad"
      },
      "execution_count": 107,
      "outputs": [
        {
          "output_type": "stream",
          "name": "stdout",
          "text": [
            "On branch violeta/test3\n",
            "Changes not staged for commit:\n",
            "  (use \"git add <file>...\" to update what will be committed)\n",
            "  (use \"git restore <file>...\" to discard changes in working directory)\n",
            "\t\u001b[31mmodified:   hello.py\u001b[m\n",
            "\n",
            "no changes added to commit (use \"git add\" and/or \"git commit -a\")\n",
            "Dropped refs/stash@{0} (89eeade7f476c9791e7337f57f879f082fa5c933)\n"
          ]
        }
      ]
    },
    {
      "cell_type": "code",
      "source": [
        "!git stash list"
      ],
      "metadata": {
        "id": "50P-0DKZrpdr"
      },
      "execution_count": 108,
      "outputs": []
    },
    {
      "cell_type": "code",
      "source": [
        "!git diff"
      ],
      "metadata": {
        "colab": {
          "base_uri": "https://localhost:8080/"
        },
        "id": "aqd2NAwnrzdp",
        "outputId": "c731e5bd-ea64-4e55-951e-16a845b2bdc6"
      },
      "execution_count": 109,
      "outputs": [
        {
          "output_type": "stream",
          "name": "stdout",
          "text": [
            "\u001b[1mdiff --git a/hello.py b/hello.py\u001b[m\n",
            "\u001b[1mindex 29443ce..78d89e1 100644\u001b[m\n",
            "\u001b[1m--- a/hello.py\u001b[m\n",
            "\u001b[1m+++ b/hello.py\u001b[m\n",
            "\u001b[36m@@ -1,3 +1,4 @@\u001b[m\n",
            "\u001b[32m+\u001b[m\u001b[32mprint('Bonjour...')\u001b[m\n",
            " print('Hello world')\u001b[m\n",
            " \u001b[m\n",
            " print(\"and goodbye\")\u001b[m\n"
          ]
        }
      ]
    },
    {
      "cell_type": "code",
      "source": [
        "!git commit -am \"Add French greeting\""
      ],
      "metadata": {
        "colab": {
          "base_uri": "https://localhost:8080/"
        },
        "id": "vz6hwzGOrru3",
        "outputId": "4b5296cb-14e7-4777-ea04-d6e443db1e1e"
      },
      "execution_count": 110,
      "outputs": [
        {
          "output_type": "stream",
          "name": "stdout",
          "text": [
            "[violeta/test3 6470abc] Add French greeting\n",
            " 1 file changed, 1 insertion(+)\n"
          ]
        }
      ]
    },
    {
      "cell_type": "code",
      "source": [
        "!git log --oneline"
      ],
      "metadata": {
        "colab": {
          "base_uri": "https://localhost:8080/"
        },
        "id": "PusDKo18zHOx",
        "outputId": "ae94cf15-ebc4-4840-d79f-15d1c771dbfc"
      },
      "execution_count": 111,
      "outputs": [
        {
          "output_type": "stream",
          "name": "stdout",
          "text": [
            "\u001b[33m6470abc\u001b[m\u001b[33m (\u001b[m\u001b[1;36mHEAD -> \u001b[m\u001b[1;32mvioleta/test3\u001b[m\u001b[33m)\u001b[m Add French greeting\n",
            "\u001b[33m42f030b\u001b[m More dramatic farewell\n",
            "\u001b[33m27480b6\u001b[m Add farewell\n",
            "\u001b[33m97c3647\u001b[m Add hello world\n"
          ]
        }
      ]
    },
    {
      "cell_type": "code",
      "source": [
        "!git status"
      ],
      "metadata": {
        "colab": {
          "base_uri": "https://localhost:8080/"
        },
        "id": "kz1ZTEPLzmR0",
        "outputId": "f1319316-c1bd-4fd6-c864-d62754dfa87b"
      },
      "execution_count": 112,
      "outputs": [
        {
          "output_type": "stream",
          "name": "stdout",
          "text": [
            "On branch violeta/test3\n",
            "nothing to commit, working tree clean\n"
          ]
        }
      ]
    },
    {
      "cell_type": "code",
      "source": [
        "!sed -i '$s/$/\\n\\nprint(\"The End\")/' hello.py\n",
        "!cat hello.py"
      ],
      "metadata": {
        "colab": {
          "base_uri": "https://localhost:8080/"
        },
        "id": "SdGMgo5U0fl5",
        "outputId": "d20c949d-afc5-416b-8db7-84050e4894b3"
      },
      "execution_count": 113,
      "outputs": [
        {
          "output_type": "stream",
          "name": "stdout",
          "text": [
            "print('Bonjour...')\n",
            "print('Hello world')\n",
            "\n",
            "print(\"and goodbye\")\n",
            "\n",
            "print(\"adieu!\")\n",
            "\n",
            "print(\"The End\")\n"
          ]
        }
      ]
    },
    {
      "cell_type": "code",
      "source": [
        "!git status"
      ],
      "metadata": {
        "colab": {
          "base_uri": "https://localhost:8080/"
        },
        "id": "1PsfGnmg0hmx",
        "outputId": "0603b57a-17ae-4277-cc59-f018951acdb8"
      },
      "execution_count": 114,
      "outputs": [
        {
          "output_type": "stream",
          "name": "stdout",
          "text": [
            "On branch violeta/test3\n",
            "Changes not staged for commit:\n",
            "  (use \"git add <file>...\" to update what will be committed)\n",
            "  (use \"git restore <file>...\" to discard changes in working directory)\n",
            "\t\u001b[31mmodified:   hello.py\u001b[m\n",
            "\n",
            "no changes added to commit (use \"git add\" and/or \"git commit -a\")\n"
          ]
        }
      ]
    },
    {
      "cell_type": "code",
      "source": [
        "!git diff"
      ],
      "metadata": {
        "colab": {
          "base_uri": "https://localhost:8080/"
        },
        "id": "47KzlqGO0klK",
        "outputId": "de383b8a-f1ca-452b-f78e-8f4b3946a9e4"
      },
      "execution_count": 115,
      "outputs": [
        {
          "output_type": "stream",
          "name": "stdout",
          "text": [
            "\u001b[1mdiff --git a/hello.py b/hello.py\u001b[m\n",
            "\u001b[1mindex 78d89e1..4512206 100644\u001b[m\n",
            "\u001b[1m--- a/hello.py\u001b[m\n",
            "\u001b[1m+++ b/hello.py\u001b[m\n",
            "\u001b[36m@@ -4,3 +4,5 @@\u001b[m \u001b[mprint('Hello world')\u001b[m\n",
            " print(\"and goodbye\")\u001b[m\n",
            " \u001b[m\n",
            " print(\"adieu!\")\u001b[m\n",
            "\u001b[32m+\u001b[m\n",
            "\u001b[32m+\u001b[m\u001b[32mprint(\"The End\")\u001b[m\n"
          ]
        }
      ]
    },
    {
      "cell_type": "code",
      "source": [
        "!git reset --soft HEAD~1"
      ],
      "metadata": {
        "id": "p39M-d5kzXgu"
      },
      "execution_count": 116,
      "outputs": []
    },
    {
      "cell_type": "code",
      "source": [
        "!git log --oneline"
      ],
      "metadata": {
        "colab": {
          "base_uri": "https://localhost:8080/"
        },
        "id": "RugxTaC4zhKj",
        "outputId": "bd401c1a-1d36-4ebd-f585-f15a27a571d2"
      },
      "execution_count": 117,
      "outputs": [
        {
          "output_type": "stream",
          "name": "stdout",
          "text": [
            "\u001b[33m42f030b\u001b[m\u001b[33m (\u001b[m\u001b[1;36mHEAD -> \u001b[m\u001b[1;32mvioleta/test3\u001b[m\u001b[33m)\u001b[m More dramatic farewell\n",
            "\u001b[33m27480b6\u001b[m Add farewell\n",
            "\u001b[33m97c3647\u001b[m Add hello world\n"
          ]
        }
      ]
    },
    {
      "cell_type": "code",
      "source": [
        "!git status"
      ],
      "metadata": {
        "colab": {
          "base_uri": "https://localhost:8080/"
        },
        "id": "gQdLfSNizjSc",
        "outputId": "1f2220f8-e73d-4332-c2f2-c875dc8e5e49"
      },
      "execution_count": 118,
      "outputs": [
        {
          "output_type": "stream",
          "name": "stdout",
          "text": [
            "On branch violeta/test3\n",
            "Changes to be committed:\n",
            "  (use \"git restore --staged <file>...\" to unstage)\n",
            "\t\u001b[32mmodified:   hello.py\u001b[m\n",
            "\n",
            "Changes not staged for commit:\n",
            "  (use \"git add <file>...\" to update what will be committed)\n",
            "  (use \"git restore <file>...\" to discard changes in working directory)\n",
            "\t\u001b[31mmodified:   hello.py\u001b[m\n",
            "\n"
          ]
        }
      ]
    },
    {
      "cell_type": "code",
      "source": [
        "!git diff --staged"
      ],
      "metadata": {
        "colab": {
          "base_uri": "https://localhost:8080/"
        },
        "id": "QGEk1BTqzrgD",
        "outputId": "0e8d4a94-0836-4512-a87a-8c1f7f5c0212"
      },
      "execution_count": 119,
      "outputs": [
        {
          "output_type": "stream",
          "name": "stdout",
          "text": [
            "\u001b[1mdiff --git a/hello.py b/hello.py\u001b[m\n",
            "\u001b[1mindex 29443ce..78d89e1 100644\u001b[m\n",
            "\u001b[1m--- a/hello.py\u001b[m\n",
            "\u001b[1m+++ b/hello.py\u001b[m\n",
            "\u001b[36m@@ -1,3 +1,4 @@\u001b[m\n",
            "\u001b[32m+\u001b[m\u001b[32mprint('Bonjour...')\u001b[m\n",
            " print('Hello world')\u001b[m\n",
            " \u001b[m\n",
            " print(\"and goodbye\")\u001b[m\n"
          ]
        }
      ]
    },
    {
      "cell_type": "code",
      "source": [
        "!git diff"
      ],
      "metadata": {
        "colab": {
          "base_uri": "https://localhost:8080/"
        },
        "id": "Rs74yP0_0r7a",
        "outputId": "3c39eacd-506a-4f15-a326-e3d016ba2634"
      },
      "execution_count": 120,
      "outputs": [
        {
          "output_type": "stream",
          "name": "stdout",
          "text": [
            "\u001b[1mdiff --git a/hello.py b/hello.py\u001b[m\n",
            "\u001b[1mindex 78d89e1..4512206 100644\u001b[m\n",
            "\u001b[1m--- a/hello.py\u001b[m\n",
            "\u001b[1m+++ b/hello.py\u001b[m\n",
            "\u001b[36m@@ -4,3 +4,5 @@\u001b[m \u001b[mprint('Hello world')\u001b[m\n",
            " print(\"and goodbye\")\u001b[m\n",
            " \u001b[m\n",
            " print(\"adieu!\")\u001b[m\n",
            "\u001b[32m+\u001b[m\n",
            "\u001b[32m+\u001b[m\u001b[32mprint(\"The End\")\u001b[m\n"
          ]
        }
      ]
    },
    {
      "cell_type": "code",
      "source": [
        "!git commit -m \"Add French greeting\""
      ],
      "metadata": {
        "colab": {
          "base_uri": "https://localhost:8080/"
        },
        "id": "_RWHWFxyzuMg",
        "outputId": "5abd2abc-1681-42ae-fcc3-8e06644303fa"
      },
      "execution_count": 121,
      "outputs": [
        {
          "output_type": "stream",
          "name": "stdout",
          "text": [
            "[violeta/test3 0b44789] Add French greeting\n",
            " 1 file changed, 1 insertion(+)\n"
          ]
        }
      ]
    },
    {
      "cell_type": "code",
      "source": [
        "!git log --oneline"
      ],
      "metadata": {
        "colab": {
          "base_uri": "https://localhost:8080/"
        },
        "id": "z7HizhyZz2gC",
        "outputId": "63e6a99a-c860-481d-ec51-a8ac04e332da"
      },
      "execution_count": 122,
      "outputs": [
        {
          "output_type": "stream",
          "name": "stdout",
          "text": [
            "\u001b[33m0b44789\u001b[m\u001b[33m (\u001b[m\u001b[1;36mHEAD -> \u001b[m\u001b[1;32mvioleta/test3\u001b[m\u001b[33m)\u001b[m Add French greeting\n",
            "\u001b[33m42f030b\u001b[m More dramatic farewell\n",
            "\u001b[33m27480b6\u001b[m Add farewell\n",
            "\u001b[33m97c3647\u001b[m Add hello world\n"
          ]
        }
      ]
    },
    {
      "cell_type": "code",
      "source": [
        "!git status"
      ],
      "metadata": {
        "colab": {
          "base_uri": "https://localhost:8080/"
        },
        "id": "enxqNbhG0Jon",
        "outputId": "8d82d41c-1756-4453-dec9-34042d751955"
      },
      "execution_count": 123,
      "outputs": [
        {
          "output_type": "stream",
          "name": "stdout",
          "text": [
            "On branch violeta/test3\n",
            "Changes not staged for commit:\n",
            "  (use \"git add <file>...\" to update what will be committed)\n",
            "  (use \"git restore <file>...\" to discard changes in working directory)\n",
            "\t\u001b[31mmodified:   hello.py\u001b[m\n",
            "\n",
            "no changes added to commit (use \"git add\" and/or \"git commit -a\")\n"
          ]
        }
      ]
    },
    {
      "cell_type": "code",
      "source": [
        "!git diff"
      ],
      "metadata": {
        "colab": {
          "base_uri": "https://localhost:8080/"
        },
        "id": "k4MA1PcK0ywY",
        "outputId": "4342dae2-ce7b-47dc-e4eb-a8b2544d4545"
      },
      "execution_count": 124,
      "outputs": [
        {
          "output_type": "stream",
          "name": "stdout",
          "text": [
            "\u001b[1mdiff --git a/hello.py b/hello.py\u001b[m\n",
            "\u001b[1mindex 78d89e1..4512206 100644\u001b[m\n",
            "\u001b[1m--- a/hello.py\u001b[m\n",
            "\u001b[1m+++ b/hello.py\u001b[m\n",
            "\u001b[36m@@ -4,3 +4,5 @@\u001b[m \u001b[mprint('Hello world')\u001b[m\n",
            " print(\"and goodbye\")\u001b[m\n",
            " \u001b[m\n",
            " print(\"adieu!\")\u001b[m\n",
            "\u001b[32m+\u001b[m\n",
            "\u001b[32m+\u001b[m\u001b[32mprint(\"The End\")\u001b[m\n"
          ]
        }
      ]
    },
    {
      "cell_type": "code",
      "source": [
        "!git reset --mixed HEAD~1"
      ],
      "metadata": {
        "colab": {
          "base_uri": "https://localhost:8080/"
        },
        "id": "UJsO9CVuz4Ts",
        "outputId": "2a2b77af-a142-42cc-8eea-afd01ca6a138"
      },
      "execution_count": 125,
      "outputs": [
        {
          "output_type": "stream",
          "name": "stdout",
          "text": [
            "Unstaged changes after reset:\n",
            "M\thello.py\n"
          ]
        }
      ]
    },
    {
      "cell_type": "code",
      "source": [
        "!git status"
      ],
      "metadata": {
        "colab": {
          "base_uri": "https://localhost:8080/"
        },
        "id": "gQRr38nf0Ltj",
        "outputId": "6a91f824-a3bd-4933-b46d-8a4b63b10194"
      },
      "execution_count": 126,
      "outputs": [
        {
          "output_type": "stream",
          "name": "stdout",
          "text": [
            "On branch violeta/test3\n",
            "Changes not staged for commit:\n",
            "  (use \"git add <file>...\" to update what will be committed)\n",
            "  (use \"git restore <file>...\" to discard changes in working directory)\n",
            "\t\u001b[31mmodified:   hello.py\u001b[m\n",
            "\n",
            "no changes added to commit (use \"git add\" and/or \"git commit -a\")\n"
          ]
        }
      ]
    },
    {
      "cell_type": "code",
      "source": [
        "!git diff"
      ],
      "metadata": {
        "colab": {
          "base_uri": "https://localhost:8080/"
        },
        "id": "EZZhrfI10L1j",
        "outputId": "cb2fa582-3411-4b47-f60a-9905099439a8"
      },
      "execution_count": 127,
      "outputs": [
        {
          "output_type": "stream",
          "name": "stdout",
          "text": [
            "\u001b[1mdiff --git a/hello.py b/hello.py\u001b[m\n",
            "\u001b[1mindex 29443ce..4512206 100644\u001b[m\n",
            "\u001b[1m--- a/hello.py\u001b[m\n",
            "\u001b[1m+++ b/hello.py\u001b[m\n",
            "\u001b[36m@@ -1,5 +1,8 @@\u001b[m\n",
            "\u001b[32m+\u001b[m\u001b[32mprint('Bonjour...')\u001b[m\n",
            " print('Hello world')\u001b[m\n",
            " \u001b[m\n",
            " print(\"and goodbye\")\u001b[m\n",
            " \u001b[m\n",
            " print(\"adieu!\")\u001b[m\n",
            "\u001b[32m+\u001b[m\n",
            "\u001b[32m+\u001b[m\u001b[32mprint(\"The End\")\u001b[m\n"
          ]
        }
      ]
    },
    {
      "cell_type": "markdown",
      "source": [
        "When prompted, first choose `s` (split), then for the first hunk choose `y` (yes) when prompted again, and for the second hunk choose `q` (quit).\n",
        "\n",
        "`q` will tell `git add` that you do not want to stage this hunk or any of the remaining hunks. Right now we only have two hunks (separate changes), but in a normal situation you will have lots of small changes, so if you are interested only in staging one change, you can `y` that change and then `q` instead of saying `n` to all of them."
      ],
      "metadata": {
        "id": "my8hOWlxG7tH"
      }
    },
    {
      "cell_type": "code",
      "source": [
        "!git add -p"
      ],
      "metadata": {
        "colab": {
          "base_uri": "https://localhost:8080/"
        },
        "id": "LuTlIKs405iN",
        "outputId": "69bf7f52-1839-49c5-dc09-48e4af43d552"
      },
      "execution_count": 128,
      "outputs": [
        {
          "output_type": "stream",
          "name": "stdout",
          "text": [
            "\u001b[1mdiff --git a/hello.py b/hello.py\u001b[m\n",
            "\u001b[1mindex 29443ce..4512206 100644\u001b[m\n",
            "\u001b[1m--- a/hello.py\u001b[m\n",
            "\u001b[1m+++ b/hello.py\u001b[m\n",
            "\u001b[36m@@ -1,5 +1,8 @@\u001b[m\n",
            "\u001b[32m+\u001b[m\u001b[32mprint('Bonjour...')\u001b[m\n",
            " print('Hello world')\u001b[m\n",
            " \u001b[m\n",
            " print(\"and goodbye\")\u001b[m\n",
            " \u001b[m\n",
            " print(\"adieu!\")\u001b[m\n",
            "\u001b[32m+\u001b[m\n",
            "\u001b[32m+\u001b[m\u001b[32mprint(\"The End\")\u001b[m\n",
            "\u001b[1;34m(1/1) Stage this hunk [y,n,q,a,d,s,e,?]? \u001b[ms\n",
            "\u001b[1mSplit into 2 hunks.\u001b[m\n",
            "\u001b[36m@@ -1,5 +1,6 @@\u001b[m\n",
            "\u001b[32m+\u001b[m\u001b[32mprint('Bonjour...')\u001b[m\n",
            " print('Hello world')\u001b[m\n",
            " \u001b[m\n",
            " print(\"and goodbye\")\u001b[m\n",
            " \u001b[m\n",
            " print(\"adieu!\")\u001b[m\n",
            "\u001b[1;34m(1/2) Stage this hunk [y,n,q,a,d,j,J,g,/,e,?]? \u001b[my\n",
            "\u001b[36m@@ -1,5 +2,7 @@\u001b[m\n",
            " print('Hello world')\u001b[m\n",
            " \u001b[m\n",
            " print(\"and goodbye\")\u001b[m\n",
            " \u001b[m\n",
            " print(\"adieu!\")\u001b[m\n",
            "\u001b[32m+\u001b[m\n",
            "\u001b[32m+\u001b[m\u001b[32mprint(\"The End\")\u001b[m\n",
            "\u001b[1;34m(2/2) Stage this hunk [y,n,q,a,d,K,g,/,e,?]? \u001b[mq\n",
            "\n"
          ]
        }
      ]
    },
    {
      "cell_type": "code",
      "source": [
        "!git diff --staged"
      ],
      "metadata": {
        "colab": {
          "base_uri": "https://localhost:8080/"
        },
        "id": "TgPP9goF1BPr",
        "outputId": "dd774587-5ce5-41c7-f0ca-de0c18b363f0"
      },
      "execution_count": 129,
      "outputs": [
        {
          "output_type": "stream",
          "name": "stdout",
          "text": [
            "\u001b[1mdiff --git a/hello.py b/hello.py\u001b[m\n",
            "\u001b[1mindex 29443ce..78d89e1 100644\u001b[m\n",
            "\u001b[1m--- a/hello.py\u001b[m\n",
            "\u001b[1m+++ b/hello.py\u001b[m\n",
            "\u001b[36m@@ -1,3 +1,4 @@\u001b[m\n",
            "\u001b[32m+\u001b[m\u001b[32mprint('Bonjour...')\u001b[m\n",
            " print('Hello world')\u001b[m\n",
            " \u001b[m\n",
            " print(\"and goodbye\")\u001b[m\n"
          ]
        }
      ]
    },
    {
      "cell_type": "code",
      "source": [
        "!git commit -m \"Add French greeting\""
      ],
      "metadata": {
        "colab": {
          "base_uri": "https://localhost:8080/"
        },
        "id": "vjzWfLG10Qzz",
        "outputId": "6e711594-95c9-4fc7-f548-7aa91b344de1"
      },
      "execution_count": 130,
      "outputs": [
        {
          "output_type": "stream",
          "name": "stdout",
          "text": [
            "[violeta/test3 9e6daa8] Add French greeting\n",
            " 1 file changed, 1 insertion(+)\n"
          ]
        }
      ]
    },
    {
      "cell_type": "code",
      "source": [
        "!git log --oneline"
      ],
      "metadata": {
        "colab": {
          "base_uri": "https://localhost:8080/"
        },
        "id": "-a2jbY8e0_yx",
        "outputId": "fc17fb42-a2d9-4132-df84-39d6b61dbde8"
      },
      "execution_count": 131,
      "outputs": [
        {
          "output_type": "stream",
          "name": "stdout",
          "text": [
            "\u001b[33m9e6daa8\u001b[m\u001b[33m (\u001b[m\u001b[1;36mHEAD -> \u001b[m\u001b[1;32mvioleta/test3\u001b[m\u001b[33m)\u001b[m Add French greeting\n",
            "\u001b[33m42f030b\u001b[m More dramatic farewell\n",
            "\u001b[33m27480b6\u001b[m Add farewell\n",
            "\u001b[33m97c3647\u001b[m Add hello world\n"
          ]
        }
      ]
    },
    {
      "cell_type": "code",
      "source": [
        "!git status"
      ],
      "metadata": {
        "colab": {
          "base_uri": "https://localhost:8080/"
        },
        "id": "R-Z_m3Kx1IjY",
        "outputId": "febb65b0-da58-4839-fb7f-e6d3c0151274"
      },
      "execution_count": 132,
      "outputs": [
        {
          "output_type": "stream",
          "name": "stdout",
          "text": [
            "On branch violeta/test3\n",
            "Changes not staged for commit:\n",
            "  (use \"git add <file>...\" to update what will be committed)\n",
            "  (use \"git restore <file>...\" to discard changes in working directory)\n",
            "\t\u001b[31mmodified:   hello.py\u001b[m\n",
            "\n",
            "no changes added to commit (use \"git add\" and/or \"git commit -a\")\n"
          ]
        }
      ]
    },
    {
      "cell_type": "code",
      "source": [
        "!git reset --hard HEAD~1"
      ],
      "metadata": {
        "colab": {
          "base_uri": "https://localhost:8080/"
        },
        "id": "1Dph7x7M1Mlc",
        "outputId": "4e541736-dd68-49a1-aa6a-76cdf9f3fa0d"
      },
      "execution_count": 133,
      "outputs": [
        {
          "output_type": "stream",
          "name": "stdout",
          "text": [
            "HEAD is now at 42f030b More dramatic farewell\n"
          ]
        }
      ]
    },
    {
      "cell_type": "code",
      "source": [
        "!git log --oneline"
      ],
      "metadata": {
        "colab": {
          "base_uri": "https://localhost:8080/"
        },
        "id": "UAYqzbLV1U30",
        "outputId": "63618e64-d1d7-4584-ff90-8a96d06b3f1d"
      },
      "execution_count": 134,
      "outputs": [
        {
          "output_type": "stream",
          "name": "stdout",
          "text": [
            "\u001b[33m42f030b\u001b[m\u001b[33m (\u001b[m\u001b[1;36mHEAD -> \u001b[m\u001b[1;32mvioleta/test3\u001b[m\u001b[33m)\u001b[m More dramatic farewell\n",
            "\u001b[33m27480b6\u001b[m Add farewell\n",
            "\u001b[33m97c3647\u001b[m Add hello world\n"
          ]
        }
      ]
    },
    {
      "cell_type": "code",
      "source": [
        "!git status"
      ],
      "metadata": {
        "colab": {
          "base_uri": "https://localhost:8080/"
        },
        "id": "vnGL6MmZ1SjJ",
        "outputId": "0edb80c9-56c1-4389-88cc-679ba23d65fe"
      },
      "execution_count": 135,
      "outputs": [
        {
          "output_type": "stream",
          "name": "stdout",
          "text": [
            "On branch violeta/test3\n",
            "nothing to commit, working tree clean\n"
          ]
        }
      ]
    },
    {
      "cell_type": "code",
      "source": [
        "!cat hello.py"
      ],
      "metadata": {
        "colab": {
          "base_uri": "https://localhost:8080/"
        },
        "id": "7c4gPGzc1XJO",
        "outputId": "46441e66-9b12-48e8-b128-2cd87dccf35a"
      },
      "execution_count": 136,
      "outputs": [
        {
          "output_type": "stream",
          "name": "stdout",
          "text": [
            "print('Hello world')\n",
            "\n",
            "print(\"and goodbye\")\n",
            "\n",
            "print(\"adieu!\")\n"
          ]
        }
      ]
    },
    {
      "cell_type": "markdown",
      "source": [
        "## Demo 5: Linear history with **rebase**"
      ],
      "metadata": {
        "id": "DF-OXA3D7Wkc"
      }
    },
    {
      "cell_type": "code",
      "source": [
        "!git gr"
      ],
      "metadata": {
        "colab": {
          "base_uri": "https://localhost:8080/"
        },
        "id": "UMlycATa7Xwa",
        "outputId": "0089b81b-d353-441f-e696-63cf287464a9"
      },
      "execution_count": 137,
      "outputs": [
        {
          "output_type": "stream",
          "name": "stdout",
          "text": [
            "* \u001b[31m42f030b\t\u001b[32m (HEAD -> violeta/test3)\u001b[0m More dramatic farewell \u001b[33m(Jan M. Minihack)\u001b[0m\n",
            "\u001b[31m|\u001b[m *   \u001b[31m3fa28cb\t\u001b[32m (master)\u001b[0m Update greeting \u001b[33m(Jan M. Minihack)\u001b[0m\n",
            "\u001b[31m|\u001b[m \u001b[32m|\u001b[m\u001b[33m\\\u001b[m  \n",
            "\u001b[31m|\u001b[m \u001b[32m|\u001b[m * \u001b[31m8bc5174\t\u001b[32m (violeta/test1)\u001b[0m Try a different more casual greeting \u001b[33m(Jan M. Minihack)\u001b[0m\n",
            "\u001b[31m|\u001b[m \u001b[32m|\u001b[m\u001b[31m/\u001b[m  \n",
            "\u001b[31m|\u001b[m\u001b[31m/\u001b[m\u001b[32m|\u001b[m   \n",
            "\u001b[31m|\u001b[m * \u001b[31m50fbae0\t\u001b[32m (violeta/test2)\u001b[0m Try a different greeting \u001b[33m(Jan M. Minihack)\u001b[0m\n",
            "\u001b[31m|\u001b[m\u001b[31m/\u001b[m  \n",
            "* \u001b[31m27480b6\t\u001b[32m\u001b[0m Add farewell \u001b[33m(Jan M. Minihack)\u001b[0m\n",
            "* \u001b[31m97c3647\t\u001b[32m\u001b[0m Add hello world \u001b[33m(Jan M. Minihack)\u001b[0m\n"
          ]
        }
      ]
    },
    {
      "cell_type": "code",
      "source": [
        "!git switch master"
      ],
      "metadata": {
        "colab": {
          "base_uri": "https://localhost:8080/"
        },
        "id": "1_mrM7xP7h5Y",
        "outputId": "f10b2f41-e16f-4322-8efe-421bf48f67f3"
      },
      "execution_count": 138,
      "outputs": [
        {
          "output_type": "stream",
          "name": "stdout",
          "text": [
            "Switched to branch 'master'\n"
          ]
        }
      ]
    },
    {
      "cell_type": "code",
      "source": [
        "!cat hello.py"
      ],
      "metadata": {
        "colab": {
          "base_uri": "https://localhost:8080/"
        },
        "id": "sTQ2Tzi_7mVJ",
        "outputId": "7ac98d2d-a2ad-4c1c-d86c-aff03a8c5451"
      },
      "execution_count": 139,
      "outputs": [
        {
          "output_type": "stream",
          "name": "stdout",
          "text": [
            "print('Yoyoyo!!')\n",
            "print('Hello world')\n",
            "\n",
            "print(\"and goodbye\")\n"
          ]
        }
      ]
    },
    {
      "cell_type": "code",
      "source": [
        "!git switch violeta/test3"
      ],
      "metadata": {
        "colab": {
          "base_uri": "https://localhost:8080/"
        },
        "id": "dTvr2zBN7z3s",
        "outputId": "63601dc1-448a-44ad-ba4e-9dd069b3b8a1"
      },
      "execution_count": 140,
      "outputs": [
        {
          "output_type": "stream",
          "name": "stdout",
          "text": [
            "Switched to branch 'violeta/test3'\n"
          ]
        }
      ]
    },
    {
      "cell_type": "code",
      "source": [
        "!git log --oneline"
      ],
      "metadata": {
        "colab": {
          "base_uri": "https://localhost:8080/"
        },
        "id": "7zkmPUUq8Nox",
        "outputId": "9788128b-06b3-4d28-dc98-6e0448f9973b"
      },
      "execution_count": 141,
      "outputs": [
        {
          "output_type": "stream",
          "name": "stdout",
          "text": [
            "\u001b[33m42f030b\u001b[m\u001b[33m (\u001b[m\u001b[1;36mHEAD -> \u001b[m\u001b[1;32mvioleta/test3\u001b[m\u001b[33m)\u001b[m More dramatic farewell\n",
            "\u001b[33m27480b6\u001b[m Add farewell\n",
            "\u001b[33m97c3647\u001b[m Add hello world\n"
          ]
        }
      ]
    },
    {
      "cell_type": "code",
      "source": [
        "!git rebase master"
      ],
      "metadata": {
        "colab": {
          "base_uri": "https://localhost:8080/"
        },
        "id": "eV0pvqEt8Fro",
        "outputId": "f26a7e73-9cf5-4ce7-b8ea-23e789097877"
      },
      "execution_count": 142,
      "outputs": [
        {
          "output_type": "stream",
          "name": "stdout",
          "text": [
            "First, rewinding head to replay your work on top of it...\n",
            "Applying: More dramatic farewell\n",
            "Using index info to reconstruct a base tree...\n",
            "M\thello.py\n",
            "Falling back to patching base and 3-way merge...\n",
            "Auto-merging hello.py\n"
          ]
        }
      ]
    },
    {
      "cell_type": "code",
      "source": [
        "!git log --oneline"
      ],
      "metadata": {
        "colab": {
          "base_uri": "https://localhost:8080/"
        },
        "id": "2bSP72Ly8MVZ",
        "outputId": "767b1762-cd56-4a14-c1b3-af9e2258e1dc"
      },
      "execution_count": 143,
      "outputs": [
        {
          "output_type": "stream",
          "name": "stdout",
          "text": [
            "\u001b[33m4354eb3\u001b[m\u001b[33m (\u001b[m\u001b[1;36mHEAD -> \u001b[m\u001b[1;32mvioleta/test3\u001b[m\u001b[33m)\u001b[m More dramatic farewell\n",
            "\u001b[33m3fa28cb\u001b[m\u001b[33m (\u001b[m\u001b[1;32mmaster\u001b[m\u001b[33m)\u001b[m Update greeting\n",
            "\u001b[33m8bc5174\u001b[m\u001b[33m (\u001b[m\u001b[1;32mvioleta/test1\u001b[m\u001b[33m)\u001b[m Try a different more casual greeting\n",
            "\u001b[33m50fbae0\u001b[m\u001b[33m (\u001b[m\u001b[1;32mvioleta/test2\u001b[m\u001b[33m)\u001b[m Try a different greeting\n",
            "\u001b[33m27480b6\u001b[m Add farewell\n",
            "\u001b[33m97c3647\u001b[m Add hello world\n"
          ]
        }
      ]
    },
    {
      "cell_type": "code",
      "source": [
        "!git gr"
      ],
      "metadata": {
        "colab": {
          "base_uri": "https://localhost:8080/"
        },
        "id": "1rjA4GN88Sg6",
        "outputId": "6fa6783c-2838-4926-c3a7-f75520a66e84"
      },
      "execution_count": 144,
      "outputs": [
        {
          "output_type": "stream",
          "name": "stdout",
          "text": [
            "* \u001b[31m4354eb3\t\u001b[32m (HEAD -> violeta/test3)\u001b[0m More dramatic farewell \u001b[33m(Jan M. Minihack)\u001b[0m\n",
            "*   \u001b[31m3fa28cb\t\u001b[32m (master)\u001b[0m Update greeting \u001b[33m(Jan M. Minihack)\u001b[0m\n",
            "\u001b[32m|\u001b[m\u001b[33m\\\u001b[m  \n",
            "\u001b[32m|\u001b[m * \u001b[31m8bc5174\t\u001b[32m (violeta/test1)\u001b[0m Try a different more casual greeting \u001b[33m(Jan M. Minihack)\u001b[0m\n",
            "* \u001b[33m|\u001b[m \u001b[31m50fbae0\t\u001b[32m (violeta/test2)\u001b[0m Try a different greeting \u001b[33m(Jan M. Minihack)\u001b[0m\n",
            "\u001b[33m|\u001b[m\u001b[33m/\u001b[m  \n",
            "* \u001b[31m27480b6\t\u001b[32m\u001b[0m Add farewell \u001b[33m(Jan M. Minihack)\u001b[0m\n",
            "* \u001b[31m97c3647\t\u001b[32m\u001b[0m Add hello world \u001b[33m(Jan M. Minihack)\u001b[0m\n"
          ]
        }
      ]
    },
    {
      "cell_type": "code",
      "source": [
        "!git switch master"
      ],
      "metadata": {
        "colab": {
          "base_uri": "https://localhost:8080/"
        },
        "id": "a8bmCisx9Nu4",
        "outputId": "14e02c9e-f001-4754-9fe8-efdebc4afb7b"
      },
      "execution_count": 145,
      "outputs": [
        {
          "output_type": "stream",
          "name": "stdout",
          "text": [
            "Switched to branch 'master'\n"
          ]
        }
      ]
    },
    {
      "cell_type": "code",
      "source": [
        "!git merge violeta/test3"
      ],
      "metadata": {
        "colab": {
          "base_uri": "https://localhost:8080/"
        },
        "id": "IX0U2jCu9RTS",
        "outputId": "e63d48be-996e-4c43-deeb-cec36e0b5565"
      },
      "execution_count": 146,
      "outputs": [
        {
          "output_type": "stream",
          "name": "stdout",
          "text": [
            "Updating 3fa28cb..4354eb3\n",
            "Fast-forward\n",
            " hello.py | 2 \u001b[32m++\u001b[m\n",
            " 1 file changed, 2 insertions(+)\n"
          ]
        }
      ]
    },
    {
      "cell_type": "code",
      "source": [
        "!git gr"
      ],
      "metadata": {
        "colab": {
          "base_uri": "https://localhost:8080/"
        },
        "id": "ow3tVpas9Yfb",
        "outputId": "c4641916-2f40-4b16-c831-1f87ea8daac7"
      },
      "execution_count": 147,
      "outputs": [
        {
          "output_type": "stream",
          "name": "stdout",
          "text": [
            "* \u001b[31m4354eb3\t\u001b[32m (HEAD -> master, violeta/test3)\u001b[0m More dramatic farewell \u001b[33m(Jan M. Minihack)\u001b[0m\n",
            "*   \u001b[31m3fa28cb\t\u001b[32m\u001b[0m Update greeting \u001b[33m(Jan M. Minihack)\u001b[0m\n",
            "\u001b[32m|\u001b[m\u001b[33m\\\u001b[m  \n",
            "\u001b[32m|\u001b[m * \u001b[31m8bc5174\t\u001b[32m (violeta/test1)\u001b[0m Try a different more casual greeting \u001b[33m(Jan M. Minihack)\u001b[0m\n",
            "* \u001b[33m|\u001b[m \u001b[31m50fbae0\t\u001b[32m (violeta/test2)\u001b[0m Try a different greeting \u001b[33m(Jan M. Minihack)\u001b[0m\n",
            "\u001b[33m|\u001b[m\u001b[33m/\u001b[m  \n",
            "* \u001b[31m27480b6\t\u001b[32m\u001b[0m Add farewell \u001b[33m(Jan M. Minihack)\u001b[0m\n",
            "* \u001b[31m97c3647\t\u001b[32m\u001b[0m Add hello world \u001b[33m(Jan M. Minihack)\u001b[0m\n"
          ]
        }
      ]
    },
    {
      "cell_type": "code",
      "source": [
        "!git checkout HEAD~3"
      ],
      "metadata": {
        "colab": {
          "base_uri": "https://localhost:8080/"
        },
        "id": "S3pl8Ias8Zu6",
        "outputId": "1e20648d-1b0f-4bce-feec-8bbe59a38277"
      },
      "execution_count": 148,
      "outputs": [
        {
          "output_type": "stream",
          "name": "stdout",
          "text": [
            "Note: switching to 'HEAD~3'.\n",
            "\n",
            "You are in 'detached HEAD' state. You can look around, make experimental\n",
            "changes and commit them, and you can discard any commits you make in this\n",
            "state without impacting any branches by switching back to a branch.\n",
            "\n",
            "If you want to create a new branch to retain commits you create, you may\n",
            "do so (now or later) by using -c with the switch command. Example:\n",
            "\n",
            "  git switch -c <new-branch-name>\n",
            "\n",
            "Or undo this operation with:\n",
            "\n",
            "  git switch -\n",
            "\n",
            "Turn off this advice by setting config variable advice.detachedHead to false\n",
            "\n",
            "HEAD is now at 27480b6 Add farewell\n"
          ]
        }
      ]
    },
    {
      "cell_type": "code",
      "source": [
        "!git switch -c violeta/test4"
      ],
      "metadata": {
        "colab": {
          "base_uri": "https://localhost:8080/"
        },
        "id": "VP8YyjZH8kZf",
        "outputId": "b8f7cf75-451c-434c-a895-7aaa657d95cc"
      },
      "execution_count": 149,
      "outputs": [
        {
          "output_type": "stream",
          "name": "stdout",
          "text": [
            "Switched to a new branch 'violeta/test4'\n"
          ]
        }
      ]
    },
    {
      "cell_type": "code",
      "source": [
        "!sed -i '$s/$/\\n\\nprint(\"hasta la vista, baby\")/' hello.py\n",
        "!cat hello.py"
      ],
      "metadata": {
        "colab": {
          "base_uri": "https://localhost:8080/"
        },
        "id": "GPj9QUpM8om-",
        "outputId": "e42cd6b2-3123-4b78-a6c9-ddd1beb372a1"
      },
      "execution_count": 150,
      "outputs": [
        {
          "output_type": "stream",
          "name": "stdout",
          "text": [
            "print('Hello world')\n",
            "\n",
            "print(\"and goodbye\")\n",
            "\n",
            "print(\"hasta la vista, baby\")\n"
          ]
        }
      ]
    },
    {
      "cell_type": "code",
      "source": [
        "!git diff"
      ],
      "metadata": {
        "colab": {
          "base_uri": "https://localhost:8080/"
        },
        "id": "QO9ICajB83OF",
        "outputId": "2bf9308e-021c-4d98-c4f1-8248fe1a13c1"
      },
      "execution_count": 151,
      "outputs": [
        {
          "output_type": "stream",
          "name": "stdout",
          "text": [
            "\u001b[1mdiff --git a/hello.py b/hello.py\u001b[m\n",
            "\u001b[1mindex d826caf..b9c275e 100644\u001b[m\n",
            "\u001b[1m--- a/hello.py\u001b[m\n",
            "\u001b[1m+++ b/hello.py\u001b[m\n",
            "\u001b[36m@@ -1,3 +1,5 @@\u001b[m\n",
            " print('Hello world')\u001b[m\n",
            " \u001b[m\n",
            " print(\"and goodbye\")\u001b[m\n",
            "\u001b[32m+\u001b[m\n",
            "\u001b[32m+\u001b[m\u001b[32mprint(\"hasta la vista, baby\")\u001b[m\n"
          ]
        }
      ]
    },
    {
      "cell_type": "code",
      "source": [
        "!git add hello.py\n",
        "!git commit -m \"Add Terminator farewell\""
      ],
      "metadata": {
        "colab": {
          "base_uri": "https://localhost:8080/"
        },
        "id": "uJYuo3mo85NH",
        "outputId": "a6fdf848-5e66-4541-ad79-a50533c50278"
      },
      "execution_count": 152,
      "outputs": [
        {
          "output_type": "stream",
          "name": "stdout",
          "text": [
            "[violeta/test4 730f189] Add Terminator farewell\n",
            " 1 file changed, 2 insertions(+)\n"
          ]
        }
      ]
    },
    {
      "cell_type": "code",
      "source": [
        "!git log --oneline"
      ],
      "metadata": {
        "colab": {
          "base_uri": "https://localhost:8080/"
        },
        "id": "gV1gHE5X9BG2",
        "outputId": "6f2dfb1f-cda2-4bb3-c8aa-5a5c3c91680e"
      },
      "execution_count": 153,
      "outputs": [
        {
          "output_type": "stream",
          "name": "stdout",
          "text": [
            "\u001b[33m730f189\u001b[m\u001b[33m (\u001b[m\u001b[1;36mHEAD -> \u001b[m\u001b[1;32mvioleta/test4\u001b[m\u001b[33m)\u001b[m Add Terminator farewell\n",
            "\u001b[33m27480b6\u001b[m Add farewell\n",
            "\u001b[33m97c3647\u001b[m Add hello world\n"
          ]
        }
      ]
    },
    {
      "cell_type": "code",
      "source": [
        "!git gr"
      ],
      "metadata": {
        "colab": {
          "base_uri": "https://localhost:8080/"
        },
        "id": "FytnsnDu9E50",
        "outputId": "b51b4d9e-f753-4fee-8990-f88b415a7c21"
      },
      "execution_count": 154,
      "outputs": [
        {
          "output_type": "stream",
          "name": "stdout",
          "text": [
            "* \u001b[31m730f189\t\u001b[32m (HEAD -> violeta/test4)\u001b[0m Add Terminator farewell \u001b[33m(Jan M. Minihack)\u001b[0m\n",
            "\u001b[31m|\u001b[m * \u001b[31m4354eb3\t\u001b[32m (violeta/test3, master)\u001b[0m More dramatic farewell \u001b[33m(Jan M. Minihack)\u001b[0m\n",
            "\u001b[31m|\u001b[m *   \u001b[31m3fa28cb\t\u001b[32m\u001b[0m Update greeting \u001b[33m(Jan M. Minihack)\u001b[0m\n",
            "\u001b[31m|\u001b[m \u001b[33m|\u001b[m\u001b[34m\\\u001b[m  \n",
            "\u001b[31m|\u001b[m \u001b[33m|\u001b[m * \u001b[31m8bc5174\t\u001b[32m (violeta/test1)\u001b[0m Try a different more casual greeting \u001b[33m(Jan M. Minihack)\u001b[0m\n",
            "\u001b[31m|\u001b[m \u001b[33m|\u001b[m\u001b[31m/\u001b[m  \n",
            "\u001b[31m|\u001b[m\u001b[31m/\u001b[m\u001b[33m|\u001b[m   \n",
            "\u001b[31m|\u001b[m * \u001b[31m50fbae0\t\u001b[32m (violeta/test2)\u001b[0m Try a different greeting \u001b[33m(Jan M. Minihack)\u001b[0m\n",
            "\u001b[31m|\u001b[m\u001b[31m/\u001b[m  \n",
            "* \u001b[31m27480b6\t\u001b[32m\u001b[0m Add farewell \u001b[33m(Jan M. Minihack)\u001b[0m\n",
            "* \u001b[31m97c3647\t\u001b[32m\u001b[0m Add hello world \u001b[33m(Jan M. Minihack)\u001b[0m\n"
          ]
        }
      ]
    },
    {
      "cell_type": "code",
      "source": [
        "!git rebase master"
      ],
      "metadata": {
        "colab": {
          "base_uri": "https://localhost:8080/"
        },
        "id": "_-bp2Kq19cJO",
        "outputId": "29fd232c-5f37-4b6e-f97b-8da8d542b562"
      },
      "execution_count": 155,
      "outputs": [
        {
          "output_type": "stream",
          "name": "stdout",
          "text": [
            "First, rewinding head to replay your work on top of it...\n",
            "Applying: Add Terminator farewell\n",
            "Using index info to reconstruct a base tree...\n",
            "M\thello.py\n",
            "Falling back to patching base and 3-way merge...\n",
            "Auto-merging hello.py\n",
            "CONFLICT (content): Merge conflict in hello.py\n",
            "error: Failed to merge in the changes.\n",
            "Patch failed at 0001 Add Terminator farewell\n",
            "\u001b[33mhint: Use 'git am --show-current-patch' to see the failed patch\u001b[m\n",
            "Resolve all conflicts manually, mark them as resolved with\n",
            "\"git add/rm <conflicted_files>\", then run \"git rebase --continue\".\n",
            "You can instead skip this commit: run \"git rebase --skip\".\n",
            "To abort and get back to the state before \"git rebase\", run \"git rebase --abort\".\n"
          ]
        }
      ]
    },
    {
      "cell_type": "code",
      "source": [
        "!git am --show-current-patch"
      ],
      "metadata": {
        "colab": {
          "base_uri": "https://localhost:8080/"
        },
        "id": "gUDUY8tC9uDs",
        "outputId": "9487e478-f762-46ec-a7db-35e67ff110f5"
      },
      "execution_count": 156,
      "outputs": [
        {
          "output_type": "stream",
          "name": "stdout",
          "text": [
            "\u001b[33mcommit 730f18991529353dfedbfd104e20ee9cd86953a2\u001b[m\u001b[33m (\u001b[m\u001b[1;32mvioleta/test4\u001b[m\u001b[33m)\u001b[m\n",
            "Author: Jan M. Minihack <jan.minihack@mmh.com>\n",
            "Date:   Fri Jan 27 12:05:25 2023 +0000\n",
            "\n",
            "    Add Terminator farewell\n",
            "\n",
            "\u001b[1mdiff --git a/hello.py b/hello.py\u001b[m\n",
            "\u001b[1mindex d826caf..b9c275e 100644\u001b[m\n",
            "\u001b[1m--- a/hello.py\u001b[m\n",
            "\u001b[1m+++ b/hello.py\u001b[m\n",
            "\u001b[36m@@ -1,3 +1,5 @@\u001b[m\n",
            " print('Hello world')\u001b[m\n",
            " \u001b[m\n",
            " print(\"and goodbye\")\u001b[m\n",
            "\u001b[32m+\u001b[m\n",
            "\u001b[32m+\u001b[m\u001b[32mprint(\"hasta la vista, baby\")\u001b[m\n"
          ]
        }
      ]
    },
    {
      "cell_type": "code",
      "source": [
        "!git status"
      ],
      "metadata": {
        "colab": {
          "base_uri": "https://localhost:8080/"
        },
        "id": "4yxEt7by9yNT",
        "outputId": "901f6702-6dc0-4b73-db3e-849dfdde940a"
      },
      "execution_count": 157,
      "outputs": [
        {
          "output_type": "stream",
          "name": "stdout",
          "text": [
            "\u001b[31mrebase in progress; onto \u001b[m4354eb3\n",
            "You are currently rebasing branch 'violeta/test4' on '4354eb3'.\n",
            "  (fix conflicts and then run \"git rebase --continue\")\n",
            "  (use \"git rebase --skip\" to skip this patch)\n",
            "  (use \"git rebase --abort\" to check out the original branch)\n",
            "\n",
            "Unmerged paths:\n",
            "  (use \"git restore --staged <file>...\" to unstage)\n",
            "  (use \"git add <file>...\" to mark resolution)\n",
            "\t\u001b[31mboth modified:   hello.py\u001b[m\n",
            "\n",
            "no changes added to commit (use \"git add\" and/or \"git commit -a\")\n"
          ]
        }
      ]
    },
    {
      "cell_type": "code",
      "source": [
        "!git diff"
      ],
      "metadata": {
        "colab": {
          "base_uri": "https://localhost:8080/"
        },
        "id": "Y6VgDOU893yT",
        "outputId": "7ec5d9ed-190c-4902-9f96-c731cb891a3b"
      },
      "execution_count": 158,
      "outputs": [
        {
          "output_type": "stream",
          "name": "stdout",
          "text": [
            "\u001b[1mdiff --cc hello.py\u001b[m\n",
            "\u001b[1mindex 31a5069,b9c275e..0000000\u001b[m\n",
            "\u001b[1m--- a/hello.py\u001b[m\n",
            "\u001b[1m+++ b/hello.py\u001b[m\n",
            "\u001b[36m@@@ -3,4 -2,4 +3,8 @@@\u001b[m \u001b[mprint('Hello world'\u001b[m\n",
            "  \u001b[m\n",
            "  print(\"and goodbye\")\u001b[m\n",
            "  \u001b[m\n",
            "\u001b[32m++<<<<<<< HEAD\u001b[m\n",
            "\u001b[32m +print(\"adieu!\")\u001b[m\n",
            "\u001b[32m++=======\u001b[m\n",
            "\u001b[32m+ print(\"hasta la vista, baby\")\u001b[m\n",
            "\u001b[32m++>>>>>>> Add Terminator farewell\u001b[m\n"
          ]
        }
      ]
    },
    {
      "cell_type": "code",
      "source": [
        "!echo -e \"print('Yoyoyo!!')\\nprint('Hello world')\\n\\nprint(\\\"and goodbye\\\")\\n\\nprint(\\\"adieu!\\\")\\nprint(\\\"hasta la vista, baby\\\")\" > hello.py\n",
        "!cat hello.py"
      ],
      "metadata": {
        "colab": {
          "base_uri": "https://localhost:8080/"
        },
        "id": "iCM9K-5Q97JT",
        "outputId": "27e94a85-3dfa-4368-af25-785350e7455a"
      },
      "execution_count": 159,
      "outputs": [
        {
          "output_type": "stream",
          "name": "stdout",
          "text": [
            "print('Yoyoyo!!')\n",
            "print('Hello world')\n",
            "\n",
            "print(\"and goodbye\")\n",
            "\n",
            "print(\"adieu!\")\n",
            "print(\"hasta la vista, baby\")\n"
          ]
        }
      ]
    },
    {
      "cell_type": "code",
      "source": [
        "!git diff"
      ],
      "metadata": {
        "colab": {
          "base_uri": "https://localhost:8080/"
        },
        "id": "g9pLF31b-WNV",
        "outputId": "49995542-9ff5-4ae4-dc19-a44fc569c149"
      },
      "execution_count": 160,
      "outputs": [
        {
          "output_type": "stream",
          "name": "stdout",
          "text": [
            "\u001b[1mdiff --cc hello.py\u001b[m\n",
            "\u001b[1mindex 31a5069,b9c275e..0000000\u001b[m\n",
            "\u001b[1m--- a/hello.py\u001b[m\n",
            "\u001b[1m+++ b/hello.py\u001b[m\n",
            "\u001b[36m@@@ -3,4 -2,4 +3,5 @@@\u001b[m \u001b[mprint('Hello world'\u001b[m\n",
            "  \u001b[m\n",
            "  print(\"and goodbye\")\u001b[m\n",
            "  \u001b[m\n",
            "\u001b[32m +print(\"adieu!\")\u001b[m\n",
            "\u001b[32m+ print(\"hasta la vista, baby\")\u001b[m\n"
          ]
        }
      ]
    },
    {
      "cell_type": "code",
      "source": [
        "!git add hello.py\n",
        "!git status"
      ],
      "metadata": {
        "colab": {
          "base_uri": "https://localhost:8080/"
        },
        "id": "sFWrmQjB-bfA",
        "outputId": "57786fb2-a788-4374-b2ca-7695b39eb5f1"
      },
      "execution_count": 161,
      "outputs": [
        {
          "output_type": "stream",
          "name": "stdout",
          "text": [
            "\u001b[31mrebase in progress; onto \u001b[m4354eb3\n",
            "You are currently rebasing branch 'violeta/test4' on '4354eb3'.\n",
            "  (all conflicts fixed: run \"git rebase --continue\")\n",
            "\n",
            "Changes to be committed:\n",
            "  (use \"git restore --staged <file>...\" to unstage)\n",
            "\t\u001b[32mmodified:   hello.py\u001b[m\n",
            "\n"
          ]
        }
      ]
    },
    {
      "cell_type": "code",
      "source": [
        "!git rebase --continue"
      ],
      "metadata": {
        "colab": {
          "base_uri": "https://localhost:8080/"
        },
        "id": "WiG2FTnC-oiY",
        "outputId": "6e29f83b-225f-4990-c70f-248d0aa6b0a1"
      },
      "execution_count": 162,
      "outputs": [
        {
          "output_type": "stream",
          "name": "stdout",
          "text": [
            "Applying: Add Terminator farewell\n"
          ]
        }
      ]
    },
    {
      "cell_type": "code",
      "source": [
        "!git log -p"
      ],
      "metadata": {
        "colab": {
          "base_uri": "https://localhost:8080/"
        },
        "id": "6V53PSwn-v0H",
        "outputId": "e4616af2-499e-408e-a0ef-4ec892b7eb7a"
      },
      "execution_count": 163,
      "outputs": [
        {
          "output_type": "stream",
          "name": "stdout",
          "text": [
            "\u001b[33mcommit d8c663c91e10ac1f459f97da2d49a6a08b4b990a\u001b[m\u001b[33m (\u001b[m\u001b[1;36mHEAD -> \u001b[m\u001b[1;32mvioleta/test4\u001b[m\u001b[33m)\u001b[m\n",
            "Author: Jan M. Minihack <jan.minihack@mmh.com>\n",
            "Date:   Fri Jan 27 12:05:25 2023 +0000\n",
            "\n",
            "    Add Terminator farewell\n",
            "\n",
            "\u001b[1mdiff --git a/hello.py b/hello.py\u001b[m\n",
            "\u001b[1mindex 31a5069..10f3469 100644\u001b[m\n",
            "\u001b[1m--- a/hello.py\u001b[m\n",
            "\u001b[1m+++ b/hello.py\u001b[m\n",
            "\u001b[36m@@ -4,3 +4,4 @@\u001b[m \u001b[mprint('Hello world')\u001b[m\n",
            " print(\"and goodbye\")\u001b[m\n",
            " \u001b[m\n",
            " print(\"adieu!\")\u001b[m\n",
            "\u001b[32m+\u001b[m\u001b[32mprint(\"hasta la vista, baby\")\u001b[m\n",
            "\n",
            "\u001b[33mcommit 4354eb3c5e2aea07e49161a944b386a0f26c023a\u001b[m\u001b[33m (\u001b[m\u001b[1;32mvioleta/test3\u001b[m\u001b[33m, \u001b[m\u001b[1;32mmaster\u001b[m\u001b[33m)\u001b[m\n",
            "Author: Jan M. Minihack <jan.minihack@mmh.com>\n",
            "Date:   Fri Jan 27 12:01:49 2023 +0000\n",
            "\n",
            "    More dramatic farewell\n",
            "\n",
            "\u001b[1mdiff --git a/hello.py b/hello.py\u001b[m\n",
            "\u001b[1mindex 51e9ef2..31a5069 100644\u001b[m\n",
            "\u001b[1m--- a/hello.py\u001b[m\n",
            "\u001b[1m+++ b/hello.py\u001b[m\n",
            "\u001b[36m@@ -2,3 +2,5 @@\u001b[m \u001b[mprint('Yoyoyo!!')\u001b[m\n",
            " print('Hello world')\u001b[m\n",
            " \u001b[m\n",
            " print(\"and goodbye\")\u001b[m\n",
            "\u001b[32m+\u001b[m\n",
            "\u001b[32m+\u001b[m\u001b[32mprint(\"adieu!\")\u001b[m\n",
            "\n",
            "\u001b[33mcommit 3fa28cbf2e58d42fb041fec3ddfd3862adee87a8\u001b[m\n",
            "Merge: 50fbae0 8bc5174\n",
            "Author: Jan M. Minihack <jan.minihack@mmh.com>\n",
            "Date:   Fri Jan 27 12:01:47 2023 +0000\n",
            "\n",
            "    Update greeting\n",
            "\n",
            "\u001b[33mcommit 8bc517464961ad30a7a5660339b5681d955c5c76\u001b[m\u001b[33m (\u001b[m\u001b[1;32mvioleta/test1\u001b[m\u001b[33m)\u001b[m\n",
            "Author: Jan M. Minihack <jan.minihack@mmh.com>\n",
            "Date:   Fri Jan 27 12:01:45 2023 +0000\n",
            "\n",
            "    Try a different more casual greeting\n",
            "\n",
            "\u001b[1mdiff --git a/hello.py b/hello.py\u001b[m\n",
            "\u001b[1mindex d826caf..51e9ef2 100644\u001b[m\n",
            "\u001b[1m--- a/hello.py\u001b[m\n",
            "\u001b[1m+++ b/hello.py\u001b[m\n",
            "\u001b[36m@@ -1,3 +1,4 @@\u001b[m\n",
            "\u001b[32m+\u001b[m\u001b[32mprint('Yoyoyo!!')\u001b[m\n",
            " print('Hello world')\u001b[m\n",
            " \u001b[m\n",
            " print(\"and goodbye\")\u001b[m\n",
            "\n",
            "\u001b[33mcommit 50fbae0f5d9b3567c9a79538d8836e4ccf741959\u001b[m\u001b[33m (\u001b[m\u001b[1;32mvioleta/test2\u001b[m\u001b[33m)\u001b[m\n",
            "Author: Jan M. Minihack <jan.minihack@mmh.com>\n",
            "Date:   Fri Jan 27 12:01:44 2023 +0000\n",
            "\n",
            "    Try a different greeting\n",
            "\n",
            "\u001b[1mdiff --git a/hello.py b/hello.py\u001b[m\n",
            "\u001b[1mindex d826caf..daaca5d 100644\u001b[m\n",
            "\u001b[1m--- a/hello.py\u001b[m\n",
            "\u001b[1m+++ b/hello.py\u001b[m\n",
            "\u001b[36m@@ -1,3 +1,4 @@\u001b[m\n",
            "\u001b[32m+\u001b[m\u001b[32mprint('Hey!!')\u001b[m\n",
            " print('Hello world')\u001b[m\n",
            " \u001b[m\n",
            " print(\"and goodbye\")\u001b[m\n",
            "\n",
            "\u001b[33mcommit 27480b6e5a79659ad7be147ea6c8e432293f7e03\u001b[m\n",
            "Author: Jan M. Minihack <jan.minihack@mmh.com>\n",
            "Date:   Fri Jan 27 11:58:49 2023 +0000\n",
            "\n",
            "    Add farewell\n",
            "\n",
            "\u001b[1mdiff --git a/hello.py b/hello.py\u001b[m\n",
            "\u001b[1mindex f7d1785..d826caf 100644\u001b[m\n",
            "\u001b[1m--- a/hello.py\u001b[m\n",
            "\u001b[1m+++ b/hello.py\u001b[m\n",
            "\u001b[36m@@ -1 +1,3 @@\u001b[m\n",
            " print('Hello world')\u001b[m\n",
            "\u001b[32m+\u001b[m\n",
            "\u001b[32m+\u001b[m\u001b[32mprint(\"and goodbye\")\u001b[m\n",
            "\n",
            "\u001b[33mcommit 97c3647d7ef773c45bb01d3a415e76f74fbeef2e\u001b[m\n",
            "Author: Jan M. Minihack <jan.minihack@mmh.com>\n",
            "Date:   Fri Jan 27 11:58:32 2023 +0000\n",
            "\n",
            "    Add hello world\n",
            "\n",
            "\u001b[1mdiff --git a/hello.py b/hello.py\u001b[m\n",
            "\u001b[1mnew file mode 100644\u001b[m\n",
            "\u001b[1mindex 0000000..f7d1785\u001b[m\n",
            "\u001b[1m--- /dev/null\u001b[m\n",
            "\u001b[1m+++ b/hello.py\u001b[m\n",
            "\u001b[36m@@ -0,0 +1 @@\u001b[m\n",
            "\u001b[32m+\u001b[m\u001b[32mprint('Hello world')\u001b[m\n"
          ]
        }
      ]
    },
    {
      "cell_type": "code",
      "source": [
        "!git gr"
      ],
      "metadata": {
        "colab": {
          "base_uri": "https://localhost:8080/"
        },
        "id": "pP05-3IQ-0hB",
        "outputId": "b941f144-0ac5-4eea-da54-14187b14a911"
      },
      "execution_count": 164,
      "outputs": [
        {
          "output_type": "stream",
          "name": "stdout",
          "text": [
            "* \u001b[31md8c663c\t\u001b[32m (HEAD -> violeta/test4)\u001b[0m Add Terminator farewell \u001b[33m(Jan M. Minihack)\u001b[0m\n",
            "* \u001b[31m4354eb3\t\u001b[32m (violeta/test3, master)\u001b[0m More dramatic farewell \u001b[33m(Jan M. Minihack)\u001b[0m\n",
            "*   \u001b[31m3fa28cb\t\u001b[32m\u001b[0m Update greeting \u001b[33m(Jan M. Minihack)\u001b[0m\n",
            "\u001b[32m|\u001b[m\u001b[33m\\\u001b[m  \n",
            "\u001b[32m|\u001b[m * \u001b[31m8bc5174\t\u001b[32m (violeta/test1)\u001b[0m Try a different more casual greeting \u001b[33m(Jan M. Minihack)\u001b[0m\n",
            "* \u001b[33m|\u001b[m \u001b[31m50fbae0\t\u001b[32m (violeta/test2)\u001b[0m Try a different greeting \u001b[33m(Jan M. Minihack)\u001b[0m\n",
            "\u001b[33m|\u001b[m\u001b[33m/\u001b[m  \n",
            "* \u001b[31m27480b6\t\u001b[32m\u001b[0m Add farewell \u001b[33m(Jan M. Minihack)\u001b[0m\n",
            "* \u001b[31m97c3647\t\u001b[32m\u001b[0m Add hello world \u001b[33m(Jan M. Minihack)\u001b[0m\n"
          ]
        }
      ]
    },
    {
      "cell_type": "code",
      "source": [
        "!git switch master\n",
        "!git merge violeta/test4"
      ],
      "metadata": {
        "colab": {
          "base_uri": "https://localhost:8080/"
        },
        "id": "UBIiJR4FEFzm",
        "outputId": "467e1371-2a3b-4e35-b62a-cfd273f1d9e1"
      },
      "execution_count": 165,
      "outputs": [
        {
          "output_type": "stream",
          "name": "stdout",
          "text": [
            "Switched to branch 'master'\n",
            "Updating 4354eb3..d8c663c\n",
            "Fast-forward\n",
            " hello.py | 1 \u001b[32m+\u001b[m\n",
            " 1 file changed, 1 insertion(+)\n"
          ]
        }
      ]
    },
    {
      "cell_type": "markdown",
      "source": [
        "## Demo 6: Interactive rebase"
      ],
      "metadata": {
        "id": "C9ooEn75AfUq"
      }
    },
    {
      "cell_type": "code",
      "source": [
        "!git log --graph --oneline master"
      ],
      "metadata": {
        "colab": {
          "base_uri": "https://localhost:8080/"
        },
        "id": "LsAyWDOdAlS-",
        "outputId": "70e85f77-6159-4ca9-8de2-2aa15f3cda22"
      },
      "execution_count": 167,
      "outputs": [
        {
          "output_type": "stream",
          "name": "stdout",
          "text": [
            "* \u001b[33md8c663c\u001b[m\u001b[33m (\u001b[m\u001b[1;36mHEAD -> \u001b[m\u001b[1;32mmaster\u001b[m\u001b[33m, \u001b[m\u001b[1;32mvioleta/test4\u001b[m\u001b[33m)\u001b[m Add Terminator farewell\n",
            "* \u001b[33m4354eb3\u001b[m\u001b[33m (\u001b[m\u001b[1;32mvioleta/test3\u001b[m\u001b[33m)\u001b[m More dramatic farewell\n",
            "*   \u001b[33m3fa28cb\u001b[m Update greeting\n",
            "\u001b[32m|\u001b[m\u001b[33m\\\u001b[m  \n",
            "\u001b[32m|\u001b[m * \u001b[33m8bc5174\u001b[m\u001b[33m (\u001b[m\u001b[1;32mvioleta/test1\u001b[m\u001b[33m)\u001b[m Try a different more casual greeting\n",
            "* \u001b[33m|\u001b[m \u001b[33m50fbae0\u001b[m\u001b[33m (\u001b[m\u001b[1;32mvioleta/test2\u001b[m\u001b[33m)\u001b[m Try a different greeting\n",
            "\u001b[33m|\u001b[m\u001b[33m/\u001b[m  \n",
            "* \u001b[33m27480b6\u001b[m Add farewell\n",
            "* \u001b[33m97c3647\u001b[m Add hello world\n"
          ]
        }
      ]
    },
    {
      "cell_type": "markdown",
      "source": [
        "When prompted, click on the flickering cursor and type `:s/pick/reword/`. This will tell the editor to change the first `pick` into a `reword`. On your own workspace you would do that in your normal text editor.\n",
        "\n",
        "After, type `:wq` to save the changes. This will tell rebase that we want to rebase all the commits as normal, but just stop to reword the first commit in the list.\n",
        "\n",
        "Then, the rebase will continue and you will be prompted to change the commit message. You can type `:s/different/new/`, then `:wq` again.\n",
        "\n",
        "**Note:** The specifics of how you edit a file in colab are not important for this demonstration."
      ],
      "metadata": {
        "id": "pCIPb5h-H2LN"
      }
    },
    {
      "cell_type": "code",
      "source": [
        "!git rebase -i HEAD~4"
      ],
      "metadata": {
        "colab": {
          "base_uri": "https://localhost:8080/"
        },
        "id": "CJtpCQOmAprd",
        "outputId": "78df042a-f5c5-4a57-f548-0c7338b83ae9"
      },
      "execution_count": 170,
      "outputs": [
        {
          "output_type": "stream",
          "name": "stdout",
          "text": [
            "hint: Waiting for your editor to close the file... \u001b7\u001b[?47h\u001b[>4;2m\u001b[?1h\u001b=\u001b[?2004h\u001b[1;24r\u001b[?12h\u001b[?12l\u001b[22;2t\u001b[22;1t\u001b[29m\u001b[m\u001b[H\u001b[2J\u001b[?25l\u001b[24;1H<t/git_workshop/.git/rebase-merge/git-rebase-todo\"\r<shop/.git/rebase-merge/git-rebase-todo\" 30L, 1297C\u001b[2;1H▽\u001b[6n\u001b[2;1H  \u001b[1;1H\u001b[>c\u001b]10;?\u0007\u001b]11;?\u0007\u001b[1;1H\u001b[33mpick\u001b[m \u001b[36m50fbae0\u001b[m\u001b[31m Try a different greeting\u001b[m\r\n",
            "\u001b[33mpick\u001b[m \u001b[36m8bc5174\u001b[m\u001b[31m Try a different more casual greeting\u001b[m\r\n",
            "\u001b[33mpick\u001b[m \u001b[36m4354eb3\u001b[m\u001b[31m More dramatic farewell\u001b[m\r\n",
            "\u001b[33mpick\u001b[m \u001b[36md8c663c\u001b[m\u001b[31m Add Terminator farewell\u001b[m\r\n",
            "\r\n",
            "\u001b[34m# Rebase \u001b[m\u001b[36m27480b6\u001b[m\u001b[34m..\u001b[m\u001b[36md8c663c\u001b[m\u001b[34m onto \u001b[m\u001b[36md8c663c\u001b[m\u001b[34m (4 commands)\r\n",
            "#\r\n",
            "# Commands:\r\n",
            "# p, pick <commit> = use commit\r\n",
            "# r, reword <commit> = use commit, but edit the commit message\r\n",
            "# e, edit <commit> = use commit, but stop for amending\r\n",
            "# s, squash <commit> = use commit, but meld into previous commit\r\n",
            "# f, fixup <commit> = like \"squash\", but discard this commit's log message\r\n",
            "# x, exec <command> = run command (the rest of the line) using shell\r\n",
            "# b, break = stop here (continue rebase later with 'git rebase --continue')\r\n",
            "# d, drop <commit> = remove commit\r\n",
            "# l, label <label> = label current HEAD with a name\r\n",
            "# t, reset <label> = reset HEAD to a label\r\n",
            "# m, merge [-C <commit> | -c <commit>] <label> [# <oneline>]\r\n",
            "# .       create a merge commit using the original merge commit's\r\n",
            "# .       message (or the oneline, if no original merge commit was\r\n",
            "# .       specified). Use -c <commit> to reword the commit message.\n",
            "\u001b[23;2t\u001b[23;1t\n",
            "<ontent/git_workshop/.git/COMMIT_EDITMSG\" 18L, 617C\u001b[2;1H▽\u001b[6n\u001b[2;1H  \u001b[1;1H\u001b[>c\u001b]10;?\u0007\u001b]11;?\u0007\u001b[1;1H\u001b[33mTry a different greeting\u001b[m\n",
            "\n",
            "\u001b[34m# Please enter the commit message for your changes. Lines starting\n",
            "# with '#' will be ignored, and an empty message aborts the commit.\n",
            "#\n",
            "# Date:      Fri Jan 27 12:01:44 2023 +0000\n",
            "#\n",
            "# interactive rebase in progress; onto 27480b6\n",
            "# \u001b[m\u001b[35mLast command done (1 command done):\u001b[m\n",
            "\u001b[34m#    reword 50fbae0 Try a different greeting\n",
            "# \u001b[m\u001b[35mNext commands to do (3 remaining commands):\u001b[m\n",
            "\u001b[34m#    pick 8bc5174 Try a different more casual greeting\n",
            "#    pick 4354eb3 More dramatic farewell\n",
            "# You are currently editing a commit while rebasing branch 'master' on '27480b6''\u001b[15;1H.\n",
            "#\n",
            "# \u001b[m\u001b[35mChanges to be committed:\u001b[m\n",
            "\u001b[34m#       \u001b[m\u001b[32mmodified\u001b[m\u001b[34m: \u001b[m\u001b[31m  hello.py\u001b[m\n",
            "\u001b[34m#\u001b[m\n",
            "\u001b[23;2t\u001b[23;1t\n",
            "\u001b[K[detached HEAD 781b038] Try a new greeting\n",
            " Date: Fri Jan 27 12:01:44 2023 +0000\n",
            " 1 file changed, 1 insertion(+)\n",
            "Auto-merging hello.py\n",
            "CONFLICT (content): Merge conflict in hello.py\n",
            "error: could not apply 8bc5174... Try a different more casual greeting\n",
            "Resolve all conflicts manually, mark them as resolved with\n",
            "\"git add/rm <conflicted_files>\", then run \"git rebase --continue\".\n",
            "You can instead skip this commit: run \"git rebase --skip\".\n",
            "To abort and get back to the state before \"git rebase\", run \"git rebase --abort\".\n",
            "Could not apply 8bc5174... Try a different more casual greeting\n"
          ]
        }
      ]
    },
    {
      "cell_type": "code",
      "source": [
        "!git diff"
      ],
      "metadata": {
        "colab": {
          "base_uri": "https://localhost:8080/"
        },
        "id": "x7xnpMt8DFxw",
        "outputId": "c55751db-96b2-4b60-a356-24dc176385ad"
      },
      "execution_count": 171,
      "outputs": [
        {
          "output_type": "stream",
          "name": "stdout",
          "text": [
            "\u001b[1mdiff --cc hello.py\u001b[m\n",
            "\u001b[1mindex daaca5d,51e9ef2..0000000\u001b[m\n",
            "\u001b[1m--- a/hello.py\u001b[m\n",
            "\u001b[1m+++ b/hello.py\u001b[m\n",
            "\u001b[36m@@@ -1,4 -1,4 +1,8 @@@\u001b[m\n",
            "\u001b[32m++<<<<<<< HEAD\u001b[m\n",
            "\u001b[32m +print('Hey!!')\u001b[m\n",
            "\u001b[32m++=======\u001b[m\n",
            "\u001b[32m+ print('Yoyoyo!!')\u001b[m\n",
            "\u001b[32m++>>>>>>> 8bc5174... Try a different more casual greeting\u001b[m\n",
            "  print('Hello world')\u001b[m\n",
            "  \u001b[m\n",
            "  print(\"and goodbye\")\u001b[m\n"
          ]
        }
      ]
    },
    {
      "cell_type": "code",
      "source": [
        "!echo -e \"print('Yoyoyo!!')\\nprint('Hello world')\\n\\nprint(\\\"and goodbye\\\")\" > hello.py"
      ],
      "metadata": {
        "id": "SgpAc2ZBDMws"
      },
      "execution_count": 172,
      "outputs": []
    },
    {
      "cell_type": "code",
      "source": [
        "!git diff"
      ],
      "metadata": {
        "colab": {
          "base_uri": "https://localhost:8080/"
        },
        "id": "tCGRdetYDWxc",
        "outputId": "a7cd0c38-25a0-486d-b228-57264cc74248"
      },
      "execution_count": 173,
      "outputs": [
        {
          "output_type": "stream",
          "name": "stdout",
          "text": [
            "\u001b[1mdiff --cc hello.py\u001b[m\n",
            "\u001b[1mindex daaca5d,51e9ef2..0000000\u001b[m\n",
            "\u001b[1m--- a/hello.py\u001b[m\n",
            "\u001b[1m+++ b/hello.py\u001b[m\n"
          ]
        }
      ]
    },
    {
      "cell_type": "code",
      "source": [
        "!git status"
      ],
      "metadata": {
        "colab": {
          "base_uri": "https://localhost:8080/"
        },
        "id": "ITeVhJRvDYPj",
        "outputId": "d8abb953-5ed1-449f-ef43-8f05bc951895"
      },
      "execution_count": 174,
      "outputs": [
        {
          "output_type": "stream",
          "name": "stdout",
          "text": [
            "\u001b[31minteractive rebase in progress; onto \u001b[m27480b6\n",
            "Last commands done (2 commands done):\n",
            "   reword 50fbae0 Try a different greeting\n",
            "   pick 8bc5174 Try a different more casual greeting\n",
            "Next commands to do (2 remaining commands):\n",
            "   pick 4354eb3 More dramatic farewell\n",
            "   pick d8c663c Add Terminator farewell\n",
            "  (use \"git rebase --edit-todo\" to view and edit)\n",
            "You are currently rebasing branch 'master' on '27480b6'.\n",
            "  (fix conflicts and then run \"git rebase --continue\")\n",
            "  (use \"git rebase --skip\" to skip this patch)\n",
            "  (use \"git rebase --abort\" to check out the original branch)\n",
            "\n",
            "Unmerged paths:\n",
            "  (use \"git restore --staged <file>...\" to unstage)\n",
            "  (use \"git add <file>...\" to mark resolution)\n",
            "\t\u001b[31mboth modified:   hello.py\u001b[m\n",
            "\n",
            "no changes added to commit (use \"git add\" and/or \"git commit -a\")\n"
          ]
        }
      ]
    },
    {
      "cell_type": "code",
      "source": [
        "!git add hello.py"
      ],
      "metadata": {
        "id": "uHt8kRLWDahX"
      },
      "execution_count": 175,
      "outputs": []
    },
    {
      "cell_type": "code",
      "source": [
        "!git status"
      ],
      "metadata": {
        "colab": {
          "base_uri": "https://localhost:8080/"
        },
        "id": "bH_ZaQgeDdL1",
        "outputId": "5a4d1ef3-1221-4249-eea3-bf294a7d6ae8"
      },
      "execution_count": 176,
      "outputs": [
        {
          "output_type": "stream",
          "name": "stdout",
          "text": [
            "\u001b[31minteractive rebase in progress; onto \u001b[m27480b6\n",
            "Last commands done (2 commands done):\n",
            "   reword 50fbae0 Try a different greeting\n",
            "   pick 8bc5174 Try a different more casual greeting\n",
            "Next commands to do (2 remaining commands):\n",
            "   pick 4354eb3 More dramatic farewell\n",
            "   pick d8c663c Add Terminator farewell\n",
            "  (use \"git rebase --edit-todo\" to view and edit)\n",
            "You are currently rebasing branch 'master' on '27480b6'.\n",
            "  (all conflicts fixed: run \"git rebase --continue\")\n",
            "\n",
            "Changes to be committed:\n",
            "  (use \"git restore --staged <file>...\" to unstage)\n",
            "\t\u001b[32mmodified:   hello.py\u001b[m\n",
            "\n"
          ]
        }
      ]
    },
    {
      "cell_type": "markdown",
      "source": [
        "When prompted type `:wq` to accept the commit message."
      ],
      "metadata": {
        "id": "BYsbpFJ6Jr9Y"
      }
    },
    {
      "cell_type": "code",
      "source": [
        "!git rebase --continue"
      ],
      "metadata": {
        "colab": {
          "base_uri": "https://localhost:8080/"
        },
        "id": "G7g9schNDmuc",
        "outputId": "e93ea871-00ee-4798-fc0d-4331b440db18"
      },
      "execution_count": 177,
      "outputs": [
        {
          "output_type": "stream",
          "name": "stdout",
          "text": [
            "hint: Waiting for your editor to close the file... \u001b7\u001b[?47h\u001b[>4;2m\u001b[?1h\u001b=\u001b[?2004h\u001b[1;24r\u001b[?12h\u001b[?12l\u001b[22;2t\u001b[22;1t\u001b[29m\u001b[m\u001b[H\u001b[2J\u001b[?25l\u001b[24;1H\"/content/git_workshop/.git/COMMIT_EDITMSG\"\r<ontent/git_workshop/.git/COMMIT_EDITMSG\" 17L, 604C\u001b[2;1H▽\u001b[6n\u001b[2;1H  \u001b[1;1H\u001b[>c\u001b]10;?\u0007\u001b]11;?\u0007\u001b[1;1H\u001b[33mTry a different more casual greeting\u001b[m\r\n",
            "\r\n",
            "\u001b[34m# Please enter the commit message for your changes. Lines starting\r\n",
            "# with '#' will be ignored, and an empty message aborts the commit.\r\n",
            "#\r\n",
            "# interactive rebase in progress; onto 27480b6\r\n",
            "# \u001b[m\u001b[35mLast commands done (2 commands done):\u001b[m\r\n",
            "\u001b[34m#    reword 50fbae0 Try a different greeting\r\n",
            "#    pick 8bc5174 Try a different more casual greeting\r\n",
            "# \u001b[m\u001b[35mNext commands to do (2 remaining commands):\u001b[m\r\n",
            "\u001b[34m#    pick 4354eb3 More dramatic farewell\r\n",
            "#    pick d8c663c Add Terminator farewell\r\n",
            "# You are currently rebasing branch 'master' on '27480b6'.\r\n",
            "#\r\n",
            "# \u001b[m\u001b[35mChanges to be committed:\u001b[m\r\n",
            "\u001b[34m#       \u001b[m\u001b[32mmodified\u001b[m\u001b[34m: \u001b[m\u001b[31m  hello.py\u001b[m\r\n",
            "\u001b[34m#\u001b[m\n",
            "\u001b[23;2t\u001b[23;1t\n",
            "\u001b[K[detached HEAD 43ef252] Try a different more casual greeting\n",
            " 1 file changed, 1 insertion(+), 1 deletion(-)\n",
            "\u001b[KSuccessfully rebased and updated refs/heads/master.\n"
          ]
        }
      ]
    },
    {
      "cell_type": "code",
      "source": [
        "!git log -p"
      ],
      "metadata": {
        "colab": {
          "base_uri": "https://localhost:8080/"
        },
        "id": "ZCAcwf2vDzUI",
        "outputId": "ae519e5e-618a-4e38-bf84-d8a77b2702cc"
      },
      "execution_count": 178,
      "outputs": [
        {
          "output_type": "stream",
          "name": "stdout",
          "text": [
            "\u001b[33mcommit 37039e4411642f9e876d76a278e06f788b539899\u001b[m\u001b[33m (\u001b[m\u001b[1;36mHEAD -> \u001b[m\u001b[1;32mmaster\u001b[m\u001b[33m)\u001b[m\n",
            "Author: Jan M. Minihack <jan.minihack@mmh.com>\n",
            "Date:   Fri Jan 27 12:05:25 2023 +0000\n",
            "\n",
            "    Add Terminator farewell\n",
            "\n",
            "\u001b[1mdiff --git a/hello.py b/hello.py\u001b[m\n",
            "\u001b[1mindex 31a5069..10f3469 100644\u001b[m\n",
            "\u001b[1m--- a/hello.py\u001b[m\n",
            "\u001b[1m+++ b/hello.py\u001b[m\n",
            "\u001b[36m@@ -4,3 +4,4 @@\u001b[m \u001b[mprint('Hello world')\u001b[m\n",
            " print(\"and goodbye\")\u001b[m\n",
            " \u001b[m\n",
            " print(\"adieu!\")\u001b[m\n",
            "\u001b[32m+\u001b[m\u001b[32mprint(\"hasta la vista, baby\")\u001b[m\n",
            "\n",
            "\u001b[33mcommit 002f06423437dec88aadb0e6ca388f5806ede4d8\u001b[m\n",
            "Author: Jan M. Minihack <jan.minihack@mmh.com>\n",
            "Date:   Fri Jan 27 12:01:49 2023 +0000\n",
            "\n",
            "    More dramatic farewell\n",
            "\n",
            "\u001b[1mdiff --git a/hello.py b/hello.py\u001b[m\n",
            "\u001b[1mindex 51e9ef2..31a5069 100644\u001b[m\n",
            "\u001b[1m--- a/hello.py\u001b[m\n",
            "\u001b[1m+++ b/hello.py\u001b[m\n",
            "\u001b[36m@@ -2,3 +2,5 @@\u001b[m \u001b[mprint('Yoyoyo!!')\u001b[m\n",
            " print('Hello world')\u001b[m\n",
            " \u001b[m\n",
            " print(\"and goodbye\")\u001b[m\n",
            "\u001b[32m+\u001b[m\n",
            "\u001b[32m+\u001b[m\u001b[32mprint(\"adieu!\")\u001b[m\n",
            "\n",
            "\u001b[33mcommit 43ef25215de1e76a55d0e94dad7d5ab51d5f237f\u001b[m\n",
            "Author: Jan M. Minihack <jan.minihack@mmh.com>\n",
            "Date:   Fri Jan 27 12:01:45 2023 +0000\n",
            "\n",
            "    Try a different more casual greeting\n",
            "\n",
            "\u001b[1mdiff --git a/hello.py b/hello.py\u001b[m\n",
            "\u001b[1mindex daaca5d..51e9ef2 100644\u001b[m\n",
            "\u001b[1m--- a/hello.py\u001b[m\n",
            "\u001b[1m+++ b/hello.py\u001b[m\n",
            "\u001b[36m@@ -1,4 +1,4 @@\u001b[m\n",
            "\u001b[31m-print('Hey!!')\u001b[m\n",
            "\u001b[32m+\u001b[m\u001b[32mprint('Yoyoyo!!')\u001b[m\n",
            " print('Hello world')\u001b[m\n",
            " \u001b[m\n",
            " print(\"and goodbye\")\u001b[m\n",
            "\n",
            "\u001b[33mcommit 781b0389ad5c16d26d2a5c3bdc39791a09bf2226\u001b[m\n",
            "Author: Jan M. Minihack <jan.minihack@mmh.com>\n",
            "Date:   Fri Jan 27 12:01:44 2023 +0000\n",
            "\n",
            "    Try a new greeting\n",
            "\n",
            "\u001b[1mdiff --git a/hello.py b/hello.py\u001b[m\n",
            "\u001b[1mindex d826caf..daaca5d 100644\u001b[m\n",
            "\u001b[1m--- a/hello.py\u001b[m\n",
            "\u001b[1m+++ b/hello.py\u001b[m\n",
            "\u001b[36m@@ -1,3 +1,4 @@\u001b[m\n",
            "\u001b[32m+\u001b[m\u001b[32mprint('Hey!!')\u001b[m\n",
            " print('Hello world')\u001b[m\n",
            " \u001b[m\n",
            " print(\"and goodbye\")\u001b[m\n",
            "\n",
            "\u001b[33mcommit 27480b6e5a79659ad7be147ea6c8e432293f7e03\u001b[m\n",
            "Author: Jan M. Minihack <jan.minihack@mmh.com>\n",
            "Date:   Fri Jan 27 11:58:49 2023 +0000\n",
            "\n",
            "    Add farewell\n",
            "\n",
            "\u001b[1mdiff --git a/hello.py b/hello.py\u001b[m\n",
            "\u001b[1mindex f7d1785..d826caf 100644\u001b[m\n",
            "\u001b[1m--- a/hello.py\u001b[m\n",
            "\u001b[1m+++ b/hello.py\u001b[m\n",
            "\u001b[36m@@ -1 +1,3 @@\u001b[m\n",
            " print('Hello world')\u001b[m\n",
            "\u001b[32m+\u001b[m\n",
            "\u001b[32m+\u001b[m\u001b[32mprint(\"and goodbye\")\u001b[m\n",
            "\n",
            "\u001b[33mcommit 97c3647d7ef773c45bb01d3a415e76f74fbeef2e\u001b[m\n",
            "Author: Jan M. Minihack <jan.minihack@mmh.com>\n",
            "Date:   Fri Jan 27 11:58:32 2023 +0000\n",
            "\n",
            "    Add hello world\n",
            "\n",
            "\u001b[1mdiff --git a/hello.py b/hello.py\u001b[m\n",
            "\u001b[1mnew file mode 100644\u001b[m\n",
            "\u001b[1mindex 0000000..f7d1785\u001b[m\n",
            "\u001b[1m--- /dev/null\u001b[m\n",
            "\u001b[1m+++ b/hello.py\u001b[m\n",
            "\u001b[36m@@ -0,0 +1 @@\u001b[m\n",
            "\u001b[32m+\u001b[m\u001b[32mprint('Hello world')\u001b[m\n"
          ]
        }
      ]
    },
    {
      "cell_type": "code",
      "source": [
        "!git log --graph --oneline master"
      ],
      "metadata": {
        "colab": {
          "base_uri": "https://localhost:8080/"
        },
        "id": "zDQUwXnrEcSi",
        "outputId": "d2c83b11-9a95-4285-fa97-2118cefda7d9"
      },
      "execution_count": 180,
      "outputs": [
        {
          "output_type": "stream",
          "name": "stdout",
          "text": [
            "* \u001b[33m37039e4\u001b[m\u001b[33m (\u001b[m\u001b[1;36mHEAD -> \u001b[m\u001b[1;32mmaster\u001b[m\u001b[33m)\u001b[m Add Terminator farewell\n",
            "* \u001b[33m002f064\u001b[m More dramatic farewell\n",
            "* \u001b[33m43ef252\u001b[m Try a different more casual greeting\n",
            "* \u001b[33m781b038\u001b[m Try a new greeting\n",
            "* \u001b[33m27480b6\u001b[m Add farewell\n",
            "* \u001b[33m97c3647\u001b[m Add hello world\n"
          ]
        }
      ]
    },
    {
      "cell_type": "markdown",
      "source": [
        "Now our branch master is linear! Woohoo! But the overall history is a bit messy with our test branches. But it doesn't matter any more as we don't care about those branches any more. We could delete them."
      ],
      "metadata": {
        "id": "GwrQtBggKH6a"
      }
    },
    {
      "cell_type": "code",
      "source": [
        "!git gr"
      ],
      "metadata": {
        "colab": {
          "base_uri": "https://localhost:8080/"
        },
        "id": "TDXxrtAwD4B9",
        "outputId": "b005660a-f517-4735-9c17-cde28e8dee18"
      },
      "execution_count": 179,
      "outputs": [
        {
          "output_type": "stream",
          "name": "stdout",
          "text": [
            "* \u001b[31m37039e4\t\u001b[32m (HEAD -> master)\u001b[0m Add Terminator farewell \u001b[33m(Jan M. Minihack)\u001b[0m\n",
            "* \u001b[31m002f064\t\u001b[32m\u001b[0m More dramatic farewell \u001b[33m(Jan M. Minihack)\u001b[0m\n",
            "* \u001b[31m43ef252\t\u001b[32m\u001b[0m Try a different more casual greeting \u001b[33m(Jan M. Minihack)\u001b[0m\n",
            "* \u001b[31m781b038\t\u001b[32m\u001b[0m Try a new greeting \u001b[33m(Jan M. Minihack)\u001b[0m\n",
            "\u001b[31m|\u001b[m * \u001b[31md8c663c\t\u001b[32m (violeta/test4)\u001b[0m Add Terminator farewell \u001b[33m(Jan M. Minihack)\u001b[0m\n",
            "\u001b[31m|\u001b[m * \u001b[31m4354eb3\t\u001b[32m (violeta/test3)\u001b[0m More dramatic farewell \u001b[33m(Jan M. Minihack)\u001b[0m\n",
            "\u001b[31m|\u001b[m *   \u001b[31m3fa28cb\t\u001b[32m\u001b[0m Update greeting \u001b[33m(Jan M. Minihack)\u001b[0m\n",
            "\u001b[31m|\u001b[m \u001b[33m|\u001b[m\u001b[34m\\\u001b[m  \n",
            "\u001b[31m|\u001b[m \u001b[33m|\u001b[m * \u001b[31m8bc5174\t\u001b[32m (violeta/test1)\u001b[0m Try a different more casual greeting \u001b[33m(Jan M. Minihack)\u001b[0m\n",
            "\u001b[31m|\u001b[m \u001b[33m|\u001b[m\u001b[31m/\u001b[m  \n",
            "\u001b[31m|\u001b[m\u001b[31m/\u001b[m\u001b[33m|\u001b[m   \n",
            "\u001b[31m|\u001b[m * \u001b[31m50fbae0\t\u001b[32m (violeta/test2)\u001b[0m Try a different greeting \u001b[33m(Jan M. Minihack)\u001b[0m\n",
            "\u001b[31m|\u001b[m\u001b[31m/\u001b[m  \n",
            "* \u001b[31m27480b6\t\u001b[32m\u001b[0m Add farewell \u001b[33m(Jan M. Minihack)\u001b[0m\n",
            "* \u001b[31m97c3647\t\u001b[32m\u001b[0m Add hello world \u001b[33m(Jan M. Minihack)\u001b[0m\n"
          ]
        }
      ]
    },
    {
      "cell_type": "markdown",
      "source": [],
      "metadata": {
        "id": "hbs-E-w4KGhU"
      }
    },
    {
      "cell_type": "code",
      "source": [
        "!git branch -D violeta/test1 violeta/test2 violeta/test3 violeta/test4"
      ],
      "metadata": {
        "colab": {
          "base_uri": "https://localhost:8080/"
        },
        "id": "ZlC_fNDUKFuj",
        "outputId": "9315e404-49c2-4210-ccc4-1080480631a6"
      },
      "execution_count": 182,
      "outputs": [
        {
          "output_type": "stream",
          "name": "stdout",
          "text": [
            "Deleted branch violeta/test1 (was 8bc5174).\n",
            "Deleted branch violeta/test2 (was 50fbae0).\n",
            "Deleted branch violeta/test3 (was 4354eb3).\n",
            "Deleted branch violeta/test4 (was d8c663c).\n"
          ]
        }
      ]
    },
    {
      "cell_type": "code",
      "source": [
        "!git gr"
      ],
      "metadata": {
        "colab": {
          "base_uri": "https://localhost:8080/"
        },
        "id": "ujLYkaVYKk87",
        "outputId": "cbee7f09-08d7-4f42-cc0d-dc16d00c56e0"
      },
      "execution_count": 183,
      "outputs": [
        {
          "output_type": "stream",
          "name": "stdout",
          "text": [
            "* \u001b[31m37039e4\t\u001b[32m (HEAD -> master)\u001b[0m Add Terminator farewell \u001b[33m(Jan M. Minihack)\u001b[0m\n",
            "* \u001b[31m002f064\t\u001b[32m\u001b[0m More dramatic farewell \u001b[33m(Jan M. Minihack)\u001b[0m\n",
            "* \u001b[31m43ef252\t\u001b[32m\u001b[0m Try a different more casual greeting \u001b[33m(Jan M. Minihack)\u001b[0m\n",
            "* \u001b[31m781b038\t\u001b[32m\u001b[0m Try a new greeting \u001b[33m(Jan M. Minihack)\u001b[0m\n",
            "* \u001b[31m27480b6\t\u001b[32m\u001b[0m Add farewell \u001b[33m(Jan M. Minihack)\u001b[0m\n",
            "* \u001b[31m97c3647\t\u001b[32m\u001b[0m Add hello world \u001b[33m(Jan M. Minihack)\u001b[0m\n"
          ]
        }
      ]
    },
    {
      "cell_type": "markdown",
      "source": [
        "Amazing. In a normal situation we may not care about deleting the branches as we move on with our project, but they are just cluttering. Just make sure that if you delete a branch you are not losing any data!"
      ],
      "metadata": {
        "id": "mTKXK7u0Knl3"
      }
    }
  ]
}